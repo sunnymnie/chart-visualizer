{
 "cells": [
  {
   "cell_type": "markdown",
   "id": "1b2ed3a2-93e1-438b-b2f2-201cc939b7df",
   "metadata": {},
   "source": [
    "# Label analysis"
   ]
  },
  {
   "cell_type": "code",
   "execution_count": 1,
   "id": "f40f997d-52e1-4e6e-ae66-47b05e33514e",
   "metadata": {},
   "outputs": [],
   "source": [
    "from binance.client import Client\n",
    "from downloader import Downloader\n",
    "import matplotlib.pyplot as plt\n",
    "dl = Downloader()\n",
    "import pandas as pd\n",
    "import time\n",
    "from datetime import datetime\n",
    "import numpy as np\n",
    "import statsmodels.formula.api as sm\n",
    "import math\n",
    "import seaborn as sns\n",
    "import metalabeller as ml\n",
    "import ta\n",
    "import macdtester as t"
   ]
  },
  {
   "cell_type": "code",
   "execution_count": 25,
   "id": "9cb6e557-0e0d-45e0-a69f-76f3f478f67d",
   "metadata": {},
   "outputs": [],
   "source": [
    "df = dl.get_working_data(\"ATOMUSDT\", span=\"m\")"
   ]
  },
  {
   "cell_type": "code",
   "execution_count": 2,
   "id": "5799d5ca-3784-46f7-b9dc-76b0620d1aec",
   "metadata": {},
   "outputs": [],
   "source": [
    "df = dl.get_working_data(\"ATOMUSDT\", span=\"h\")"
   ]
  },
  {
   "cell_type": "code",
   "execution_count": 3,
   "id": "d6a41597-c24d-4bae-8c05-5953ab02e8f8",
   "metadata": {},
   "outputs": [],
   "source": [
    "df[\"trend\"] = df.close.rolling(500).mean()\n",
    "df.dropna(inplace=True)"
   ]
  },
  {
   "cell_type": "code",
   "execution_count": 4,
   "id": "012ea459-53e5-4631-9b68-75883cf58fd2",
   "metadata": {},
   "outputs": [
    {
     "data": {
      "text/html": [
       "<div>\n",
       "<style scoped>\n",
       "    .dataframe tbody tr th:only-of-type {\n",
       "        vertical-align: middle;\n",
       "    }\n",
       "\n",
       "    .dataframe tbody tr th {\n",
       "        vertical-align: top;\n",
       "    }\n",
       "\n",
       "    .dataframe thead th {\n",
       "        text-align: right;\n",
       "    }\n",
       "</style>\n",
       "<table border=\"1\" class=\"dataframe\">\n",
       "  <thead>\n",
       "    <tr style=\"text-align: right;\">\n",
       "      <th></th>\n",
       "      <th>open</th>\n",
       "      <th>high</th>\n",
       "      <th>low</th>\n",
       "      <th>close</th>\n",
       "      <th>volume</th>\n",
       "      <th>trend</th>\n",
       "    </tr>\n",
       "    <tr>\n",
       "      <th>timestamp</th>\n",
       "      <th></th>\n",
       "      <th></th>\n",
       "      <th></th>\n",
       "      <th></th>\n",
       "      <th></th>\n",
       "      <th></th>\n",
       "    </tr>\n",
       "  </thead>\n",
       "  <tbody>\n",
       "    <tr>\n",
       "      <th>2021-11-09 22:00:00</th>\n",
       "      <td>35.99</td>\n",
       "      <td>36.08</td>\n",
       "      <td>35.75</td>\n",
       "      <td>36.07</td>\n",
       "      <td>33370.53</td>\n",
       "      <td>36.71066</td>\n",
       "    </tr>\n",
       "    <tr>\n",
       "      <th>2021-11-09 23:00:00</th>\n",
       "      <td>36.08</td>\n",
       "      <td>36.15</td>\n",
       "      <td>35.64</td>\n",
       "      <td>35.84</td>\n",
       "      <td>47171.96</td>\n",
       "      <td>36.71510</td>\n",
       "    </tr>\n",
       "    <tr>\n",
       "      <th>2021-11-10 00:00:00</th>\n",
       "      <td>35.83</td>\n",
       "      <td>36.06</td>\n",
       "      <td>35.76</td>\n",
       "      <td>35.89</td>\n",
       "      <td>27237.24</td>\n",
       "      <td>36.71924</td>\n",
       "    </tr>\n",
       "  </tbody>\n",
       "</table>\n",
       "</div>"
      ],
      "text/plain": [
       "                      open   high    low  close    volume     trend\n",
       "timestamp                                                          \n",
       "2021-11-09 22:00:00  35.99  36.08  35.75  36.07  33370.53  36.71066\n",
       "2021-11-09 23:00:00  36.08  36.15  35.64  35.84  47171.96  36.71510\n",
       "2021-11-10 00:00:00  35.83  36.06  35.76  35.89  27237.24  36.71924"
      ]
     },
     "execution_count": 4,
     "metadata": {},
     "output_type": "execute_result"
    }
   ],
   "source": [
    "df.tail(3)"
   ]
  },
  {
   "cell_type": "markdown",
   "id": "6d1ebc78-d6f7-4b4a-8bb0-1db9d650dfc9",
   "metadata": {
    "jp-MarkdownHeadingCollapsed": true,
    "tags": []
   },
   "source": [
    "## Bars\n",
    "- size of bars\n",
    "- closing relatives of bars\n",
    "- size of bars compared to past bars\n",
    "- std of bars compared to past bars"
   ]
  },
  {
   "cell_type": "markdown",
   "id": "70cc39d6-4d7a-4794-bb81-26fa4e087213",
   "metadata": {
    "tags": []
   },
   "source": [
    "### Size of bars"
   ]
  },
  {
   "cell_type": "code",
   "execution_count": 637,
   "id": "0ea39891-8e65-401b-8b04-c5b6d731588d",
   "metadata": {},
   "outputs": [],
   "source": [
    "base = t.get_base_macd_events(df, mlen=3, stdev=1)"
   ]
  },
  {
   "cell_type": "code",
   "execution_count": 638,
   "id": "6b478da4-b774-4371-9c4d-9d02d6a1f55c",
   "metadata": {},
   "outputs": [],
   "source": [
    "# stats = [\"bar_std\", \"bar_std1\", \"bar_std2\", \"bstd_7std\", \"h_impulse\", \"greens\"]\n",
    "stats = [\"crm\", \"crm_compare\", \"cp\", \"ht\", \"ht_std\"]"
   ]
  },
  {
   "cell_type": "code",
   "execution_count": 486,
   "id": "0590e4e8-94b2-4805-b63f-da575fe296dd",
   "metadata": {
    "jupyter": {
     "source_hidden": true
    },
    "tags": []
   },
   "outputs": [],
   "source": [
    "# def bar_std(df, df1=None, df7=None, df30=None):\n",
    "#     heights = df.high-df.low\n",
    "#     return np.std(heights)\n",
    "# def bar_std1(df, df1, df7=None, df30=None):\n",
    "#     heights = df1.high-df1.low\n",
    "#     return np.std(heights)\n",
    "# def bar_std2(df, df1, df7, df30=None):\n",
    "#     heights = df7.high-df7.low\n",
    "#     return np.std(heights)\n",
    "\n",
    "# def bar_std_compare(df, df1, df7, df30):\n",
    "#     base = bar_std(df)\n",
    "#     new = bar_std(df7)\n",
    "#     return base/new\n",
    "\n",
    "# def h_impulse(df, df1, df7, df30):\n",
    "#     \"\"\"height of inpulse before max macd divided by average height\"\"\"\n",
    "#     i = df.macd.idxmax()\n",
    "#     h1 = np.mean(df[:i].high - df[:i].low)\n",
    "#     return h1/(np.mean(df7.high-df7.low))\n",
    "\n",
    "    \n",
    "# def greens(df, df1, df7, df30):\n",
    "#     greens = len(df[df.close>df.open])\n",
    "#     return greens/(len(df))"
   ]
  },
  {
   "cell_type": "code",
   "execution_count": 639,
   "id": "41b4c535-4cfe-4e2f-b86e-460aaaa108b3",
   "metadata": {},
   "outputs": [],
   "source": [
    "def crm(df, df1, df7, df30):\n",
    "    \"\"\"close relative to midpoint\"\"\"\n",
    "    mp = (df.high-df.low)*0.5+df.low\n",
    "    return np.mean(df.close-mp)\n",
    "def crm_compare(df, df1, df7, df30):\n",
    "    \"\"\"crm compare\"\"\"\n",
    "    i = df.macd.idxmax()\n",
    "    h1 = crm(df.loc[:i], df1, df7, df30)\n",
    "    h2 = crm(df.loc[i:], df1, df7, df30)\n",
    "    return h2\n",
    "def cp(df, df1, df7, df30):\n",
    "    return (df.iloc[-1].close-df.iloc[0].open)/(max(df.high)-df.iloc[0].open)\n",
    "\n",
    "def ht(df, df1, df7, df30):\n",
    "    i = df.macd.idxmax()\n",
    "    h = df.loc[:i].high-df.loc[:i].low\n",
    "    return np.mean(h)/df.iloc[0].open\n",
    "\n",
    "def ht_std(df, df1, df7, df30):\n",
    "    i = df.macd.idxmax()\n",
    "    h = df.loc[:i].high-df.loc[:i].low\n",
    "    return np.std(h)/df.iloc[0].open"
   ]
  },
  {
   "cell_type": "code",
   "execution_count": 640,
   "id": "ea8a6ca4-8f8e-4363-ab85-b92090009f81",
   "metadata": {},
   "outputs": [],
   "source": [
    "# funcs = [bar_std, bar_std1, bar_std2, bar_std_compare, h_impulse, greens]\n",
    "funcs = [crm, crm_compare, cp, ht, ht_std]"
   ]
  },
  {
   "cell_type": "code",
   "execution_count": 641,
   "id": "3d6abe05-f646-4c45-8477-971a66354d6c",
   "metadata": {},
   "outputs": [],
   "source": [
    "events = t.get_macd_events(df, base, stats, funcs)"
   ]
  },
  {
   "cell_type": "code",
   "execution_count": 642,
   "id": "2bd5c866-991c-4508-8229-cf3affe8deef",
   "metadata": {},
   "outputs": [
    {
     "data": {
      "text/html": [
       "<div>\n",
       "<style scoped>\n",
       "    .dataframe tbody tr th:only-of-type {\n",
       "        vertical-align: middle;\n",
       "    }\n",
       "\n",
       "    .dataframe tbody tr th {\n",
       "        vertical-align: top;\n",
       "    }\n",
       "\n",
       "    .dataframe thead th {\n",
       "        text-align: right;\n",
       "    }\n",
       "</style>\n",
       "<table border=\"1\" class=\"dataframe\">\n",
       "  <thead>\n",
       "    <tr style=\"text-align: right;\">\n",
       "      <th></th>\n",
       "      <th>crm</th>\n",
       "      <th>crm_compare</th>\n",
       "      <th>cp</th>\n",
       "      <th>ht</th>\n",
       "      <th>ht_std</th>\n",
       "    </tr>\n",
       "    <tr>\n",
       "      <th>t0</th>\n",
       "      <th></th>\n",
       "      <th></th>\n",
       "      <th></th>\n",
       "      <th></th>\n",
       "      <th></th>\n",
       "    </tr>\n",
       "  </thead>\n",
       "  <tbody>\n",
       "    <tr>\n",
       "      <th>2021-10-09 22:00:00</th>\n",
       "      <td>0.103158</td>\n",
       "      <td>0.098000</td>\n",
       "      <td>0.898844</td>\n",
       "      <td>0.015929</td>\n",
       "      <td>0.005077</td>\n",
       "    </tr>\n",
       "    <tr>\n",
       "      <th>2021-10-14 01:00:00</th>\n",
       "      <td>0.258500</td>\n",
       "      <td>-0.026429</td>\n",
       "      <td>0.750000</td>\n",
       "      <td>0.065480</td>\n",
       "      <td>0.017005</td>\n",
       "    </tr>\n",
       "    <tr>\n",
       "      <th>2021-10-16 03:00:00</th>\n",
       "      <td>0.144615</td>\n",
       "      <td>0.076429</td>\n",
       "      <td>0.752665</td>\n",
       "      <td>0.028436</td>\n",
       "      <td>0.011836</td>\n",
       "    </tr>\n",
       "    <tr>\n",
       "      <th>2021-10-22 11:00:00</th>\n",
       "      <td>0.045000</td>\n",
       "      <td>0.092143</td>\n",
       "      <td>0.928571</td>\n",
       "      <td>0.017790</td>\n",
       "      <td>0.008081</td>\n",
       "    </tr>\n",
       "    <tr>\n",
       "      <th>2021-11-01 22:00:00</th>\n",
       "      <td>0.134000</td>\n",
       "      <td>0.085625</td>\n",
       "      <td>0.760494</td>\n",
       "      <td>0.029216</td>\n",
       "      <td>0.018301</td>\n",
       "    </tr>\n",
       "  </tbody>\n",
       "</table>\n",
       "</div>"
      ],
      "text/plain": [
       "                          crm  crm_compare        cp        ht    ht_std\n",
       "t0                                                                      \n",
       "2021-10-09 22:00:00  0.103158     0.098000  0.898844  0.015929  0.005077\n",
       "2021-10-14 01:00:00  0.258500    -0.026429  0.750000  0.065480  0.017005\n",
       "2021-10-16 03:00:00  0.144615     0.076429  0.752665  0.028436  0.011836\n",
       "2021-10-22 11:00:00  0.045000     0.092143  0.928571  0.017790  0.008081\n",
       "2021-11-01 22:00:00  0.134000     0.085625  0.760494  0.029216  0.018301"
      ]
     },
     "execution_count": 642,
     "metadata": {},
     "output_type": "execute_result"
    }
   ],
   "source": [
    "events.tail()"
   ]
  },
  {
   "cell_type": "code",
   "execution_count": 643,
   "id": "67dc89ae-d9c0-4895-b9af-1cc34d5bb34d",
   "metadata": {},
   "outputs": [
    {
     "name": "stdout",
     "output_type": "stream",
     "text": [
      "verify that get_vertical_barrier works as expected, use above code\n",
      "remove above remove duplicates code with BTC data and see if it works\n"
     ]
    }
   ],
   "source": [
    "labels = t.get_labels(df, events, 1, base.set_index(\"t0\").gain.reindex(events.index), tp=2, sl=2, stats=False)"
   ]
  },
  {
   "cell_type": "code",
   "execution_count": 644,
   "id": "6e7c2d38-bdfd-45da-9e3f-677890f2967f",
   "metadata": {},
   "outputs": [
    {
     "data": {
      "text/plain": [
       "[<matplotlib.lines.Line2D at 0x7ffb96e3dc40>]"
      ]
     },
     "execution_count": 644,
     "metadata": {},
     "output_type": "execute_result"
    },
    {
     "data": {
      "image/png": "[encoded data removed]",
      "text/plain": [
       "<Figure size 864x288 with 1 Axes>"
      ]
     },
     "metadata": {
      "needs_background": "light"
     },
     "output_type": "display_data"
    }
   ],
   "source": [
    "b = events[(events.cp>np.median(events.cp)) & (events.ht>np.median(events.ht)) & (events.ht_std>np.median(events.ht_std))]\n",
    "x = b.ht\n",
    "y = labels.reindex(b.index).ret\n",
    "fig, ax = plt.subplots(figsize=(12,4))\n",
    "ax.scatter(x=events.ht, y=labels.ret, c=\"lightgray\")\n",
    "ax.scatter(x=x, y=y)\n",
    "ax.axhline(0, c=\"gray\", alpha=0.3)\n",
    "\n",
    "ax.plot(average_line(x, y, 5), c=\"lightblue\")"
   ]
  },
  {
   "cell_type": "markdown",
   "id": "97c5a660-f374-40ab-bdf5-74460ab53d26",
   "metadata": {
    "tags": []
   },
   "source": [
    "## MACD\n",
    "- momentum divergence\n",
    "- mean macd and compare\n",
    "- std macd and compare\n",
    "- downward momentum compared to upward momentum\n",
    "- substantial macd move, check how many std above mean over past days\n",
    "\n",
    "⭐\n",
    "- md7, 1, 2, 2, atom \n",
    "- dm1, 1, 2, 2, atom\n",
    "- std_move, 7, 2, 2, atom"
   ]
  },
  {
   "cell_type": "code",
   "execution_count": 5,
   "id": "55dec52c-79e1-410a-a0fa-a8ff1dda21bc",
   "metadata": {},
   "outputs": [],
   "source": [
    "base = t.get_base_macd_events(df, mlen=3, stdev=1)"
   ]
  },
  {
   "cell_type": "code",
   "execution_count": 6,
   "id": "7549e58b-e70a-4976-ba5d-ef7800b6efbf",
   "metadata": {},
   "outputs": [],
   "source": [
    "stats = [\"mean_macd\", \"std_macd\", \"md\", \"dm\", \"std_move\"]"
   ]
  },
  {
   "cell_type": "code",
   "execution_count": 19,
   "id": "9e05e31c-7a90-4ffe-beef-3cde8d5bc159",
   "metadata": {},
   "outputs": [],
   "source": [
    "def mean_macd(df, df1, df7, df30):\n",
    "#     return np.mean(df7.macd)/np.mean(df7.close)\n",
    "    return np.mean(df7.macd)-np.mean(df30.macd)\n",
    "def std_macd(df, df1, df7, df30):\n",
    "    return np.std(df7.macd)/np.mean(df7.close)\n",
    "def md(df, df1, df7, df30):\n",
    "    cm = max(df.macd)\n",
    "    pm = max(df7.loc[:df.index[0]].macd)\n",
    "    return cm/(cm+pm)\n",
    "def dm(df, df1, df7, df30):\n",
    "    um = max(df.macd)\n",
    "    dm = min(df1.macd)\n",
    "    return um/(um+abs(dm))\n",
    "def std_move(df, df1, df7, df30):\n",
    "    u = max(df.macd)\n",
    "    df_ = df30[df30.macd>0].loc[:df.index[0]]\n",
    "    mean = np.mean(df_.macd)\n",
    "    std = np.std(df_.macd)\n",
    "    return (u-mean)/std"
   ]
  },
  {
   "cell_type": "code",
   "execution_count": 20,
   "id": "2e4f0e16-9838-4e46-a9dc-2a8082cc73d2",
   "metadata": {},
   "outputs": [],
   "source": [
    "funcs = [mean_macd, std_macd, md, dm, std_move]"
   ]
  },
  {
   "cell_type": "code",
   "execution_count": 21,
   "id": "a67bb104-e47c-4391-ae6d-8688bea6fbdd",
   "metadata": {},
   "outputs": [],
   "source": [
    "events = t.get_macd_events(df, base, stats, funcs)"
   ]
  },
  {
   "cell_type": "code",
   "execution_count": 22,
   "id": "eb67391a-4cdb-4992-96d5-4d74e07f3370",
   "metadata": {},
   "outputs": [
    {
     "name": "stdout",
     "output_type": "stream",
     "text": [
      "verify that get_vertical_barrier works as expected, use above code\n",
      "remove above remove duplicates code with BTC data and see if it works\n"
     ]
    }
   ],
   "source": [
    "labels = t.get_labels(df, events, 0.5, base.set_index(\"t0\").gain.reindex(events.index), tp=1, sl=1, stats=False)\n"
   ]
  },
  {
   "cell_type": "code",
   "execution_count": 23,
   "id": "7fe31728-6dc6-4878-9fed-7c20c2e25eb4",
   "metadata": {},
   "outputs": [],
   "source": [
    "def average_line(x, y, ds):\n",
    "    df = pd.Series(list(y), index=list(x)).sort_index()\n",
    "    df = df.rolling(ds).mean() \n",
    "#     df.index -= abs((df.index[0]-df.dropna().index[0])*0.5)\n",
    "    return df"
   ]
  },
  {
   "cell_type": "code",
   "execution_count": 24,
   "id": "57a95c45-3aa9-4613-9f54-b9cd63dbcf2d",
   "metadata": {},
   "outputs": [
    {
     "data": {
      "text/plain": [
       "[<matplotlib.lines.Line2D at 0x7fce960794c0>]"
      ]
     },
     "execution_count": 24,
     "metadata": {},
     "output_type": "execute_result"
    },
    {
     "data": {
      "image/png": "[encoded data removed]",
      "text/plain": [
       "<Figure size 864x288 with 1 Axes>"
      ]
     },
     "metadata": {
      "needs_background": "light"
     },
     "output_type": "display_data"
    }
   ],
   "source": [
    "x = events.mean_macd\n",
    "y = labels.ret\n",
    "fig, ax = plt.subplots(figsize=(12,4))\n",
    "ax.scatter(x=x, y=y)\n",
    "ax.axhline(0, c=\"gray\", alpha=0.3)\n",
    "\n",
    "ax.plot(average_line(x, y, 20))"
   ]
  },
  {
   "cell_type": "code",
   "execution_count": 450,
   "id": "a83d75fd-36f5-48cc-84d2-eb5fbf1bb3e6",
   "metadata": {},
   "outputs": [
    {
     "data": {
      "text/plain": [
       "[<matplotlib.lines.Line2D at 0x7ffb92241100>]"
      ]
     },
     "execution_count": 450,
     "metadata": {},
     "output_type": "execute_result"
    },
    {
     "data": {
      "image/png": "[encoded data removed]",
      "text/plain": [
       "<Figure size 864x288 with 1 Axes>"
      ]
     },
     "metadata": {
      "needs_background": "light"
     },
     "output_type": "display_data"
    }
   ],
   "source": [
    "x = events[(events.md>0.5) & (events.dm>0.5) & (events.std_move>4)].dm\n",
    "y = labels.reindex(events[(events.md>0.5) & (events.dm>0.5) & (events.std_move>4)].index).ret\n",
    "fig, ax = plt.subplots(figsize=(12,4))\n",
    "ax.scatter(x=events.dm, y=labels.ret, c=\"gray\", alpha=0.5)\n",
    "\n",
    "ax.scatter(x=x, y=y, c=\"green\")\n",
    "ax.axhline(0, c=\"gray\", alpha=0.3)\n",
    "\n",
    "ax.plot(average_line(x, y, 10))\n"
   ]
  },
  {
   "cell_type": "markdown",
   "id": "eab81aca-59f0-4bf1-a764-614de03bc57a",
   "metadata": {},
   "source": [
    "## Other indicators\n",
    "- kelter channel band widths"
   ]
  },
  {
   "cell_type": "markdown",
   "id": "623a8869-8eb6-4365-bfff-c4d7ac5635b6",
   "metadata": {},
   "source": [
    "## Price history\n",
    "- mean change in moving average for past days (500)\n",
    "- current moving average slope\n",
    "- "
   ]
  },
  {
   "cell_type": "code",
   "execution_count": 452,
   "id": "a3679ccf-d633-42fe-867e-101a4a6d6875",
   "metadata": {},
   "outputs": [],
   "source": [
    "base = t.get_base_macd_events(df, mlen=3, stdev=1)"
   ]
  },
  {
   "cell_type": "code",
   "execution_count": 453,
   "id": "dca4e63f-b39e-4ed7-852a-0724a31c5690",
   "metadata": {},
   "outputs": [],
   "source": [
    "stats = [\"trend\", \"trend7d\", \"trend30d\"]"
   ]
  },
  {
   "cell_type": "code",
   "execution_count": 454,
   "id": "5492b1ba-b9f2-41a6-95c7-8e077e48b92a",
   "metadata": {},
   "outputs": [],
   "source": [
    "def trend(df, df1, df7, df30):\n",
    "    return df.iloc[1].trend-df.iloc[0].trend\n",
    "def trend7d(df, df1, df7, df30):\n",
    "    return np.mean(df7.trend.diff())\n",
    "def trend30d(df, df1, df7, df30):\n",
    "    return np.mean(df30.trend.diff())"
   ]
  },
  {
   "cell_type": "code",
   "execution_count": 455,
   "id": "735f3aff-eb74-4117-b69c-fbf6d08835b2",
   "metadata": {},
   "outputs": [],
   "source": [
    "funcs = [trend, trend7d, trend30d]"
   ]
  },
  {
   "cell_type": "code",
   "execution_count": 456,
   "id": "f05b810e-6fac-452d-80fe-6703ef8c6dba",
   "metadata": {},
   "outputs": [],
   "source": [
    "events = t.get_macd_events(df, base, stats, funcs)"
   ]
  },
  {
   "cell_type": "code",
   "execution_count": 457,
   "id": "86691bf3-4984-421d-aa5e-47f96267f23e",
   "metadata": {},
   "outputs": [
    {
     "name": "stdout",
     "output_type": "stream",
     "text": [
      "verify that get_vertical_barrier works as expected, use above code\n",
      "remove above remove duplicates code with BTC data and see if it works\n"
     ]
    }
   ],
   "source": [
    "labels = t.get_labels(df, events, 1, base.set_index(\"t0\").gain.reindex(events.index), tp=2, sl=2, stats=False)"
   ]
  },
  {
   "cell_type": "code",
   "execution_count": 461,
   "id": "fbf262f2-465f-4d85-8173-eca8f5f6c72a",
   "metadata": {},
   "outputs": [
    {
     "data": {
      "text/plain": [
       "[<matplotlib.lines.Line2D at 0x7ffb9122e7f0>]"
      ]
     },
     "execution_count": 461,
     "metadata": {},
     "output_type": "execute_result"
    },
    {
     "data": {
      "image/png": "[encoded data removed]",
      "text/plain": [
       "<Figure size 864x288 with 1 Axes>"
      ]
     },
     "metadata": {
      "needs_background": "light"
     },
     "output_type": "display_data"
    }
   ],
   "source": [
    "x = events.trend30d\n",
    "y = labels.ret\n",
    "fig, ax = plt.subplots(figsize=(12,4))\n",
    "ax.scatter(x=x, y=y)\n",
    "ax.axhline(0, c=\"gray\", alpha=0.3)\n",
    "\n",
    "ax.plot(average_line(x, y, 20))"
   ]
  },
  {
   "cell_type": "markdown",
   "id": "5f5eebb5-6225-41ab-b7cb-fedfbdf15967",
   "metadata": {},
   "source": [
    "## BTC comparison\n",
    "- compare mean hourly gains with mean of btc hourly gains"
   ]
  },
  {
   "cell_type": "code",
   "execution_count": 462,
   "id": "ffdd4230-1e3d-45f7-98ca-5e2a10d0e566",
   "metadata": {},
   "outputs": [],
   "source": [
    "base = t.get_base_macd_events(df, mlen=3, stdev=1)\n",
    "btc = dl.get_working_data(\"BTCUSDT\", span=\"h\")"
   ]
  },
  {
   "cell_type": "code",
   "execution_count": 463,
   "id": "79a3c6d1-a779-4d15-82c7-2172973406a1",
   "metadata": {},
   "outputs": [],
   "source": [
    "stats = [\"dif\"]"
   ]
  },
  {
   "cell_type": "code",
   "execution_count": 481,
   "id": "d088901d-96a2-46e0-8648-afda44393fbb",
   "metadata": {},
   "outputs": [],
   "source": [
    "def dif(df, df1, df7, df30, btc = btc):\n",
    "    df7=df30\n",
    "    btc_ = btc.reindex(df7.index)\n",
    "    mc = (df7.iloc[-1].close-df7.iloc[0].open)/df7.iloc[0].open\n",
    "    mc_btc = (btc_.iloc[-1].close-btc_.iloc[0].open)/btc_.iloc[0].open\n",
    "    return mc-mc_btc"
   ]
  },
  {
   "cell_type": "code",
   "execution_count": 482,
   "id": "916753d8-c069-43dd-8bb0-6a6c1889301e",
   "metadata": {},
   "outputs": [],
   "source": [
    "funcs = [dif]"
   ]
  },
  {
   "cell_type": "code",
   "execution_count": 483,
   "id": "e60f8610-0401-4b20-af52-aa5d4a31f7d6",
   "metadata": {},
   "outputs": [],
   "source": [
    "events = t.get_macd_events(df, base, stats, funcs)"
   ]
  },
  {
   "cell_type": "code",
   "execution_count": 484,
   "id": "e1407aa4-eb69-4f48-9d27-35a258ce12e7",
   "metadata": {},
   "outputs": [
    {
     "name": "stdout",
     "output_type": "stream",
     "text": [
      "verify that get_vertical_barrier works as expected, use above code\n",
      "remove above remove duplicates code with BTC data and see if it works\n"
     ]
    }
   ],
   "source": [
    "labels = t.get_labels(df, events, 1, base.set_index(\"t0\").gain.reindex(events.index), tp=2, sl=2, stats=False)"
   ]
  },
  {
   "cell_type": "code",
   "execution_count": 485,
   "id": "1660d9f5-5408-440b-b312-9214f7b440ba",
   "metadata": {},
   "outputs": [
    {
     "data": {
      "text/plain": [
       "[<matplotlib.lines.Line2D at 0x7ffb92d22b20>]"
      ]
     },
     "execution_count": 485,
     "metadata": {},
     "output_type": "execute_result"
    },
    {
     "data": {
      "image/png": "[encoded data removed]",
      "text/plain": [
       "<Figure size 864x288 with 1 Axes>"
      ]
     },
     "metadata": {
      "needs_background": "light"
     },
     "output_type": "display_data"
    }
   ],
   "source": [
    "x = events.dif\n",
    "y = labels.ret\n",
    "fig, ax = plt.subplots(figsize=(12,4))\n",
    "ax.scatter(x=x, y=y)\n",
    "ax.axhline(0, c=\"gray\", alpha=0.3)\n",
    "\n",
    "ax.plot(average_line(x, y, 20))"
   ]
  },
  {
   "cell_type": "code",
   "execution_count": null,
   "id": "454b78c0-d9bb-432a-addb-d8f01dc49ab4",
   "metadata": {},
   "outputs": [],
   "source": []
  }
 ],
 "metadata": {
  "kernelspec": {
   "display_name": "Python 3 (ipykernel)",
   "language": "python",
   "name": "python3"
  },
  "language_info": {
   "codemirror_mode": {
    "name": "ipython",
    "version": 3
   },
   "file_extension": ".py",
   "mimetype": "text/x-python",
   "name": "python",
   "nbconvert_exporter": "python",
   "pygments_lexer": "ipython3",
   "version": "3.9.7"
  }
 },
 "nbformat": 4,
 "nbformat_minor": 5
}

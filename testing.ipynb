{
 "cells": [
  {
   "cell_type": "markdown",
   "id": "fe0a5467-9c48-4097-b553-2f304b06b094",
   "metadata": {},
   "source": [
    "# Testing"
   ]
  },
  {
   "cell_type": "code",
   "execution_count": 7,
   "id": "719b59da-c267-4d37-93c0-8e27423a7228",
   "metadata": {},
   "outputs": [],
   "source": [
    "# import pandas as pd\n",
    "# import numpy as np\n",
    "from binance.client import Client\n",
    "from downloader import Downloader\n",
    "import matplotlib.pyplot as plt\n",
    "dl = Downloader()"
   ]
  },
  {
   "cell_type": "code",
   "execution_count": 2,
   "id": "fc9878ca-8bc0-47c8-bb4d-37632955fd37",
   "metadata": {},
   "outputs": [],
   "source": [
    "data = dl.get_minutely_data(\"ATOMUSDT\")"
   ]
  },
  {
   "cell_type": "code",
   "execution_count": 3,
   "id": "28fccc60-86b6-4563-9c24-13d8db9a3c51",
   "metadata": {},
   "outputs": [],
   "source": [
    "from datetime import datetime"
   ]
  },
  {
   "cell_type": "code",
   "execution_count": 4,
   "id": "1baad9b4-1df3-480e-aac6-fe01b2418d39",
   "metadata": {},
   "outputs": [],
   "source": [
    "data[\"timestamp\"] = list(map(lambda x: datetime.fromtimestamp(x / 1e3), data.timestamp))"
   ]
  },
  {
   "cell_type": "code",
   "execution_count": 5,
   "id": "7d900cf7-d75e-43e4-aedf-94b4339e0ea2",
   "metadata": {},
   "outputs": [],
   "source": [
    "data.set_index(\"timestamp\", inplace=True)"
   ]
  },
  {
   "cell_type": "code",
   "execution_count": 6,
   "id": "07d0a2f9-b556-4c85-96f2-a135b6c589c4",
   "metadata": {},
   "outputs": [
    {
     "data": {
      "text/html": [
       "<div>\n",
       "<style scoped>\n",
       "    .dataframe tbody tr th:only-of-type {\n",
       "        vertical-align: middle;\n",
       "    }\n",
       "\n",
       "    .dataframe tbody tr th {\n",
       "        vertical-align: top;\n",
       "    }\n",
       "\n",
       "    .dataframe thead th {\n",
       "        text-align: right;\n",
       "    }\n",
       "</style>\n",
       "<table border=\"1\" class=\"dataframe\">\n",
       "  <thead>\n",
       "    <tr style=\"text-align: right;\">\n",
       "      <th></th>\n",
       "      <th>open</th>\n",
       "      <th>high</th>\n",
       "      <th>low</th>\n",
       "      <th>close</th>\n",
       "      <th>volume</th>\n",
       "    </tr>\n",
       "    <tr>\n",
       "      <th>timestamp</th>\n",
       "      <th></th>\n",
       "      <th></th>\n",
       "      <th></th>\n",
       "      <th></th>\n",
       "      <th></th>\n",
       "    </tr>\n",
       "  </thead>\n",
       "  <tbody>\n",
       "    <tr>\n",
       "      <th>2019-04-28 21:00:00</th>\n",
       "      <td>4.755</td>\n",
       "      <td>4.755</td>\n",
       "      <td>4.200</td>\n",
       "      <td>4.302</td>\n",
       "      <td>159193.966</td>\n",
       "    </tr>\n",
       "    <tr>\n",
       "      <th>2019-04-28 21:01:00</th>\n",
       "      <td>4.302</td>\n",
       "      <td>4.387</td>\n",
       "      <td>4.114</td>\n",
       "      <td>4.276</td>\n",
       "      <td>46509.507</td>\n",
       "    </tr>\n",
       "    <tr>\n",
       "      <th>2019-04-28 21:02:00</th>\n",
       "      <td>4.274</td>\n",
       "      <td>4.274</td>\n",
       "      <td>4.013</td>\n",
       "      <td>4.171</td>\n",
       "      <td>90260.338</td>\n",
       "    </tr>\n",
       "    <tr>\n",
       "      <th>2019-04-28 21:03:00</th>\n",
       "      <td>4.153</td>\n",
       "      <td>4.249</td>\n",
       "      <td>4.146</td>\n",
       "      <td>4.203</td>\n",
       "      <td>28693.080</td>\n",
       "    </tr>\n",
       "    <tr>\n",
       "      <th>2019-04-28 21:04:00</th>\n",
       "      <td>4.232</td>\n",
       "      <td>4.250</td>\n",
       "      <td>4.104</td>\n",
       "      <td>4.177</td>\n",
       "      <td>30136.229</td>\n",
       "    </tr>\n",
       "    <tr>\n",
       "      <th>...</th>\n",
       "      <td>...</td>\n",
       "      <td>...</td>\n",
       "      <td>...</td>\n",
       "      <td>...</td>\n",
       "      <td>...</td>\n",
       "    </tr>\n",
       "    <tr>\n",
       "      <th>2021-09-24 22:34:00</th>\n",
       "      <td>41.530</td>\n",
       "      <td>41.540</td>\n",
       "      <td>41.410</td>\n",
       "      <td>41.500</td>\n",
       "      <td>1897.360</td>\n",
       "    </tr>\n",
       "    <tr>\n",
       "      <th>2021-09-24 22:35:00</th>\n",
       "      <td>41.510</td>\n",
       "      <td>41.570</td>\n",
       "      <td>41.470</td>\n",
       "      <td>41.500</td>\n",
       "      <td>1544.430</td>\n",
       "    </tr>\n",
       "    <tr>\n",
       "      <th>2021-09-24 22:36:00</th>\n",
       "      <td>41.540</td>\n",
       "      <td>41.650</td>\n",
       "      <td>41.540</td>\n",
       "      <td>41.620</td>\n",
       "      <td>4405.310</td>\n",
       "    </tr>\n",
       "    <tr>\n",
       "      <th>2021-09-24 22:37:00</th>\n",
       "      <td>41.620</td>\n",
       "      <td>41.790</td>\n",
       "      <td>41.610</td>\n",
       "      <td>41.750</td>\n",
       "      <td>6189.000</td>\n",
       "    </tr>\n",
       "    <tr>\n",
       "      <th>2021-09-24 22:38:00</th>\n",
       "      <td>41.750</td>\n",
       "      <td>41.750</td>\n",
       "      <td>41.700</td>\n",
       "      <td>41.710</td>\n",
       "      <td>28.510</td>\n",
       "    </tr>\n",
       "  </tbody>\n",
       "</table>\n",
       "<p>1263769 rows × 5 columns</p>\n",
       "</div>"
      ],
      "text/plain": [
       "                       open    high     low   close      volume\n",
       "timestamp                                                      \n",
       "2019-04-28 21:00:00   4.755   4.755   4.200   4.302  159193.966\n",
       "2019-04-28 21:01:00   4.302   4.387   4.114   4.276   46509.507\n",
       "2019-04-28 21:02:00   4.274   4.274   4.013   4.171   90260.338\n",
       "2019-04-28 21:03:00   4.153   4.249   4.146   4.203   28693.080\n",
       "2019-04-28 21:04:00   4.232   4.250   4.104   4.177   30136.229\n",
       "...                     ...     ...     ...     ...         ...\n",
       "2021-09-24 22:34:00  41.530  41.540  41.410  41.500    1897.360\n",
       "2021-09-24 22:35:00  41.510  41.570  41.470  41.500    1544.430\n",
       "2021-09-24 22:36:00  41.540  41.650  41.540  41.620    4405.310\n",
       "2021-09-24 22:37:00  41.620  41.790  41.610  41.750    6189.000\n",
       "2021-09-24 22:38:00  41.750  41.750  41.700  41.710      28.510\n",
       "\n",
       "[1263769 rows x 5 columns]"
      ]
     },
     "execution_count": 6,
     "metadata": {},
     "output_type": "execute_result"
    }
   ],
   "source": [
    "data"
   ]
  },
  {
   "cell_type": "code",
   "execution_count": 12,
   "id": "e5f39ce1-44d2-425f-b2ee-ead9a5dfaba9",
   "metadata": {},
   "outputs": [],
   "source": [
    "import mplfinance as mpf"
   ]
  },
  {
   "cell_type": "code",
   "execution_count": 15,
   "id": "9d3e5c1c-34b0-4446-9637-20adb894e534",
   "metadata": {},
   "outputs": [
    {
     "data": {
      "image/png": "[encoded data removed]",
      "text/plain": [
       "<Figure size 800x575 with 4 Axes>"
      ]
     },
     "metadata": {},
     "output_type": "display_data"
    }
   ],
   "source": [
    "mpf.plot(data[-100:], volume=True)"
   ]
  },
  {
   "cell_type": "code",
   "execution_count": null,
   "id": "fdf4cc1d-962f-4caa-81e1-45853f2c05ff",
   "metadata": {},
   "outputs": [],
   "source": []
  }
 ],
 "metadata": {
  "kernelspec": {
   "display_name": "Python 3 (ipykernel)",
   "language": "python",
   "name": "python3"
  },
  "language_info": {
   "codemirror_mode": {
    "name": "ipython",
    "version": 3
   },
   "file_extension": ".py",
   "mimetype": "text/x-python",
   "name": "python",
   "nbconvert_exporter": "python",
   "pygments_lexer": "ipython3",
   "version": "3.9.7"
  }
 },
 "nbformat": 4,
 "nbformat_minor": 5
}

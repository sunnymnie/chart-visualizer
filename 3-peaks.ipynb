{
 "cells": [
  {
   "cell_type": "markdown",
   "id": "869f27a8-4971-4f11-aec7-142ba68e0d78",
   "metadata": {},
   "source": [
    "# 3-peaks pattern recognizer"
   ]
  },
  {
   "cell_type": "code",
   "execution_count": 190,
   "id": "0625a774-05c3-4c02-8d8c-12618823ea4b",
   "metadata": {},
   "outputs": [],
   "source": [
    "from binance.client import Client\n",
    "from downloader import Downloader\n",
    "import matplotlib.pyplot as plt\n",
    "dl = Downloader()\n",
    "import pandas as pd\n",
    "import time\n",
    "from datetime import datetime\n",
    "import numpy as np"
   ]
  },
  {
   "cell_type": "code",
   "execution_count": 185,
   "id": "54960257-72b6-4ca7-a77c-8bb0ea3991e7",
   "metadata": {},
   "outputs": [],
   "source": [
    "df = dl.get_minutely_data(\"HNTUSDT\", past=False)\n",
    "df[\"timestamp\"] = list(map(lambda x: datetime.utcfromtimestamp(x / 1e3), df.timestamp))\n",
    "df.set_index(\"timestamp\", inplace=True)"
   ]
  },
  {
   "cell_type": "code",
   "execution_count": 19,
   "id": "83377e3e-ac38-4b17-86a3-c2fc83c81d40",
   "metadata": {},
   "outputs": [],
   "source": [
    "a = df.to_numpy()"
   ]
  },
  {
   "cell_type": "code",
   "execution_count": 28,
   "id": "0486de04-d37f-4a91-8739-c720ae0a8165",
   "metadata": {},
   "outputs": [],
   "source": [
    "ma = df.open.rolling(window=10000).mean().diff()"
   ]
  },
  {
   "cell_type": "code",
   "execution_count": 107,
   "id": "e62cd418-7205-4562-926e-49959b194509",
   "metadata": {},
   "outputs": [],
   "source": [
    "def find_pivots(df, unit = 1000):\n",
    "    \"\"\"returns timestamps of peaks\"\"\"\n",
    "    i = 0\n",
    "    price = df.open.to_list()\n",
    "    timestamps = df.timestamp.to_list()\n",
    "    h_ts = [] #high timestamps\n",
    "    l_ts = []\n",
    "    past = price[0]\n",
    "    now = price[0]\n",
    "    future = price[unit]\n",
    "    while True:\n",
    "        if now>past and now>future:\n",
    "            h_ts.append(timestamps[i])\n",
    "        elif now<past and now<future:\n",
    "            l_ts.append(timestamps[i])\n",
    "        i += unit\n",
    "        past = now\n",
    "        now = future\n",
    "        try:\n",
    "            future = price[i+unit]\n",
    "        except:\n",
    "            break\n",
    "    return h_ts, l_ts\n",
    "                "
   ]
  },
  {
   "cell_type": "code",
   "execution_count": 112,
   "id": "3318c0b5-a609-49ee-878c-33b982521ff6",
   "metadata": {},
   "outputs": [],
   "source": [
    "h, l = find_pivots(df)"
   ]
  },
  {
   "cell_type": "code",
   "execution_count": 113,
   "id": "3a26632a-2eb3-48d6-8773-c6f2c25a2255",
   "metadata": {},
   "outputs": [
    {
     "data": {
      "text/plain": [
       "<matplotlib.collections.PathCollection at 0x7f9f2c37f850>"
      ]
     },
     "execution_count": 113,
     "metadata": {},
     "output_type": "execute_result"
    },
    {
     "data": {
      "image/png": "[encoded data removed]",
      "text/plain": [
       "<Figure size 864x432 with 1 Axes>"
      ]
     },
     "metadata": {
      "needs_background": "light"
     },
     "output_type": "display_data"
    }
   ],
   "source": [
    "\n",
    "fig, ax = plt.subplots(figsize=(12, 6))\n",
    "plotdf = df[-200000:-100000]\n",
    "h = list(filter(lambda x: x>plotdf.iloc[0].timestamp and x<plotdf.iloc[-1].timestamp, h))\n",
    "l = list(filter(lambda x: x>plotdf.iloc[0].timestamp and x<plotdf.iloc[-1].timestamp, l))\n",
    "\n",
    "plt.yscale(\"log\")\n",
    "ax.plot(plotdf.set_index(\"timestamp\").open, c=\"lightblue\")\n",
    "ax.scatter(h, plotdf.set_index(\"timestamp\").reindex(h)[\"open\"], c=\"green\")\n",
    "ax.scatter(l, plotdf.set_index(\"timestamp\").reindex(l)[\"open\"], c=\"red\")"
   ]
  },
  {
   "cell_type": "code",
   "execution_count": 114,
   "id": "8a3731f9-13f7-43a9-96f3-0c205a0c3212",
   "metadata": {},
   "outputs": [],
   "source": [
    "def get_daily_vol(close, span0=10000):\n",
    "    \"\"\"\n",
    "    daily vol, reindexed to close\n",
    "    \n",
    "    Arguments:\n",
    "    close -- daily close (probably Pandas series)\n",
    "    span0 -- span lol (probably int)\n",
    "    Purpose:\n",
    "    use the output of this function to set default profit taking and stop-loss limit\n",
    "    \"\"\"\n",
    "    df0 = close.index.searchsorted(close.index-pd.Timedelta(days=2))\n",
    "    df0=df0[df0>0]\n",
    "    df0=pd.Series(close.index[df0-1], index=close.index[close.shape[0]-df0.shape[0]:])\n",
    "    df0=close.loc[df0.index]/close.loc[df0.values].values-1 # daily returns\n",
    "    df0=df0.ewm(span=span0).std()\n",
    "    return df0"
   ]
  },
  {
   "cell_type": "code",
   "execution_count": 186,
   "id": "25d3ce7a-c6a6-471c-bdc6-b9a5e153de3c",
   "metadata": {},
   "outputs": [],
   "source": [
    "vol = get_daily_vol(df.open)"
   ]
  },
  {
   "cell_type": "code",
   "execution_count": 187,
   "id": "0592e68b-4527-4e8d-99c3-be19dc6402b9",
   "metadata": {},
   "outputs": [
    {
     "data": {
      "text/plain": [
       "timestamp\n",
       "2020-09-26 09:01:00         NaN\n",
       "2020-09-26 09:02:00    0.502381\n",
       "2020-09-26 09:03:00    0.383427\n",
       "2020-09-26 09:04:00    0.322004\n",
       "2020-09-26 09:05:00    0.279546\n",
       "                         ...   \n",
       "2021-10-04 03:26:00    0.071474\n",
       "2021-10-04 03:27:00    0.071471\n",
       "2021-10-04 03:28:00    0.071468\n",
       "2021-10-04 03:29:00    0.071465\n",
       "2021-10-04 03:30:00    0.071462\n",
       "Name: open, Length: 535446, dtype: float64"
      ]
     },
     "execution_count": 187,
     "metadata": {},
     "output_type": "execute_result"
    }
   ],
   "source": [
    "vol"
   ]
  },
  {
   "cell_type": "code",
   "execution_count": 188,
   "id": "2a55ea09-4cbd-4d90-a2ac-76183a70d751",
   "metadata": {},
   "outputs": [],
   "source": [
    "def get_t_events(g_raw, h, m):\n",
    "    \"\"\"\n",
    "    Implementation of the symmetric CUSUM filter seen in chapter 2.5.2\n",
    "    \n",
    "    Arguments:\n",
    "    g_raw -- the raw time series to filter (possibly pandas series)\n",
    "    h -- threshold pandas series vol\n",
    "    m -- minimum threshold (float, ex: 0.02)\n",
    "    \n",
    "    Purpose:\n",
    "    The CUSUM filter is a quality-control method, designed to detect a shift in the mean value of a measured quantity away from a target value. \n",
    "    \"\"\"\n",
    "    h = h.map(lambda x: x if x>=m else m)\n",
    "    t_events, s_pos, s_neg = [], 0, 0\n",
    "#     side = []\n",
    "    diff = np.log(g_raw).diff().dropna()\n",
    "    for i in diff.index[1:]:\n",
    "        try:\n",
    "            pos, neg = float(s_pos+diff.loc[i]), float(s_neg+diff.loc[i])\n",
    "        except Exception as e:\n",
    "            print(e)\n",
    "            print(s_pos+diff.loc[i], type(s_pos+diff.loc[i]))\n",
    "            print(s_neg+diff.loc[i], type(s_neg+diff.loc[i]))\n",
    "            break\n",
    "        s_pos, s_neg=max(0., pos), min(0., neg)\n",
    "        try: \n",
    "            th = h.loc[i]\n",
    "        except:\n",
    "            try:\n",
    "                th = h[h.index.get_loc(i, method=\"pad\")]\n",
    "            except: #i is before the first ever h\n",
    "                continue\n",
    "        if s_neg<-th:\n",
    "            s_neg=0\n",
    "            t_events.append(i)\n",
    "#             side.append(0)\n",
    "        if s_pos>th:\n",
    "            s_pos=0\n",
    "            t_events.append(i)\n",
    "#             side.append(1)\n",
    "    return pd.DatetimeIndex(t_events)"
   ]
  },
  {
   "cell_type": "code",
   "execution_count": 191,
   "id": "99d96736-a08c-4d16-a561-14971040b901",
   "metadata": {},
   "outputs": [
    {
     "data": {
      "text/plain": [
       "DatetimeIndex(['2020-09-26 09:01:00', '2020-09-26 09:01:00',\n",
       "               '2020-09-26 12:39:00', '2020-09-26 13:31:00',\n",
       "               '2020-09-27 06:53:00', '2020-09-27 19:23:00',\n",
       "               '2020-09-28 04:12:00', '2020-09-28 06:16:00',\n",
       "               '2020-09-28 07:04:00', '2020-09-28 08:24:00',\n",
       "               ...\n",
       "               '2021-09-29 17:45:00', '2021-09-30 01:12:00',\n",
       "               '2021-09-30 11:41:00', '2021-10-01 08:02:00',\n",
       "               '2021-10-01 11:46:00', '2021-10-02 06:34:00',\n",
       "               '2021-10-03 15:22:00', '2021-10-03 15:47:00',\n",
       "               '2021-10-03 19:06:00', '2021-10-04 03:04:00'],\n",
       "              dtype='datetime64[ns]', length=778, freq=None)"
      ]
     },
     "execution_count": 191,
     "metadata": {},
     "output_type": "execute_result"
    }
   ],
   "source": [
    "t_events = get_t_events(df.close,h=vol, m=0.01)\n",
    "t_events"
   ]
  },
  {
   "cell_type": "markdown",
   "id": "2fa2a4d4-d4ff-4017-a99a-f7bf452aab70",
   "metadata": {},
   "source": [
    "## TODO: Continue from 1.0-get-vol and convert all that to here"
   ]
  },
  {
   "cell_type": "code",
   "execution_count": null,
   "id": "4da24a7e-4745-4ebc-bbb5-ef099b616936",
   "metadata": {},
   "outputs": [],
   "source": []
  }
 ],
 "metadata": {
  "kernelspec": {
   "display_name": "Python 3 (ipykernel)",
   "language": "python",
   "name": "python3"
  },
  "language_info": {
   "codemirror_mode": {
    "name": "ipython",
    "version": 3
   },
   "file_extension": ".py",
   "mimetype": "text/x-python",
   "name": "python",
   "nbconvert_exporter": "python",
   "pygments_lexer": "ipython3",
   "version": "3.9.7"
  }
 },
 "nbformat": 4,
 "nbformat_minor": 5
}

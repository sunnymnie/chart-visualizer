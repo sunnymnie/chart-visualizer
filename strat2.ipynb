{
 "cells": [
  {
   "cell_type": "markdown",
   "id": "83537d39-1f50-4e20-ab7c-17cdee829b3b",
   "metadata": {},
   "source": [
    "# Simple BB strategy"
   ]
  },
  {
   "cell_type": "code",
   "execution_count": 1,
   "id": "bd772ad8-69a0-48e8-b973-459a284ae76e",
   "metadata": {},
   "outputs": [],
   "source": [
    "from binance.client import Client\n",
    "from downloader import Downloader\n",
    "import matplotlib.pyplot as plt\n",
    "dl = Downloader()\n",
    "import pandas as pd\n",
    "import time\n",
    "from datetime import datetime\n",
    "import numpy as np\n",
    "import statsmodels.formula.api as sm\n",
    "import math\n",
    "import metalabeller as ml"
   ]
  },
  {
   "cell_type": "code",
   "execution_count": 2,
   "id": "125c4440-0e79-4896-9055-6c980e0747b6",
   "metadata": {},
   "outputs": [],
   "source": [
    "import statsmodels.formula.api as sm\n",
    "import statsmodels.tsa.stattools as ts\n",
    "import statsmodels.tsa.vector_ar.vecm as vm"
   ]
  },
  {
   "cell_type": "code",
   "execution_count": 3,
   "id": "059ce610-6514-4f46-8ec7-42e3360d7388",
   "metadata": {},
   "outputs": [],
   "source": [
    "df = dl.get_working_data(\"ATOMUSDT\")"
   ]
  },
  {
   "cell_type": "markdown",
   "id": "6b09068b-5a6c-4c88-bf25-7e84a1adc2ff",
   "metadata": {},
   "source": [
    "## Hedge ratio calc"
   ]
  },
  {
   "cell_type": "code",
   "execution_count": 4,
   "id": "03f7ca33-a0ac-4726-9199-cdffb24c68e5",
   "metadata": {},
   "outputs": [],
   "source": [
    "df1 = dl.get_working_data(\"BTCUSDT\")\n",
    "df2 = df"
   ]
  },
  {
   "cell_type": "code",
   "execution_count": 5,
   "id": "dc5cdcbc-5fe3-4017-8e13-df68775773d5",
   "metadata": {},
   "outputs": [],
   "source": [
    "df_ = df1.open.rename(\"A\").to_frame()\n",
    "df_[\"B\"] = df2.open\n",
    "df_ = df_[1000:]\n",
    "df_ = df_.dropna()"
   ]
  },
  {
   "cell_type": "code",
   "execution_count": 6,
   "id": "4d859ccb-6a5a-4396-b24b-85cd8fa76f59",
   "metadata": {},
   "outputs": [
    {
     "data": {
      "text/plain": [
       "33.233266830444336"
      ]
     },
     "execution_count": 6,
     "metadata": {},
     "output_type": "execute_result"
    }
   ],
   "source": [
    "start = time.time()\n",
    "ds = 6000 #downsample\n",
    "hedge_ratio = np.full(df_.shape[0], np.nan)\n",
    "l = math.floor(len(hedge_ratio)/ds)\n",
    "index = []\n",
    "for t in np.arange(l):\n",
    "#     clear_output()\n",
    "#     print(f\"{t} < {l}\")\n",
    "    regress_results = sm.ols(formula=\"B ~ A\",\n",
    "                             data=df_[:t*ds+1]).fit()  # Note this can deal with NaN in top row\n",
    "    hedge_ratio[t] = regress_results.params[1]\n",
    "    index.append(df_.index[t*ds+1])\n",
    "time.time()-start"
   ]
  },
  {
   "cell_type": "code",
   "execution_count": 7,
   "id": "9be4b24c-f82e-4ee0-9d5a-9a3e93641d75",
   "metadata": {},
   "outputs": [
    {
     "data": {
      "text/plain": [
       "[<matplotlib.lines.Line2D at 0x7fe274108eb0>]"
      ]
     },
     "execution_count": 7,
     "metadata": {},
     "output_type": "execute_result"
    },
    {
     "data": {
      "image/png": "[encoded data removed]",
      "text/plain": [
       "<Figure size 432x288 with 1 Axes>"
      ]
     },
     "metadata": {
      "needs_background": "light"
     },
     "output_type": "display_data"
    }
   ],
   "source": [
    "plt.plot(hedge_ratio)"
   ]
  },
  {
   "cell_type": "code",
   "execution_count": 8,
   "id": "a372f1a0-87ac-4b7e-85b4-28789c521f33",
   "metadata": {},
   "outputs": [],
   "source": [
    "def get_spread(hedge_ratio, index, df, lookback):\n",
    "    \"\"\"returns the spread. Lookback is for mean and std. length is [-length:] of spread\"\"\"\n",
    "    hr = pd.Series(hedge_ratio).dropna().rename(\"hr\").to_frame()\n",
    "\n",
    "    hr[\"index\"] = index\n",
    "    hr.set_index(\"index\", inplace=True)\n",
    "\n",
    "    spread = pd.DataFrame(hr.hr, index=df.index)\n",
    "\n",
    "    spread.ffill(inplace=True)\n",
    "\n",
    "    spread = pd.Series((df['B'] - spread[\"hr\"] * df['A'])).rename(\"spread\").to_frame()\n",
    "    spread[\"mean\"] = spread.spread.rolling(lookback).mean()\n",
    "    spread[\"std\"] =  spread.spread.rolling(lookback).std()\n",
    "    spread[\"zscore\"] = pd.Series((spread[\"spread\"]-spread[\"mean\"])/spread[\"std\"])\n",
    "\n",
    "    spread = spread.dropna()\n",
    "    return spread"
   ]
  },
  {
   "cell_type": "code",
   "execution_count": 9,
   "id": "f06a3fb8-2f37-42fd-9033-a0fd80ecd95e",
   "metadata": {},
   "outputs": [],
   "source": [
    "spread = get_spread(hedge_ratio, index, df_, 60*24*30)"
   ]
  },
  {
   "cell_type": "code",
   "execution_count": 10,
   "id": "f6da96f1-51be-456d-9aac-c6168ef52fa1",
   "metadata": {},
   "outputs": [
    {
     "data": {
      "text/html": [
       "<div>\n",
       "<style scoped>\n",
       "    .dataframe tbody tr th:only-of-type {\n",
       "        vertical-align: middle;\n",
       "    }\n",
       "\n",
       "    .dataframe tbody tr th {\n",
       "        vertical-align: top;\n",
       "    }\n",
       "\n",
       "    .dataframe thead th {\n",
       "        text-align: right;\n",
       "    }\n",
       "</style>\n",
       "<table border=\"1\" class=\"dataframe\">\n",
       "  <thead>\n",
       "    <tr style=\"text-align: right;\">\n",
       "      <th></th>\n",
       "      <th>spread</th>\n",
       "      <th>mean</th>\n",
       "      <th>std</th>\n",
       "      <th>zscore</th>\n",
       "    </tr>\n",
       "    <tr>\n",
       "      <th>timestamp</th>\n",
       "      <th></th>\n",
       "      <th></th>\n",
       "      <th></th>\n",
       "      <th></th>\n",
       "    </tr>\n",
       "  </thead>\n",
       "  <tbody>\n",
       "    <tr>\n",
       "      <th>2019-05-29 14:00:00</th>\n",
       "      <td>4.627278</td>\n",
       "      <td>0.244795</td>\n",
       "      <td>6.455399</td>\n",
       "      <td>0.678886</td>\n",
       "    </tr>\n",
       "    <tr>\n",
       "      <th>2019-05-29 14:01:00</th>\n",
       "      <td>4.628218</td>\n",
       "      <td>0.244913</td>\n",
       "      <td>6.455432</td>\n",
       "      <td>0.679010</td>\n",
       "    </tr>\n",
       "    <tr>\n",
       "      <th>2019-05-29 14:02:00</th>\n",
       "      <td>4.633209</td>\n",
       "      <td>0.245031</td>\n",
       "      <td>6.455466</td>\n",
       "      <td>0.679762</td>\n",
       "    </tr>\n",
       "    <tr>\n",
       "      <th>2019-05-29 14:03:00</th>\n",
       "      <td>4.652212</td>\n",
       "      <td>0.245153</td>\n",
       "      <td>6.455500</td>\n",
       "      <td>0.682683</td>\n",
       "    </tr>\n",
       "    <tr>\n",
       "      <th>2019-05-29 14:04:00</th>\n",
       "      <td>4.660150</td>\n",
       "      <td>0.245273</td>\n",
       "      <td>6.455533</td>\n",
       "      <td>0.683890</td>\n",
       "    </tr>\n",
       "    <tr>\n",
       "      <th>...</th>\n",
       "      <td>...</td>\n",
       "      <td>...</td>\n",
       "      <td>...</td>\n",
       "      <td>...</td>\n",
       "    </tr>\n",
       "    <tr>\n",
       "      <th>2021-10-20 23:08:00</th>\n",
       "      <td>8.279111</td>\n",
       "      <td>14.817421</td>\n",
       "      <td>5.819513</td>\n",
       "      <td>-1.123515</td>\n",
       "    </tr>\n",
       "    <tr>\n",
       "      <th>2021-10-20 23:09:00</th>\n",
       "      <td>8.252404</td>\n",
       "      <td>14.817188</td>\n",
       "      <td>5.819575</td>\n",
       "      <td>-1.128052</td>\n",
       "    </tr>\n",
       "    <tr>\n",
       "      <th>2021-10-20 23:10:00</th>\n",
       "      <td>8.213300</td>\n",
       "      <td>14.816956</td>\n",
       "      <td>5.819638</td>\n",
       "      <td>-1.134719</td>\n",
       "    </tr>\n",
       "    <tr>\n",
       "      <th>2021-10-20 23:11:00</th>\n",
       "      <td>8.212768</td>\n",
       "      <td>14.816722</td>\n",
       "      <td>5.819700</td>\n",
       "      <td>-1.134758</td>\n",
       "    </tr>\n",
       "    <tr>\n",
       "      <th>2021-10-20 23:12:00</th>\n",
       "      <td>8.222998</td>\n",
       "      <td>14.816490</td>\n",
       "      <td>5.819763</td>\n",
       "      <td>-1.132948</td>\n",
       "    </tr>\n",
       "  </tbody>\n",
       "</table>\n",
       "<p>1257503 rows × 4 columns</p>\n",
       "</div>"
      ],
      "text/plain": [
       "                       spread       mean       std    zscore\n",
       "timestamp                                                   \n",
       "2019-05-29 14:00:00  4.627278   0.244795  6.455399  0.678886\n",
       "2019-05-29 14:01:00  4.628218   0.244913  6.455432  0.679010\n",
       "2019-05-29 14:02:00  4.633209   0.245031  6.455466  0.679762\n",
       "2019-05-29 14:03:00  4.652212   0.245153  6.455500  0.682683\n",
       "2019-05-29 14:04:00  4.660150   0.245273  6.455533  0.683890\n",
       "...                       ...        ...       ...       ...\n",
       "2021-10-20 23:08:00  8.279111  14.817421  5.819513 -1.123515\n",
       "2021-10-20 23:09:00  8.252404  14.817188  5.819575 -1.128052\n",
       "2021-10-20 23:10:00  8.213300  14.816956  5.819638 -1.134719\n",
       "2021-10-20 23:11:00  8.212768  14.816722  5.819700 -1.134758\n",
       "2021-10-20 23:12:00  8.222998  14.816490  5.819763 -1.132948\n",
       "\n",
       "[1257503 rows x 4 columns]"
      ]
     },
     "execution_count": 10,
     "metadata": {},
     "output_type": "execute_result"
    }
   ],
   "source": [
    "spread"
   ]
  },
  {
   "cell_type": "code",
   "execution_count": 90,
   "id": "514ed297-8a1c-4143-86b6-5c919574ac08",
   "metadata": {
    "tags": []
   },
   "outputs": [],
   "source": [
    "def get_sma(prices, rate):\n",
    "    return prices.rolling(rate).mean()\n",
    "\n",
    "def get_bollinger_bands(prices, rate, std=2):\n",
    "    sma = get_sma(prices, rate) # <-- Get SMA for 20 days\n",
    "    std_ = prices.rolling(rate).std() # <-- Get rolling standard deviation for 20 days\n",
    "    bollinger_up = sma + std_ * std # Calculate top band\n",
    "    bollinger_down = sma - std_ * std # Calculate bottom band\n",
    "    return bollinger_up, bollinger_down\n",
    "\n",
    "def get_bb_side(df, cooldown=7*24*60):\n",
    "    ind_ = df.index\n",
    "    ind = []\n",
    "    side_ = []\n",
    "    bought=False\n",
    "    c = cooldown\n",
    "    df_ = df.to_numpy()\n",
    "    diff = df.bb_h.diff()/df.open\n",
    "    for i in range(len(df_)):\n",
    "#         if (df_[i][1]>df_[i][5]) and (diff.iloc[i]>0.0003):\n",
    "        if (df_[i][1]>df_[i][5]) and spread.iloc[i].zscore<-1:\n",
    "            if not bought:\n",
    "                bought=True\n",
    "                ind.append(i)\n",
    "                side_.append(1)\n",
    "            c=cooldown\n",
    "#             else:\n",
    "#                 c -= 1\n",
    "#                 if c==0:\n",
    "#                     c=cooldown\n",
    "#                     bought=False\n",
    "#         elif (df_[i][2]<df_[i][6]) and diff.iloc[i]<-0.0003:\n",
    "#             if not bought:\n",
    "#                 bought=True\n",
    "#                 ind.append(i)\n",
    "#                 side_.append(-1)\n",
    "# #             else:\n",
    "# #                 c -= 1\n",
    "# #                 if c==0:\n",
    "# #                     c=cooldown\n",
    "# #                     bought=False\n",
    "        else:\n",
    "            c-=1 if (c!=0) else 0\n",
    "            if (c==0): bought=False\n",
    "    ind = list(map(lambda x: ind_[x], ind))\n",
    "    return pd.Series(side_, index=ind)\n",
    "\n",
    "def get_bb_side1(df, cooldown=7*24*60):\n",
    "    ind_ = df.index\n",
    "    ind = []\n",
    "    side_ = []\n",
    "    bought=False\n",
    "    c = cooldown\n",
    "    df_ = df.to_numpy()\n",
    "    diff = df.bb_h.diff()/df.open\n",
    "    for i in range(len(df_)):\n",
    "#         if (df_[i][1]>df_[i][5]) and (diff.iloc[i]>0.0003):\n",
    "        if (df_[i][1]>df_[i][5]) and spread.iloc[i].zscore<-1:\n",
    "            if not bought:\n",
    "                bought=True\n",
    "                ind.append(i)\n",
    "                side_.append(1)\n",
    "            c=cooldown\n",
    "        elif (df_[i][2]<df_[i][6]) and spread.iloc[i].zscore>1:\n",
    "            if not bought:\n",
    "                bought=True\n",
    "                ind.append(i)\n",
    "                side_.append(-1)\n",
    "            c=cooldown\n",
    "        else:\n",
    "            c-=1 if (c!=0) else 0\n",
    "            if (c==0): bought=False\n",
    "    ind = list(map(lambda x: ind_[x], ind))\n",
    "    return pd.Series(side_, index=ind)"
   ]
  },
  {
   "cell_type": "code",
   "execution_count": 92,
   "id": "88450c03-e273-433a-a598-bf6664c479c2",
   "metadata": {
    "tags": []
   },
   "outputs": [],
   "source": [
    "df[\"bb_h\"], df[\"bb_l\"] = get_bollinger_bands(df.open, 21*60)\n",
    "df.dropna(inplace=True)\n",
    "df = df.reindex(spread.index)\n",
    "side = get_bb_side1(df, cooldown=7*24*60)"
   ]
  },
  {
   "cell_type": "code",
   "execution_count": 41,
   "id": "59c1ac9c-092a-49d4-81ba-f42b63a75aa1",
   "metadata": {},
   "outputs": [],
   "source": [
    "vol = ml.get_daily_vol(df.open, span=7*24*60, days=7, hours=0)\n",
    "t_events = ml.get_t_events(df.open, vol, 0.02, pos=False)"
   ]
  },
  {
   "cell_type": "code",
   "execution_count": 73,
   "id": "96d53e3b-dddd-44dd-a106-8db2da76e6f6",
   "metadata": {},
   "outputs": [
    {
     "data": {
      "text/plain": [
       "971"
      ]
     },
     "execution_count": 73,
     "metadata": {},
     "output_type": "execute_result"
    }
   ],
   "source": [
    "len(t_events)"
   ]
  },
  {
   "cell_type": "code",
   "execution_count": 74,
   "id": "cbb739bb-f083-4458-8659-9be05c6f8ed8",
   "metadata": {},
   "outputs": [],
   "source": [
    "spread[\"mvg\"] = get_sma(df.open, 60*24*14)"
   ]
  },
  {
   "cell_type": "code",
   "execution_count": 63,
   "id": "82d77740-7bcd-4c89-8255-2bc16cc6e457",
   "metadata": {
    "jupyter": {
     "source_hidden": true
    },
    "tags": []
   },
   "outputs": [],
   "source": [
    "side = []\n",
    "z_lim = 1 #min z score\n",
    "z_avg = 0 #min average zscore\n",
    "z_t = pd.Timedelta(days=14) #average over how long\n",
    "t_events = list(filter(lambda x: x-z_t>=spread.index[0] and x<=spread.index[-1], t_events))\n",
    "for date in t_events:\n",
    "    if (spread.loc[date].zscore > z_lim) and \\\n",
    "        (spread.loc[date-z_t:date].zscore.mean() > z_avg):\n",
    "        side.append(date)\n",
    "side = pd.Series(1, index=side)"
   ]
  },
  {
   "cell_type": "code",
   "execution_count": 93,
   "id": "fef72196-8657-4214-8635-07244ad74647",
   "metadata": {},
   "outputs": [
    {
     "data": {
      "text/plain": [
       "[<matplotlib.lines.Line2D at 0x7fe162c43100>]"
      ]
     },
     "execution_count": 93,
     "metadata": {},
     "output_type": "execute_result"
    },
    {
     "data": {
      "image/png": "[encoded data removed]",
      "text/plain": [
       "<Figure size 864x288 with 3 Axes>"
      ]
     },
     "metadata": {
      "needs_background": "light"
     },
     "output_type": "display_data"
    }
   ],
   "source": [
    "fig, ax=plt.subplots(figsize=(12,4))\n",
    "ax.set_yscale('log')\n",
    "ax.plot(df.open, c=\"black\", alpha=0.1)\n",
    "ax.scatter(side.index, df.reindex(side.index).open, c=\"green\", s=1)\n",
    "ax.plot(spread.mvg, c=\"blue\", alpha=0.1)\n",
    "ax1 = ax.twinx()\n",
    "ax1.plot(df.volume, c=\"gray\", alpha=0.2)\n",
    "ax2 = ax.twinx()\n",
    "ax2.plot(spread.zscore, c=\"red\", alpha=0.1)"
   ]
  },
  {
   "cell_type": "code",
   "execution_count": 94,
   "id": "e33efe7d-2f1e-4614-b966-ae7df6013906",
   "metadata": {},
   "outputs": [
    {
     "name": "stdout",
     "output_type": "stream",
     "text": [
      "verify that get_vertical_barrier works as expected, use above code\n",
      "remove above remove duplicates code with BTC data and see if it works\n"
     ]
    }
   ],
   "source": [
    "t1 = ml.get_vertical_barrier(df.open, side.index, num_days=7, hours=0)"
   ]
  },
  {
   "cell_type": "code",
   "execution_count": 95,
   "id": "9fba538a-8815-4387-9ee4-565e16bdbd1f",
   "metadata": {},
   "outputs": [
    {
     "data": {
      "text/plain": [
       "2019-06-10 23:34:00   2019-06-17 23:34:00\n",
       "2019-07-18 12:20:00   2019-07-25 12:20:00\n",
       "2019-09-10 13:18:00   2019-09-17 13:18:00\n",
       "2019-10-19 12:57:00   2019-10-26 12:57:00\n",
       "2019-11-07 01:44:00   2019-11-14 01:44:00\n",
       "2019-12-13 13:59:00   2019-12-20 13:59:00\n",
       "2020-01-11 21:45:00   2020-01-18 21:45:00\n",
       "2020-02-12 23:40:00   2020-02-19 23:40:00\n",
       "2020-04-14 12:49:00   2020-04-21 12:49:00\n",
       "2020-04-22 05:52:00   2020-04-29 05:52:00\n",
       "2020-05-06 04:31:00   2020-05-13 04:31:00\n",
       "2020-05-31 22:44:00   2020-06-07 22:44:00\n",
       "2020-07-06 21:55:00   2020-07-13 21:55:00\n",
       "2020-08-11 08:39:00   2020-08-18 08:39:00\n",
       "2020-09-04 21:57:00   2020-09-11 21:57:00\n",
       "2020-10-12 10:42:00   2020-10-19 10:42:00\n",
       "2020-11-22 10:55:00   2020-11-29 10:55:00\n",
       "2020-12-13 22:19:00   2020-12-20 22:19:00\n",
       "2020-12-24 13:55:00   2020-12-31 13:55:00\n",
       "2021-02-10 12:33:00   2021-02-17 12:33:00\n",
       "2021-03-07 06:59:00   2021-03-14 06:59:00\n",
       "2021-03-23 16:35:00   2021-03-30 16:35:00\n",
       "2021-04-16 01:48:00   2021-04-23 01:48:00\n",
       "2021-05-08 15:55:00   2021-05-15 15:55:00\n",
       "2021-06-13 17:59:00   2021-06-20 17:59:00\n",
       "2021-06-23 04:38:00   2021-06-30 04:38:00\n",
       "2021-07-06 17:11:00   2021-07-13 17:11:00\n",
       "2021-07-26 00:59:00   2021-08-02 00:59:00\n",
       "2021-08-09 11:00:00   2021-08-16 11:00:00\n",
       "2021-10-12 14:29:00   2021-10-19 14:29:00\n",
       "Name: timestamp, dtype: datetime64[ns]"
      ]
     },
     "execution_count": 95,
     "metadata": {},
     "output_type": "execute_result"
    }
   ],
   "source": [
    "t1"
   ]
  },
  {
   "cell_type": "code",
   "execution_count": 96,
   "id": "1e177152-911f-42ce-9952-94658f487945",
   "metadata": {},
   "outputs": [],
   "source": [
    "ptsl = [1,1]\n",
    "min_ret = 0.00\n",
    "    \n",
    "events = ml.get_events(df.open,side.index,ptsl,vol,min_ret,1,t1=t1,side=side)\n",
    "labels = ml.get_bins(events, df.open, t1)"
   ]
  },
  {
   "cell_type": "code",
   "execution_count": 97,
   "id": "4b510a78-f7cc-4bb2-9f64-b0ff0a0061b7",
   "metadata": {},
   "outputs": [
    {
     "data": {
      "image/png": "[encoded data removed]",
      "text/plain": [
       "<Figure size 432x288 with 1 Axes>"
      ]
     },
     "metadata": {
      "needs_background": "light"
     },
     "output_type": "display_data"
    }
   ],
   "source": [
    "labels = labels[labels.ret != 0]\n",
    "fig, ax = plt.subplots()\n",
    "ax.set_title('profitability distribution')\n",
    "ax.hist(labels.ret)\n",
    "plt.show()"
   ]
  },
  {
   "cell_type": "code",
   "execution_count": 98,
   "id": "520841ac-8c4b-4cec-b086-3a4317544951",
   "metadata": {},
   "outputs": [
    {
     "data": {
      "text/plain": [
       "ret       0.006696\n",
       "target    0.566667\n",
       "dtype: float64"
      ]
     },
     "execution_count": 98,
     "metadata": {},
     "output_type": "execute_result"
    }
   ],
   "source": [
    "labels.mean()"
   ]
  },
  {
   "cell_type": "code",
   "execution_count": 89,
   "id": "a7d66bbc-5e59-4788-99d7-949029258d8e",
   "metadata": {},
   "outputs": [
    {
     "data": {
      "text/plain": [
       "<AxesSubplot:>"
      ]
     },
     "execution_count": 89,
     "metadata": {},
     "output_type": "execute_result"
    },
    {
     "data": {
      "image/png": "[encoded data removed]",
      "text/plain": [
       "<Figure size 432x288 with 1 Axes>"
      ]
     },
     "metadata": {
      "needs_background": "light"
     },
     "output_type": "display_data"
    }
   ],
   "source": [
    "new = pd.to_numeric(events.t1-events.index)/86400000000000\n",
    "new.hist()"
   ]
  },
  {
   "cell_type": "code",
   "execution_count": 52,
   "id": "5e65b1de-1374-4634-8172-088515305661",
   "metadata": {},
   "outputs": [
    {
     "data": {
      "text/html": [
       "<div>\n",
       "<style scoped>\n",
       "    .dataframe tbody tr th:only-of-type {\n",
       "        vertical-align: middle;\n",
       "    }\n",
       "\n",
       "    .dataframe tbody tr th {\n",
       "        vertical-align: top;\n",
       "    }\n",
       "\n",
       "    .dataframe thead th {\n",
       "        text-align: right;\n",
       "    }\n",
       "</style>\n",
       "<table border=\"1\" class=\"dataframe\">\n",
       "  <thead>\n",
       "    <tr style=\"text-align: right;\">\n",
       "      <th></th>\n",
       "      <th>t1</th>\n",
       "      <th>trgt</th>\n",
       "      <th>side</th>\n",
       "    </tr>\n",
       "  </thead>\n",
       "  <tbody>\n",
       "    <tr>\n",
       "      <th>2019-11-08 01:12:00</th>\n",
       "      <td>2019-11-10 15:57:00</td>\n",
       "      <td>0.071286</td>\n",
       "      <td>1</td>\n",
       "    </tr>\n",
       "    <tr>\n",
       "      <th>2019-11-08 13:24:00</th>\n",
       "      <td>2019-11-10 11:28:00</td>\n",
       "      <td>0.069472</td>\n",
       "      <td>1</td>\n",
       "    </tr>\n",
       "    <tr>\n",
       "      <th>2019-11-09 03:37:00</th>\n",
       "      <td>2019-11-10 14:33:00</td>\n",
       "      <td>0.063938</td>\n",
       "      <td>1</td>\n",
       "    </tr>\n",
       "    <tr>\n",
       "      <th>2019-11-10 11:50:00</th>\n",
       "      <td>2019-11-10 17:54:00</td>\n",
       "      <td>0.054370</td>\n",
       "      <td>1</td>\n",
       "    </tr>\n",
       "    <tr>\n",
       "      <th>2019-11-11 13:58:00</th>\n",
       "      <td>2019-11-12 15:21:00</td>\n",
       "      <td>0.055101</td>\n",
       "      <td>1</td>\n",
       "    </tr>\n",
       "    <tr>\n",
       "      <th>...</th>\n",
       "      <td>...</td>\n",
       "      <td>...</td>\n",
       "      <td>...</td>\n",
       "    </tr>\n",
       "    <tr>\n",
       "      <th>2021-09-24 11:11:00</th>\n",
       "      <td>2021-09-24 21:43:00</td>\n",
       "      <td>0.162939</td>\n",
       "      <td>1</td>\n",
       "    </tr>\n",
       "    <tr>\n",
       "      <th>2021-09-24 21:39:00</th>\n",
       "      <td>2021-09-26 07:51:00</td>\n",
       "      <td>0.153803</td>\n",
       "      <td>1</td>\n",
       "    </tr>\n",
       "    <tr>\n",
       "      <th>2021-09-26 00:51:00</th>\n",
       "      <td>2021-10-03 00:51:00</td>\n",
       "      <td>0.145009</td>\n",
       "      <td>1</td>\n",
       "    </tr>\n",
       "    <tr>\n",
       "      <th>2021-09-26 16:30:00</th>\n",
       "      <td>2021-09-28 15:18:00</td>\n",
       "      <td>0.149207</td>\n",
       "      <td>1</td>\n",
       "    </tr>\n",
       "    <tr>\n",
       "      <th>2021-10-02 17:56:00</th>\n",
       "      <td>2021-10-04 15:03:00</td>\n",
       "      <td>0.118649</td>\n",
       "      <td>1</td>\n",
       "    </tr>\n",
       "  </tbody>\n",
       "</table>\n",
       "<p>215 rows × 3 columns</p>\n",
       "</div>"
      ],
      "text/plain": [
       "                                     t1      trgt  side\n",
       "2019-11-08 01:12:00 2019-11-10 15:57:00  0.071286     1\n",
       "2019-11-08 13:24:00 2019-11-10 11:28:00  0.069472     1\n",
       "2019-11-09 03:37:00 2019-11-10 14:33:00  0.063938     1\n",
       "2019-11-10 11:50:00 2019-11-10 17:54:00  0.054370     1\n",
       "2019-11-11 13:58:00 2019-11-12 15:21:00  0.055101     1\n",
       "...                                 ...       ...   ...\n",
       "2021-09-24 11:11:00 2021-09-24 21:43:00  0.162939     1\n",
       "2021-09-24 21:39:00 2021-09-26 07:51:00  0.153803     1\n",
       "2021-09-26 00:51:00 2021-10-03 00:51:00  0.145009     1\n",
       "2021-09-26 16:30:00 2021-09-28 15:18:00  0.149207     1\n",
       "2021-10-02 17:56:00 2021-10-04 15:03:00  0.118649     1\n",
       "\n",
       "[215 rows x 3 columns]"
      ]
     },
     "execution_count": 52,
     "metadata": {},
     "output_type": "execute_result"
    }
   ],
   "source": [
    "events"
   ]
  },
  {
   "cell_type": "code",
   "execution_count": 53,
   "id": "dd775325-e3c1-4e0f-b93a-eb3883d0e3f3",
   "metadata": {},
   "outputs": [
    {
     "data": {
      "text/html": [
       "<div>\n",
       "<style scoped>\n",
       "    .dataframe tbody tr th:only-of-type {\n",
       "        vertical-align: middle;\n",
       "    }\n",
       "\n",
       "    .dataframe tbody tr th {\n",
       "        vertical-align: top;\n",
       "    }\n",
       "\n",
       "    .dataframe thead th {\n",
       "        text-align: right;\n",
       "    }\n",
       "</style>\n",
       "<table border=\"1\" class=\"dataframe\">\n",
       "  <thead>\n",
       "    <tr style=\"text-align: right;\">\n",
       "      <th></th>\n",
       "      <th>ret</th>\n",
       "      <th>target</th>\n",
       "    </tr>\n",
       "  </thead>\n",
       "  <tbody>\n",
       "    <tr>\n",
       "      <th>2019-11-08 01:12:00</th>\n",
       "      <td>0.072523</td>\n",
       "      <td>1.0</td>\n",
       "    </tr>\n",
       "    <tr>\n",
       "      <th>2019-11-08 13:24:00</th>\n",
       "      <td>0.070213</td>\n",
       "      <td>1.0</td>\n",
       "    </tr>\n",
       "    <tr>\n",
       "      <th>2019-11-09 03:37:00</th>\n",
       "      <td>0.066393</td>\n",
       "      <td>1.0</td>\n",
       "    </tr>\n",
       "    <tr>\n",
       "      <th>2019-11-10 11:50:00</th>\n",
       "      <td>0.055295</td>\n",
       "      <td>1.0</td>\n",
       "    </tr>\n",
       "    <tr>\n",
       "      <th>2019-11-11 13:58:00</th>\n",
       "      <td>-0.055452</td>\n",
       "      <td>0.0</td>\n",
       "    </tr>\n",
       "    <tr>\n",
       "      <th>...</th>\n",
       "      <td>...</td>\n",
       "      <td>...</td>\n",
       "    </tr>\n",
       "    <tr>\n",
       "      <th>2021-09-24 11:11:00</th>\n",
       "      <td>0.165213</td>\n",
       "      <td>1.0</td>\n",
       "    </tr>\n",
       "    <tr>\n",
       "      <th>2021-09-24 21:39:00</th>\n",
       "      <td>-0.155156</td>\n",
       "      <td>0.0</td>\n",
       "    </tr>\n",
       "    <tr>\n",
       "      <th>2021-09-26 00:51:00</th>\n",
       "      <td>-0.011500</td>\n",
       "      <td>0.0</td>\n",
       "    </tr>\n",
       "    <tr>\n",
       "      <th>2021-09-26 16:30:00</th>\n",
       "      <td>-0.150579</td>\n",
       "      <td>0.0</td>\n",
       "    </tr>\n",
       "    <tr>\n",
       "      <th>2021-10-02 17:56:00</th>\n",
       "      <td>-0.129531</td>\n",
       "      <td>0.0</td>\n",
       "    </tr>\n",
       "  </tbody>\n",
       "</table>\n",
       "<p>215 rows × 2 columns</p>\n",
       "</div>"
      ],
      "text/plain": [
       "                          ret  target\n",
       "2019-11-08 01:12:00  0.072523     1.0\n",
       "2019-11-08 13:24:00  0.070213     1.0\n",
       "2019-11-09 03:37:00  0.066393     1.0\n",
       "2019-11-10 11:50:00  0.055295     1.0\n",
       "2019-11-11 13:58:00 -0.055452     0.0\n",
       "...                       ...     ...\n",
       "2021-09-24 11:11:00  0.165213     1.0\n",
       "2021-09-24 21:39:00 -0.155156     0.0\n",
       "2021-09-26 00:51:00 -0.011500     0.0\n",
       "2021-09-26 16:30:00 -0.150579     0.0\n",
       "2021-10-02 17:56:00 -0.129531     0.0\n",
       "\n",
       "[215 rows x 2 columns]"
      ]
     },
     "execution_count": 53,
     "metadata": {},
     "output_type": "execute_result"
    }
   ],
   "source": [
    "labels"
   ]
  },
  {
   "cell_type": "code",
   "execution_count": null,
   "id": "9b1bde83-ff34-4e3d-b279-94ee858b8be3",
   "metadata": {},
   "outputs": [],
   "source": []
  }
 ],
 "metadata": {
  "kernelspec": {
   "display_name": "Python 3 (ipykernel)",
   "language": "python",
   "name": "python3"
  },
  "language_info": {
   "codemirror_mode": {
    "name": "ipython",
    "version": 3
   },
   "file_extension": ".py",
   "mimetype": "text/x-python",
   "name": "python",
   "nbconvert_exporter": "python",
   "pygments_lexer": "ipython3",
   "version": "3.9.7"
  }
 },
 "nbformat": 4,
 "nbformat_minor": 5
}

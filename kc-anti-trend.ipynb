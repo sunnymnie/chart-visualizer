{
 "cells": [
  {
   "cell_type": "markdown",
   "id": "ce865532-1a8f-4f1c-ae1a-5a1fa08b7452",
   "metadata": {},
   "source": [
    "# KC immediate anti-trend strat"
   ]
  },
  {
   "cell_type": "code",
   "execution_count": 1,
   "id": "89c104ff-fbda-413a-a5f1-ce2425113099",
   "metadata": {},
   "outputs": [],
   "source": [
    "from binance.client import Client\n",
    "from downloader import Downloader\n",
    "import matplotlib.pyplot as plt\n",
    "dl = Downloader()\n",
    "import pandas as pd\n",
    "import time\n",
    "from datetime import datetime\n",
    "import numpy as np\n",
    "import statsmodels.formula.api as sm\n",
    "import math\n",
    "import seaborn as sns\n",
    "import metalabeller as ml\n",
    "import ta\n",
    "import macdtester as t"
   ]
  },
  {
   "cell_type": "markdown",
   "id": "8688a78b-c522-4a00-9908-e34d6ab8d239",
   "metadata": {
    "tags": []
   },
   "source": [
    "## Functions"
   ]
  },
  {
   "cell_type": "code",
   "execution_count": 2,
   "id": "25c75a97-4a6f-49d5-987d-4dae0ebaedff",
   "metadata": {
    "tags": []
   },
   "outputs": [],
   "source": [
    "def get_kc(high, low, close, kc_lookback, multiplier, atr_lookback):\n",
    "    tr1 = pd.DataFrame(high - low)\n",
    "    tr2 = pd.DataFrame(abs(high - close.shift()))\n",
    "    tr3 = pd.DataFrame(abs(low - close.shift()))\n",
    "    frames = [tr1, tr2, tr3]\n",
    "    tr = pd.concat(frames, axis = 1, join = 'inner').max(axis = 1)\n",
    "    atr = tr.ewm(alpha = 1/atr_lookback).mean()\n",
    "    \n",
    "    kc_middle = close.ewm(kc_lookback).mean()\n",
    "    kc_upper = close.ewm(kc_lookback).mean() + multiplier * atr\n",
    "    kc_lower = close.ewm(kc_lookback).mean() - multiplier * atr\n",
    "    \n",
    "    return kc_middle, kc_upper, kc_lower\n",
    "    \n",
    "# For metadata\n",
    "def get_kc_events(df, events, stats, funcs, l1=1, l2=3, l3=7):\n",
    "    \"\"\"\n",
    "    stats = ['gain', v0'...]\n",
    "    funcs = [func_1, func_2...], needs to be same length as stats\n",
    "    l1, l2, l3 are lengths from t0-days:t0. \n",
    "    All funcs need to have signature func(df_1, df_7, df_30)->float\n",
    "    \n",
    "    Returns macd events, dropped nans. \n",
    "    \"\"\"\n",
    "    if len(stats) != len(funcs): raise Exception\n",
    "    result = pd.DataFrame(np.nan, index=events.index, columns=stats)\n",
    "\n",
    "    for i in range(len(events)):\n",
    "        t0 = events.index[i]\n",
    "        if t0-pd.Timedelta(days=l3) not in df.index: continue\n",
    "        df_1 = df.loc[t0-pd.Timedelta(days=l1):t0]\n",
    "        df_2 = df.loc[t0-pd.Timedelta(days=l2):t0]\n",
    "        df_3 = df.loc[t0-pd.Timedelta(days=l3):t0]\n",
    "        row = dict.fromkeys(stats, 0.)\n",
    "        \n",
    "        for j in range(len(stats)):\n",
    "            row[stats[j]] = funcs[j](df_1, df_2, df_3)\n",
    "\n",
    "        result.iloc[i] = row\n",
    "    return result.dropna()\n",
    "\n",
    "#For plotting\n",
    "def average_line(x, y, ds):\n",
    "    df = pd.Series(list(y), index=list(x)).sort_index()\n",
    "    df = df.rolling(ds).mean() \n",
    "#     df.index -= abs((df.index[0]-df.dropna().index[0])*0.5)\n",
    "    return df"
   ]
  },
  {
   "cell_type": "markdown",
   "id": "92df329a-c4bb-4b31-9f5b-32a7de72f743",
   "metadata": {
    "tags": []
   },
   "source": [
    "## Init data"
   ]
  },
  {
   "cell_type": "code",
   "execution_count": 702,
   "id": "bcd19dd0-f099-4a23-9947-86eba17cdf04",
   "metadata": {
    "collapsed": true,
    "jupyter": {
     "outputs_hidden": true
    },
    "tags": []
   },
   "outputs": [
    {
     "ename": "KeyboardInterrupt",
     "evalue": "",
     "output_type": "error",
     "traceback": [
      "\u001b[0;31m---------------------------------------------------------------------------\u001b[0m",
      "\u001b[0;31mFileNotFoundError\u001b[0m                         Traceback (most recent call last)",
      "\u001b[0;32m/Volumes/Storage/Programming/chart-visualizer/downloader.py\u001b[0m in \u001b[0;36mget_past_bars\u001b[0;34m(self, pair, span)\u001b[0m\n\u001b[1;32m     53\u001b[0m         \u001b[0;32mtry\u001b[0m\u001b[0;34m:\u001b[0m\u001b[0;34m\u001b[0m\u001b[0;34m\u001b[0m\u001b[0m\n\u001b[0;32m---> 54\u001b[0;31m             \u001b[0;32mreturn\u001b[0m \u001b[0mself\u001b[0m\u001b[0;34m.\u001b[0m\u001b[0mread_df\u001b[0m\u001b[0;34m(\u001b[0m\u001b[0mpair_\u001b[0m\u001b[0;34m)\u001b[0m\u001b[0;34m\u001b[0m\u001b[0;34m\u001b[0m\u001b[0m\n\u001b[0m\u001b[1;32m     55\u001b[0m         \u001b[0;32mexcept\u001b[0m\u001b[0;34m:\u001b[0m\u001b[0;34m\u001b[0m\u001b[0;34m\u001b[0m\u001b[0m\n",
      "\u001b[0;32m/Volumes/Storage/Programming/chart-visualizer/downloader.py\u001b[0m in \u001b[0;36mread_df\u001b[0;34m(self, pair)\u001b[0m\n\u001b[1;32m    103\u001b[0m         \u001b[0;34m\"\"\"reads the dataframe\"\"\"\u001b[0m\u001b[0;34m\u001b[0m\u001b[0;34m\u001b[0m\u001b[0m\n\u001b[0;32m--> 104\u001b[0;31m         \u001b[0;32mreturn\u001b[0m \u001b[0mpd\u001b[0m\u001b[0;34m.\u001b[0m\u001b[0mread_csv\u001b[0m\u001b[0;34m(\u001b[0m\u001b[0;34mf\"{self.PATH + pair}.csv\"\u001b[0m\u001b[0;34m)\u001b[0m\u001b[0;34m\u001b[0m\u001b[0;34m\u001b[0m\u001b[0m\n\u001b[0m\u001b[1;32m    105\u001b[0m \u001b[0;34m\u001b[0m\u001b[0m\n",
      "\u001b[0;32m/Volumes/Storage/Programming/chart-visualizer/env/lib/python3.9/site-packages/pandas/util/_decorators.py\u001b[0m in \u001b[0;36mwrapper\u001b[0;34m(*args, **kwargs)\u001b[0m\n\u001b[1;32m    310\u001b[0m                 )\n\u001b[0;32m--> 311\u001b[0;31m             \u001b[0;32mreturn\u001b[0m \u001b[0mfunc\u001b[0m\u001b[0;34m(\u001b[0m\u001b[0;34m*\u001b[0m\u001b[0margs\u001b[0m\u001b[0;34m,\u001b[0m \u001b[0;34m**\u001b[0m\u001b[0mkwargs\u001b[0m\u001b[0;34m)\u001b[0m\u001b[0;34m\u001b[0m\u001b[0;34m\u001b[0m\u001b[0m\n\u001b[0m\u001b[1;32m    312\u001b[0m \u001b[0;34m\u001b[0m\u001b[0m\n",
      "\u001b[0;32m/Volumes/Storage/Programming/chart-visualizer/env/lib/python3.9/site-packages/pandas/io/parsers/readers.py\u001b[0m in \u001b[0;36mread_csv\u001b[0;34m(filepath_or_buffer, sep, delimiter, header, names, index_col, usecols, squeeze, prefix, mangle_dupe_cols, dtype, engine, converters, true_values, false_values, skipinitialspace, skiprows, skipfooter, nrows, na_values, keep_default_na, na_filter, verbose, skip_blank_lines, parse_dates, infer_datetime_format, keep_date_col, date_parser, dayfirst, cache_dates, iterator, chunksize, compression, thousands, decimal, lineterminator, quotechar, quoting, doublequote, escapechar, comment, encoding, encoding_errors, dialect, error_bad_lines, warn_bad_lines, on_bad_lines, delim_whitespace, low_memory, memory_map, float_precision, storage_options)\u001b[0m\n\u001b[1;32m    585\u001b[0m \u001b[0;34m\u001b[0m\u001b[0m\n\u001b[0;32m--> 586\u001b[0;31m     \u001b[0;32mreturn\u001b[0m \u001b[0m_read\u001b[0m\u001b[0;34m(\u001b[0m\u001b[0mfilepath_or_buffer\u001b[0m\u001b[0;34m,\u001b[0m \u001b[0mkwds\u001b[0m\u001b[0;34m)\u001b[0m\u001b[0;34m\u001b[0m\u001b[0;34m\u001b[0m\u001b[0m\n\u001b[0m\u001b[1;32m    587\u001b[0m \u001b[0;34m\u001b[0m\u001b[0m\n",
      "\u001b[0;32m/Volumes/Storage/Programming/chart-visualizer/env/lib/python3.9/site-packages/pandas/io/parsers/readers.py\u001b[0m in \u001b[0;36m_read\u001b[0;34m(filepath_or_buffer, kwds)\u001b[0m\n\u001b[1;32m    481\u001b[0m     \u001b[0;31m# Create the parser.\u001b[0m\u001b[0;34m\u001b[0m\u001b[0;34m\u001b[0m\u001b[0m\n\u001b[0;32m--> 482\u001b[0;31m     \u001b[0mparser\u001b[0m \u001b[0;34m=\u001b[0m \u001b[0mTextFileReader\u001b[0m\u001b[0;34m(\u001b[0m\u001b[0mfilepath_or_buffer\u001b[0m\u001b[0;34m,\u001b[0m \u001b[0;34m**\u001b[0m\u001b[0mkwds\u001b[0m\u001b[0;34m)\u001b[0m\u001b[0;34m\u001b[0m\u001b[0;34m\u001b[0m\u001b[0m\n\u001b[0m\u001b[1;32m    483\u001b[0m \u001b[0;34m\u001b[0m\u001b[0m\n",
      "\u001b[0;32m/Volumes/Storage/Programming/chart-visualizer/env/lib/python3.9/site-packages/pandas/io/parsers/readers.py\u001b[0m in \u001b[0;36m__init__\u001b[0;34m(self, f, engine, **kwds)\u001b[0m\n\u001b[1;32m    810\u001b[0m \u001b[0;34m\u001b[0m\u001b[0m\n\u001b[0;32m--> 811\u001b[0;31m         \u001b[0mself\u001b[0m\u001b[0;34m.\u001b[0m\u001b[0m_engine\u001b[0m \u001b[0;34m=\u001b[0m \u001b[0mself\u001b[0m\u001b[0;34m.\u001b[0m\u001b[0m_make_engine\u001b[0m\u001b[0;34m(\u001b[0m\u001b[0mself\u001b[0m\u001b[0;34m.\u001b[0m\u001b[0mengine\u001b[0m\u001b[0;34m)\u001b[0m\u001b[0;34m\u001b[0m\u001b[0;34m\u001b[0m\u001b[0m\n\u001b[0m\u001b[1;32m    812\u001b[0m \u001b[0;34m\u001b[0m\u001b[0m\n",
      "\u001b[0;32m/Volumes/Storage/Programming/chart-visualizer/env/lib/python3.9/site-packages/pandas/io/parsers/readers.py\u001b[0m in \u001b[0;36m_make_engine\u001b[0;34m(self, engine)\u001b[0m\n\u001b[1;32m   1039\u001b[0m         \u001b[0;31m# error: Too many arguments for \"ParserBase\"\u001b[0m\u001b[0;34m\u001b[0m\u001b[0;34m\u001b[0m\u001b[0m\n\u001b[0;32m-> 1040\u001b[0;31m         \u001b[0;32mreturn\u001b[0m \u001b[0mmapping\u001b[0m\u001b[0;34m[\u001b[0m\u001b[0mengine\u001b[0m\u001b[0;34m]\u001b[0m\u001b[0;34m(\u001b[0m\u001b[0mself\u001b[0m\u001b[0;34m.\u001b[0m\u001b[0mf\u001b[0m\u001b[0;34m,\u001b[0m \u001b[0;34m**\u001b[0m\u001b[0mself\u001b[0m\u001b[0;34m.\u001b[0m\u001b[0moptions\u001b[0m\u001b[0;34m)\u001b[0m  \u001b[0;31m# type: ignore[call-arg]\u001b[0m\u001b[0;34m\u001b[0m\u001b[0;34m\u001b[0m\u001b[0m\n\u001b[0m\u001b[1;32m   1041\u001b[0m \u001b[0;34m\u001b[0m\u001b[0m\n",
      "\u001b[0;32m/Volumes/Storage/Programming/chart-visualizer/env/lib/python3.9/site-packages/pandas/io/parsers/c_parser_wrapper.py\u001b[0m in \u001b[0;36m__init__\u001b[0;34m(self, src, **kwds)\u001b[0m\n\u001b[1;32m     50\u001b[0m         \u001b[0;31m# open handles\u001b[0m\u001b[0;34m\u001b[0m\u001b[0;34m\u001b[0m\u001b[0m\n\u001b[0;32m---> 51\u001b[0;31m         \u001b[0mself\u001b[0m\u001b[0;34m.\u001b[0m\u001b[0m_open_handles\u001b[0m\u001b[0;34m(\u001b[0m\u001b[0msrc\u001b[0m\u001b[0;34m,\u001b[0m \u001b[0mkwds\u001b[0m\u001b[0;34m)\u001b[0m\u001b[0;34m\u001b[0m\u001b[0;34m\u001b[0m\u001b[0m\n\u001b[0m\u001b[1;32m     52\u001b[0m         \u001b[0;32massert\u001b[0m \u001b[0mself\u001b[0m\u001b[0;34m.\u001b[0m\u001b[0mhandles\u001b[0m \u001b[0;32mis\u001b[0m \u001b[0;32mnot\u001b[0m \u001b[0;32mNone\u001b[0m\u001b[0;34m\u001b[0m\u001b[0;34m\u001b[0m\u001b[0m\n",
      "\u001b[0;32m/Volumes/Storage/Programming/chart-visualizer/env/lib/python3.9/site-packages/pandas/io/parsers/base_parser.py\u001b[0m in \u001b[0;36m_open_handles\u001b[0;34m(self, src, kwds)\u001b[0m\n\u001b[1;32m    221\u001b[0m         \"\"\"\n\u001b[0;32m--> 222\u001b[0;31m         self.handles = get_handle(\n\u001b[0m\u001b[1;32m    223\u001b[0m             \u001b[0msrc\u001b[0m\u001b[0;34m,\u001b[0m\u001b[0;34m\u001b[0m\u001b[0;34m\u001b[0m\u001b[0m\n",
      "\u001b[0;32m/Volumes/Storage/Programming/chart-visualizer/env/lib/python3.9/site-packages/pandas/io/common.py\u001b[0m in \u001b[0;36mget_handle\u001b[0;34m(path_or_buf, mode, encoding, compression, memory_map, is_text, errors, storage_options)\u001b[0m\n\u001b[1;32m    700\u001b[0m             \u001b[0;31m# Encoding\u001b[0m\u001b[0;34m\u001b[0m\u001b[0;34m\u001b[0m\u001b[0m\n\u001b[0;32m--> 701\u001b[0;31m             handle = open(\n\u001b[0m\u001b[1;32m    702\u001b[0m                 \u001b[0mhandle\u001b[0m\u001b[0;34m,\u001b[0m\u001b[0;34m\u001b[0m\u001b[0;34m\u001b[0m\u001b[0m\n",
      "\u001b[0;31mFileNotFoundError\u001b[0m: [Errno 2] No such file or directory: 'data/TRXUSDT-m.csv'",
      "\nDuring handling of the above exception, another exception occurred:\n",
      "\u001b[0;31mKeyboardInterrupt\u001b[0m                         Traceback (most recent call last)",
      "\u001b[0;32m/var/folders/4n/h7p57sb17sn7vtrtjz3m1xhr0000gn/T/ipykernel_1474/528565639.py\u001b[0m in \u001b[0;36m<module>\u001b[0;34m\u001b[0m\n\u001b[1;32m     22\u001b[0m \u001b[0mdf\u001b[0m \u001b[0;34m=\u001b[0m \u001b[0mdl\u001b[0m\u001b[0;34m.\u001b[0m\u001b[0mget_working_data\u001b[0m\u001b[0;34m(\u001b[0m\u001b[0;34m\"ONTUSDT\"\u001b[0m\u001b[0;34m,\u001b[0m \u001b[0mspan\u001b[0m\u001b[0;34m=\u001b[0m\u001b[0;34m\"m\"\u001b[0m\u001b[0;34m)\u001b[0m\u001b[0;34m\u001b[0m\u001b[0;34m\u001b[0m\u001b[0m\n\u001b[1;32m     23\u001b[0m \u001b[0mdf\u001b[0m \u001b[0;34m=\u001b[0m \u001b[0mdl\u001b[0m\u001b[0;34m.\u001b[0m\u001b[0mget_working_data\u001b[0m\u001b[0;34m(\u001b[0m\u001b[0;34m\"QTUMUSDT\"\u001b[0m\u001b[0;34m,\u001b[0m \u001b[0mspan\u001b[0m\u001b[0;34m=\u001b[0m\u001b[0;34m\"m\"\u001b[0m\u001b[0;34m)\u001b[0m\u001b[0;34m\u001b[0m\u001b[0;34m\u001b[0m\u001b[0m\n\u001b[0;32m---> 24\u001b[0;31m \u001b[0mdf\u001b[0m \u001b[0;34m=\u001b[0m \u001b[0mdl\u001b[0m\u001b[0;34m.\u001b[0m\u001b[0mget_working_data\u001b[0m\u001b[0;34m(\u001b[0m\u001b[0;34m\"TRXUSDT\"\u001b[0m\u001b[0;34m,\u001b[0m \u001b[0mspan\u001b[0m\u001b[0;34m=\u001b[0m\u001b[0;34m\"m\"\u001b[0m\u001b[0;34m)\u001b[0m\u001b[0;34m\u001b[0m\u001b[0;34m\u001b[0m\u001b[0m\n\u001b[0m\u001b[1;32m     25\u001b[0m \u001b[0mdf\u001b[0m \u001b[0;34m=\u001b[0m \u001b[0mdl\u001b[0m\u001b[0;34m.\u001b[0m\u001b[0mget_working_data\u001b[0m\u001b[0;34m(\u001b[0m\u001b[0;34m\"XMRUSDT\"\u001b[0m\u001b[0;34m,\u001b[0m \u001b[0mspan\u001b[0m\u001b[0;34m=\u001b[0m\u001b[0;34m\"m\"\u001b[0m\u001b[0;34m)\u001b[0m\u001b[0;34m\u001b[0m\u001b[0;34m\u001b[0m\u001b[0m\n\u001b[1;32m     26\u001b[0m \u001b[0mdf\u001b[0m \u001b[0;34m=\u001b[0m \u001b[0mdl\u001b[0m\u001b[0;34m.\u001b[0m\u001b[0mget_working_data\u001b[0m\u001b[0;34m(\u001b[0m\u001b[0;34m\"ZECUSDT\"\u001b[0m\u001b[0;34m,\u001b[0m \u001b[0mspan\u001b[0m\u001b[0;34m=\u001b[0m\u001b[0;34m\"m\"\u001b[0m\u001b[0;34m)\u001b[0m\u001b[0;34m\u001b[0m\u001b[0;34m\u001b[0m\u001b[0m\n",
      "\u001b[0;32m/Volumes/Storage/Programming/chart-visualizer/downloader.py\u001b[0m in \u001b[0;36mget_working_data\u001b[0;34m(self, pair, time, span)\u001b[0m\n\u001b[1;32m     31\u001b[0m         \"\"\"purpose is to return data altered for data science. Call get_timeseries_data for raw data. Time for \n\u001b[1;32m     32\u001b[0m         timeindex index\"\"\"\n\u001b[0;32m---> 33\u001b[0;31m         \u001b[0mdf\u001b[0m \u001b[0;34m=\u001b[0m \u001b[0mself\u001b[0m\u001b[0;34m.\u001b[0m\u001b[0mget_timeseries_data\u001b[0m\u001b[0;34m(\u001b[0m\u001b[0mpair\u001b[0m\u001b[0;34m,\u001b[0m \u001b[0mspan\u001b[0m\u001b[0;34m=\u001b[0m\u001b[0mspan\u001b[0m\u001b[0;34m,\u001b[0m \u001b[0mpast\u001b[0m\u001b[0;34m=\u001b[0m\u001b[0;32mFalse\u001b[0m\u001b[0;34m)\u001b[0m\u001b[0;34m\u001b[0m\u001b[0;34m\u001b[0m\u001b[0m\n\u001b[0m\u001b[1;32m     34\u001b[0m \u001b[0;34m\u001b[0m\u001b[0m\n\u001b[1;32m     35\u001b[0m         \u001b[0;32mif\u001b[0m \u001b[0mtime\u001b[0m\u001b[0;34m:\u001b[0m \u001b[0mdf\u001b[0m\u001b[0;34m[\u001b[0m\u001b[0;34m\"timestamp\"\u001b[0m\u001b[0;34m]\u001b[0m \u001b[0;34m=\u001b[0m \u001b[0mlist\u001b[0m\u001b[0;34m(\u001b[0m\u001b[0mmap\u001b[0m\u001b[0;34m(\u001b[0m\u001b[0;32mlambda\u001b[0m \u001b[0mx\u001b[0m\u001b[0;34m:\u001b[0m \u001b[0mdatetime\u001b[0m\u001b[0;34m.\u001b[0m\u001b[0mutcfromtimestamp\u001b[0m\u001b[0;34m(\u001b[0m\u001b[0mx\u001b[0m \u001b[0;34m/\u001b[0m \u001b[0;36m1e3\u001b[0m\u001b[0;34m)\u001b[0m\u001b[0;34m,\u001b[0m \u001b[0mdf\u001b[0m\u001b[0;34m.\u001b[0m\u001b[0mtimestamp\u001b[0m\u001b[0;34m)\u001b[0m\u001b[0;34m)\u001b[0m\u001b[0;34m\u001b[0m\u001b[0;34m\u001b[0m\u001b[0m\n",
      "\u001b[0;32m/Volumes/Storage/Programming/chart-visualizer/downloader.py\u001b[0m in \u001b[0;36mget_timeseries_data\u001b[0;34m(self, pair, span, past)\u001b[0m\n\u001b[1;32m     24\u001b[0m         \"\"\"\n\u001b[1;32m     25\u001b[0m \u001b[0;34m\u001b[0m\u001b[0m\n\u001b[0;32m---> 26\u001b[0;31m         \u001b[0mdf_past\u001b[0m \u001b[0;34m=\u001b[0m \u001b[0mself\u001b[0m\u001b[0;34m.\u001b[0m\u001b[0mget_past_bars\u001b[0m\u001b[0;34m(\u001b[0m\u001b[0mpair\u001b[0m\u001b[0;34m,\u001b[0m \u001b[0mspan\u001b[0m\u001b[0;34m)\u001b[0m\u001b[0;34m\u001b[0m\u001b[0;34m\u001b[0m\u001b[0m\n\u001b[0m\u001b[1;32m     27\u001b[0m \u001b[0;34m\u001b[0m\u001b[0m\n\u001b[1;32m     28\u001b[0m         \u001b[0;32mreturn\u001b[0m \u001b[0mdf_past\u001b[0m \u001b[0;32mif\u001b[0m \u001b[0mpast\u001b[0m \u001b[0;32melse\u001b[0m \u001b[0mself\u001b[0m\u001b[0;34m.\u001b[0m\u001b[0mupdate_data\u001b[0m\u001b[0;34m(\u001b[0m\u001b[0mpair\u001b[0m\u001b[0;34m,\u001b[0m \u001b[0mdf_past\u001b[0m\u001b[0;34m,\u001b[0m \u001b[0mspan\u001b[0m\u001b[0;34m)\u001b[0m\u001b[0;34m\u001b[0m\u001b[0;34m\u001b[0m\u001b[0m\n",
      "\u001b[0;32m/Volumes/Storage/Programming/chart-visualizer/downloader.py\u001b[0m in \u001b[0;36mget_past_bars\u001b[0;34m(self, pair, span)\u001b[0m\n\u001b[1;32m     54\u001b[0m             \u001b[0;32mreturn\u001b[0m \u001b[0mself\u001b[0m\u001b[0;34m.\u001b[0m\u001b[0mread_df\u001b[0m\u001b[0;34m(\u001b[0m\u001b[0mpair_\u001b[0m\u001b[0;34m)\u001b[0m\u001b[0;34m\u001b[0m\u001b[0;34m\u001b[0m\u001b[0m\n\u001b[1;32m     55\u001b[0m         \u001b[0;32mexcept\u001b[0m\u001b[0;34m:\u001b[0m\u001b[0;34m\u001b[0m\u001b[0;34m\u001b[0m\u001b[0m\n\u001b[0;32m---> 56\u001b[0;31m             \u001b[0mdf\u001b[0m \u001b[0;34m=\u001b[0m \u001b[0mself\u001b[0m\u001b[0;34m.\u001b[0m\u001b[0mbinance_download\u001b[0m\u001b[0;34m(\u001b[0m\u001b[0mpair\u001b[0m\u001b[0;34m,\u001b[0m \u001b[0mspan\u001b[0m\u001b[0;34m)\u001b[0m\u001b[0;34m\u001b[0m\u001b[0;34m\u001b[0m\u001b[0m\n\u001b[0m\u001b[1;32m     57\u001b[0m             \u001b[0mself\u001b[0m\u001b[0;34m.\u001b[0m\u001b[0msave_df\u001b[0m\u001b[0;34m(\u001b[0m\u001b[0mdf\u001b[0m\u001b[0;34m,\u001b[0m \u001b[0mpair_\u001b[0m\u001b[0;34m)\u001b[0m\u001b[0;34m\u001b[0m\u001b[0;34m\u001b[0m\u001b[0m\n\u001b[1;32m     58\u001b[0m             \u001b[0;32mreturn\u001b[0m \u001b[0mdf\u001b[0m\u001b[0;34m\u001b[0m\u001b[0;34m\u001b[0m\u001b[0m\n",
      "\u001b[0;32m/Volumes/Storage/Programming/chart-visualizer/downloader.py\u001b[0m in \u001b[0;36mbinance_download\u001b[0;34m(self, pair, span, start)\u001b[0m\n\u001b[1;32m     70\u001b[0m                  \u001b[0;34m\"h\"\u001b[0m\u001b[0;34m:\u001b[0m\u001b[0mself\u001b[0m\u001b[0;34m.\u001b[0m\u001b[0mclient\u001b[0m\u001b[0;34m.\u001b[0m\u001b[0mKLINE_INTERVAL_1HOUR\u001b[0m\u001b[0;34m,\u001b[0m\u001b[0;34m\u001b[0m\u001b[0;34m\u001b[0m\u001b[0m\n\u001b[1;32m     71\u001b[0m                  \"d\":self.client.KLINE_INTERVAL_1DAY}[span]\n\u001b[0;32m---> 72\u001b[0;31m         \u001b[0mklines\u001b[0m \u001b[0;34m=\u001b[0m \u001b[0mself\u001b[0m\u001b[0;34m.\u001b[0m\u001b[0mclient\u001b[0m\u001b[0;34m.\u001b[0m\u001b[0mget_historical_klines\u001b[0m\u001b[0;34m(\u001b[0m\u001b[0mpair\u001b[0m\u001b[0;34m,\u001b[0m \u001b[0mkline\u001b[0m\u001b[0;34m,\u001b[0m \u001b[0mstart_date\u001b[0m\u001b[0;34m,\u001b[0m \u001b[0mlimit\u001b[0m\u001b[0;34m=\u001b[0m\u001b[0;36m1000\u001b[0m\u001b[0;34m)\u001b[0m\u001b[0;34m\u001b[0m\u001b[0;34m\u001b[0m\u001b[0m\n\u001b[0m\u001b[1;32m     73\u001b[0m         \u001b[0mdata\u001b[0m \u001b[0;34m=\u001b[0m \u001b[0mself\u001b[0m\u001b[0;34m.\u001b[0m\u001b[0mget_filtered_dataframe\u001b[0m\u001b[0;34m(\u001b[0m\u001b[0mklines\u001b[0m\u001b[0;34m)\u001b[0m\u001b[0;34m\u001b[0m\u001b[0;34m\u001b[0m\u001b[0m\n\u001b[1;32m     74\u001b[0m         \u001b[0;32mreturn\u001b[0m \u001b[0mdata\u001b[0m\u001b[0;34m\u001b[0m\u001b[0;34m\u001b[0m\u001b[0m\n",
      "\u001b[0;32m/Volumes/Storage/Programming/chart-visualizer/env/lib/python3.9/site-packages/binance/client.py\u001b[0m in \u001b[0;36mget_historical_klines\u001b[0;34m(self, symbol, interval, start_str, end_str, limit, klines_type)\u001b[0m\n\u001b[1;32m    930\u001b[0m \u001b[0;34m\u001b[0m\u001b[0m\n\u001b[1;32m    931\u001b[0m         \"\"\"\n\u001b[0;32m--> 932\u001b[0;31m         \u001b[0;32mreturn\u001b[0m \u001b[0mself\u001b[0m\u001b[0;34m.\u001b[0m\u001b[0m_historical_klines\u001b[0m\u001b[0;34m(\u001b[0m\u001b[0msymbol\u001b[0m\u001b[0;34m,\u001b[0m \u001b[0minterval\u001b[0m\u001b[0;34m,\u001b[0m \u001b[0mstart_str\u001b[0m\u001b[0;34m,\u001b[0m \u001b[0mend_str\u001b[0m\u001b[0;34m=\u001b[0m\u001b[0mend_str\u001b[0m\u001b[0;34m,\u001b[0m \u001b[0mlimit\u001b[0m\u001b[0;34m=\u001b[0m\u001b[0mlimit\u001b[0m\u001b[0;34m,\u001b[0m \u001b[0mklines_type\u001b[0m\u001b[0;34m=\u001b[0m\u001b[0mklines_type\u001b[0m\u001b[0;34m)\u001b[0m\u001b[0;34m\u001b[0m\u001b[0;34m\u001b[0m\u001b[0m\n\u001b[0m\u001b[1;32m    933\u001b[0m \u001b[0;34m\u001b[0m\u001b[0m\n\u001b[1;32m    934\u001b[0m     def _historical_klines(self, symbol, interval, start_str, end_str=None, limit=500,\n",
      "\u001b[0;32m/Volumes/Storage/Programming/chart-visualizer/env/lib/python3.9/site-packages/binance/client.py\u001b[0m in \u001b[0;36m_historical_klines\u001b[0;34m(self, symbol, interval, start_str, end_str, limit, klines_type)\u001b[0m\n\u001b[1;32m   1006\u001b[0m             \u001b[0;31m# sleep after every 3rd call to be kind to the API\u001b[0m\u001b[0;34m\u001b[0m\u001b[0;34m\u001b[0m\u001b[0m\n\u001b[1;32m   1007\u001b[0m             \u001b[0;32mif\u001b[0m \u001b[0midx\u001b[0m \u001b[0;34m%\u001b[0m \u001b[0;36m3\u001b[0m \u001b[0;34m==\u001b[0m \u001b[0;36m0\u001b[0m\u001b[0;34m:\u001b[0m\u001b[0;34m\u001b[0m\u001b[0;34m\u001b[0m\u001b[0m\n\u001b[0;32m-> 1008\u001b[0;31m                 \u001b[0mtime\u001b[0m\u001b[0;34m.\u001b[0m\u001b[0msleep\u001b[0m\u001b[0;34m(\u001b[0m\u001b[0;36m1\u001b[0m\u001b[0;34m)\u001b[0m\u001b[0;34m\u001b[0m\u001b[0;34m\u001b[0m\u001b[0m\n\u001b[0m\u001b[1;32m   1009\u001b[0m \u001b[0;34m\u001b[0m\u001b[0m\n\u001b[1;32m   1010\u001b[0m         \u001b[0;32mreturn\u001b[0m \u001b[0moutput_data\u001b[0m\u001b[0;34m\u001b[0m\u001b[0;34m\u001b[0m\u001b[0m\n",
      "\u001b[0;31mKeyboardInterrupt\u001b[0m: "
     ]
    }
   ],
   "source": [
    "# df = dl.get_working_data(\"ATOMUSDT\", span=\"m\")\n",
    "# df = dl.get_working_data(\"DOTUSDT\", span=\"m\")\n",
    "# df = dl.get_working_data(\"ADAUSDT\", span=\"m\")\n",
    "# df = dl.get_working_data(\"BATUSDT\", span=\"m\")\n",
    "# df = dl.get_working_data(\"SOLUSDT\", span=\"m\")\n",
    "# df = dl.get_working_data(\"LINKUSDT\", span=\"m\")\n",
    "# df = dl.get_working_data(\"ONEUSDT\", span=\"m\")\n",
    "# df = dl.get_working_data(\"COMPUSDT\", span=\"m\")\n",
    "# df = dl.get_working_data(\"HNTUSDT\", span=\"m\")\n",
    "\n",
    "# \n",
    "# df = dl.get_working_data(\"BTCUSDT\", span=\"m\")\n",
    "# df = dl.get_working_data(\"ETHUSDT\", span=\"m\")\n",
    "# df = dl.get_working_data(\"DOGEUSDT\", span=\"m\")\n",
    "# df = dl.get_working_data(\"DASHUSDT\", span=\"m\")\n",
    "# df = dl.get_working_data(\"EOSUSDT\", span=\"m\")\n",
    "# df = dl.get_working_data(\"ETCUSDT\", span=\"m\")\n",
    "# df = dl.get_working_data(\"IOSTUSDT\", span=\"m\")\n",
    "# df = dl.get_working_data(\"IOTAUSDT\", span=\"m\")\n",
    "# df = dl.get_working_data(\"LTCUSDT\", span=\"m\")\n",
    "# df = dl.get_working_data(\"NEOUSDT\", span=\"m\")\n",
    "# df = dl.get_working_data(\"ONTUSDT\", span=\"m\")\n",
    "# df = dl.get_working_data(\"QTUMUSDT\", span=\"m\")\n",
    "df = dl.get_working_data(\"TRXUSDT\", span=\"m\")\n",
    "df = dl.get_working_data(\"XMRUSDT\", span=\"m\")\n",
    "df = dl.get_working_data(\"ZECUSDT\", span=\"m\")"
   ]
  },
  {
   "cell_type": "code",
   "execution_count": 678,
   "id": "492bc8e6-8d00-4c1c-ae8b-559fb5f40f68",
   "metadata": {},
   "outputs": [],
   "source": [
    "df['kc_middle'], df['kc_upper'], df['kc_lower'] = get_kc(df.high, df.low, df.close, 20*60, 2.25*np.sqrt(60), 20*60)"
   ]
  },
  {
   "cell_type": "code",
   "execution_count": 679,
   "id": "1fec95e6-f1dd-41a9-8ba8-5909d322c06f",
   "metadata": {},
   "outputs": [],
   "source": [
    "df_ = df.rename(columns={\"open\":\"o\", \"high\":\"h\", \"low\":\"l\", \"close\":\"c\", \n",
    "                         \"volume\":\"v\", \"kc_middle\":\"m\", \"kc_upper\":\"u\", \"kc_lower\":\"b\"})"
   ]
  },
  {
   "cell_type": "code",
   "execution_count": 680,
   "id": "27a6bfc9-e296-46e5-8b45-d8a301b6097f",
   "metadata": {},
   "outputs": [],
   "source": [
    "df_s = df_.shift()"
   ]
  },
  {
   "cell_type": "code",
   "execution_count": 681,
   "id": "c319357d-2629-4fd9-8902-789f6c6b0ba5",
   "metadata": {},
   "outputs": [],
   "source": [
    "c_up = df_[(df_.h>df_.u) & (df_s.h<df_.u)]\n",
    "c_down = df_[(df_.l<df_.b) & (df_s.l>df_.b)]"
   ]
  },
  {
   "cell_type": "code",
   "execution_count": 682,
   "id": "4ec573f4-ed10-4a4e-90cc-d5b5e07be1a4",
   "metadata": {},
   "outputs": [
    {
     "data": {
      "text/html": [
       "<div>\n",
       "<style scoped>\n",
       "    .dataframe tbody tr th:only-of-type {\n",
       "        vertical-align: middle;\n",
       "    }\n",
       "\n",
       "    .dataframe tbody tr th {\n",
       "        vertical-align: top;\n",
       "    }\n",
       "\n",
       "    .dataframe thead th {\n",
       "        text-align: right;\n",
       "    }\n",
       "</style>\n",
       "<table border=\"1\" class=\"dataframe\">\n",
       "  <thead>\n",
       "    <tr style=\"text-align: right;\">\n",
       "      <th></th>\n",
       "      <th>o</th>\n",
       "      <th>h</th>\n",
       "      <th>l</th>\n",
       "      <th>c</th>\n",
       "      <th>v</th>\n",
       "      <th>m</th>\n",
       "      <th>u</th>\n",
       "      <th>b</th>\n",
       "    </tr>\n",
       "    <tr>\n",
       "      <th>timestamp</th>\n",
       "      <th></th>\n",
       "      <th></th>\n",
       "      <th></th>\n",
       "      <th></th>\n",
       "      <th></th>\n",
       "      <th></th>\n",
       "      <th></th>\n",
       "      <th></th>\n",
       "    </tr>\n",
       "  </thead>\n",
       "  <tbody>\n",
       "    <tr>\n",
       "      <th>2021-11-11 02:00:00</th>\n",
       "      <td>0.2574</td>\n",
       "      <td>0.2574</td>\n",
       "      <td>0.2566</td>\n",
       "      <td>0.2567</td>\n",
       "      <td>981632.0</td>\n",
       "      <td>0.268588</td>\n",
       "      <td>0.279996</td>\n",
       "      <td>0.257180</td>\n",
       "    </tr>\n",
       "    <tr>\n",
       "      <th>2021-11-11 02:29:00</th>\n",
       "      <td>0.2570</td>\n",
       "      <td>0.2573</td>\n",
       "      <td>0.2568</td>\n",
       "      <td>0.2569</td>\n",
       "      <td>785253.0</td>\n",
       "      <td>0.268312</td>\n",
       "      <td>0.279643</td>\n",
       "      <td>0.256981</td>\n",
       "    </tr>\n",
       "    <tr>\n",
       "      <th>2021-11-11 02:37:00</th>\n",
       "      <td>0.2582</td>\n",
       "      <td>0.2586</td>\n",
       "      <td>0.2568</td>\n",
       "      <td>0.2580</td>\n",
       "      <td>6822120.0</td>\n",
       "      <td>0.268242</td>\n",
       "      <td>0.279582</td>\n",
       "      <td>0.256902</td>\n",
       "    </tr>\n",
       "  </tbody>\n",
       "</table>\n",
       "</div>"
      ],
      "text/plain": [
       "                          o       h       l       c          v         m  \\\n",
       "timestamp                                                                  \n",
       "2021-11-11 02:00:00  0.2574  0.2574  0.2566  0.2567   981632.0  0.268588   \n",
       "2021-11-11 02:29:00  0.2570  0.2573  0.2568  0.2569   785253.0  0.268312   \n",
       "2021-11-11 02:37:00  0.2582  0.2586  0.2568  0.2580  6822120.0  0.268242   \n",
       "\n",
       "                            u         b  \n",
       "timestamp                                \n",
       "2021-11-11 02:00:00  0.279996  0.257180  \n",
       "2021-11-11 02:29:00  0.279643  0.256981  \n",
       "2021-11-11 02:37:00  0.279582  0.256902  "
      ]
     },
     "execution_count": 682,
     "metadata": {},
     "output_type": "execute_result"
    }
   ],
   "source": [
    "c_down.tail(3)"
   ]
  },
  {
   "cell_type": "code",
   "execution_count": 683,
   "id": "0df99254-ecc7-4b4b-a9c6-2df1e74996d0",
   "metadata": {},
   "outputs": [],
   "source": [
    "a = []\n",
    "for i in c_down.index:\n",
    "    df_ = df.loc[i-pd.Timedelta(hours=2):i-pd.Timedelta(minutes=1)]\n",
    "    df_ = df_.low>df_.kc_lower\n",
    "    if df_.all():\n",
    "        a.append(1)\n",
    "    else: a.append(0)\n",
    "c_down[\"hour\"] = a\n",
    "c_down = c_down[c_down.hour>0]"
   ]
  },
  {
   "cell_type": "code",
   "execution_count": 684,
   "id": "b2ebd464-1638-4c2d-bb34-2fef3529e686",
   "metadata": {},
   "outputs": [],
   "source": [
    "c_down.drop([\"hour\"], axis=1, inplace=True)"
   ]
  },
  {
   "cell_type": "markdown",
   "id": "f75c6671-c85a-4f60-9e97-c8d073a50b84",
   "metadata": {
    "tags": []
   },
   "source": [
    "## Get events"
   ]
  },
  {
   "cell_type": "code",
   "execution_count": 685,
   "id": "64fb683c-da73-4dce-8ce0-6f360b618989",
   "metadata": {},
   "outputs": [],
   "source": [
    "events = pd.DataFrame(np.nan, index=c_down.index, columns=[\"ret\", \"t1\"])\n",
    "t1 = events.index[0]-pd.Timedelta(days=10)\n",
    "mult = 0.5\n",
    "for i in c_down.index:\n",
    "    if i<=t1: continue\n",
    "    row = c_down.loc[i]\n",
    "    df_ = df.loc[i:i+pd.Timedelta(days=1)]\n",
    "    dist = row.m-row.b\n",
    "    tp, sl = 0, 0\n",
    "    try: tp = df_[df_.high>row.b+mult*dist].index[1] if df_[df_.high>row.b+mult*dist].index[0]==i else df_[df_.high>row.b+mult*dist].index[0] \n",
    "                \n",
    "    except: tp=df.index[-1]\n",
    "    try: sl = df_[df_.low<row.b-mult*dist].index[0]\n",
    "    except: sl = df.index[-1]\n",
    "#     print(f\"=={tp}, {sl}==\")\n",
    "    if tp>sl: \n",
    "        events.loc[i] = {\"ret\":-1, \"t1\":sl}\n",
    "        t1 = sl\n",
    "    elif sl>tp: \n",
    "        events.loc[i] = {\"ret\":1, \"t1\":tp}\n",
    "        t1 = tp\n",
    "    else: \n",
    "        events.loc[i] = {\"ret\":0, \"t1\":i}\n",
    "        t1 = i\n",
    "    \n",
    " "
   ]
  },
  {
   "cell_type": "code",
   "execution_count": 686,
   "id": "494933ad-bb47-4c62-9e7c-cbb730ec0472",
   "metadata": {},
   "outputs": [],
   "source": [
    "events.dropna(inplace=True)"
   ]
  },
  {
   "cell_type": "code",
   "execution_count": 687,
   "id": "b70b95af-5133-49fd-a826-cc4520441971",
   "metadata": {},
   "outputs": [
    {
     "data": {
      "text/plain": [
       " 1.0    335\n",
       "-1.0    276\n",
       " 0.0      2\n",
       "Name: ret, dtype: int64"
      ]
     },
     "execution_count": 687,
     "metadata": {},
     "output_type": "execute_result"
    }
   ],
   "source": [
    "events.ret.value_counts()"
   ]
  },
  {
   "cell_type": "markdown",
   "id": "860172d4-92ce-4a03-a770-e89eb1e4eaba",
   "metadata": {
    "tags": []
   },
   "source": [
    "## View events"
   ]
  },
  {
   "cell_type": "code",
   "execution_count": 310,
   "id": "6ba32d14-c6a3-468a-b1b1-5f4e2a97f334",
   "metadata": {},
   "outputs": [],
   "source": [
    "i=200"
   ]
  },
  {
   "cell_type": "code",
   "execution_count": 311,
   "id": "5f2a8a5d-13e7-41ad-8f93-6dabeb7fefb1",
   "metadata": {},
   "outputs": [
    {
     "data": {
      "text/plain": [
       "[<matplotlib.lines.Line2D at 0x7f9467a379d0>]"
      ]
     },
     "execution_count": 311,
     "metadata": {},
     "output_type": "execute_result"
    },
    {
     "data": {
      "image/png": "[encoded data removed]",
      "text/plain": [
       "<Figure size 864x288 with 1 Axes>"
      ]
     },
     "metadata": {
      "needs_background": "light"
     },
     "output_type": "display_data"
    }
   ],
   "source": [
    "i+=1\n",
    "item = events.index[i]\n",
    "fig, ax = plt.subplots(figsize=(12,4))\n",
    "ax.plot(df.loc[item-pd.Timedelta(days=3):item+pd.Timedelta(days=2)].high, c=\"green\", alpha=0.1)\n",
    "ax.plot(df.loc[item-pd.Timedelta(days=3):item+pd.Timedelta(days=2)].close, c=\"black\", alpha=0.3)\n",
    "ax.plot(df.loc[item-pd.Timedelta(days=3):item+pd.Timedelta(days=2)].low, c=\"red\", alpha=0.1)\n",
    "\n",
    "ax.plot(df.loc[item-pd.Timedelta(days=2):item].kc_upper, c=\"blue\", alpha=0.3)\n",
    "ax.plot(df.loc[item-pd.Timedelta(days=2):item].kc_middle, c=\"black\", alpha=0.3)\n",
    "ax.plot(df.loc[item-pd.Timedelta(days=2):item].kc_lower, c=\"blue\", alpha=0.3)\n",
    "\n",
    "ax.plot(df.loc[item:events.loc[item].t1].close, c=\"orange\", alpha=1)\n",
    "# ax.axhline(df.loc[item].close*events.loc[item].trgt+df.loc[item].close, c=\"green\", alpha=0.2)\n",
    "# ax.axhline(-df.loc[item].close*events.loc[item].trgt+df.loc[item].close, c=\"red\", alpha=0.2)\n"
   ]
  },
  {
   "cell_type": "code",
   "execution_count": 312,
   "id": "85aa418f-ff81-42b2-a750-54507aa44006",
   "metadata": {},
   "outputs": [
    {
     "data": {
      "text/plain": [
       "201"
      ]
     },
     "execution_count": 312,
     "metadata": {},
     "output_type": "execute_result"
    }
   ],
   "source": [
    "i"
   ]
  },
  {
   "cell_type": "code",
   "execution_count": 313,
   "id": "579bf1c4-dddb-437a-8431-c464d4140c4d",
   "metadata": {},
   "outputs": [
    {
     "data": {
      "text/plain": [
       "ret                   -1.0\n",
       "t1     2020-01-05 10:47:00\n",
       "Name: 2020-01-05 10:27:00, dtype: object"
      ]
     },
     "execution_count": 313,
     "metadata": {},
     "output_type": "execute_result"
    }
   ],
   "source": [
    "events.loc[events.index[i]]"
   ]
  },
  {
   "cell_type": "code",
   "execution_count": 314,
   "id": "209294ab-545f-4598-92ed-ccfb1a18062f",
   "metadata": {},
   "outputs": [
    {
     "data": {
      "text/plain": [
       "open             4.264000\n",
       "high             4.272000\n",
       "low              4.210000\n",
       "close            4.239000\n",
       "volume       35306.044000\n",
       "kc_middle        4.289744\n",
       "kc_upper         4.356588\n",
       "kc_lower         4.222900\n",
       "Name: 2020-01-05 10:27:00, dtype: float64"
      ]
     },
     "execution_count": 314,
     "metadata": {},
     "output_type": "execute_result"
    }
   ],
   "source": [
    "df.loc[events.index[i]]"
   ]
  },
  {
   "cell_type": "markdown",
   "id": "1aab95f7-4e98-48d7-b6f9-c4943eb59b7f",
   "metadata": {
    "tags": []
   },
   "source": [
    "## Get metadata"
   ]
  },
  {
   "cell_type": "code",
   "execution_count": 688,
   "id": "1d988a4d-7a5f-4178-8f48-b92ab38f14aa",
   "metadata": {},
   "outputs": [],
   "source": [
    "stats = [\"v0\", \"k0\", \"s0\", \"v1\", \"v2\", \"k1\", \"k2\", \"s1\", \"s2\", \"t0\", \"t1\", \"t2\", \"k3\", \"k4\", \"k5\",\n",
    "         \"k6\", \"k7\", \"v3\"]"
   ]
  },
  {
   "cell_type": "code",
   "execution_count": 689,
   "id": "0c1936d4-3c2f-47fa-9ee4-43070863810a",
   "metadata": {},
   "outputs": [],
   "source": [
    "def volume(df1, df2, df3):\n",
    "    return sum(df1.volume)/sum(df2.volume)\n",
    "def kc_mid(df1, df2, df3):\n",
    "    return np.mean((df1.close-df1.kc_lower)/(df1.kc_upper-df1.kc_lower))\n",
    "#     return np.mean((df1.close-df1.kc_lower)/(df1.kc_upper-df1.kc_lower))\n",
    "def std_compare(df1, df2, df3):\n",
    "    return np.std(df1.close)/df1.iloc[0].close\n",
    "def v1(df1, df2, df3):\n",
    "    return sum(df1.volume)/sum(df3.volume)\n",
    "def v2(df1, df2, df3):\n",
    "    return (np.std(df1.volume)-np.std(df2.volume))/df1.iloc[0].close\n",
    "def k1(df1, df2, df3):\n",
    "    return np.mean(df1.kc_upper-df1.kc_lower)/df1.iloc[0].close\n",
    "def k2(df1, df2, df3):\n",
    "    return np.mean(df2.kc_upper-df2.kc_lower)/df2.iloc[0].close\n",
    "def s1(df1, df2, df3):\n",
    "    return np.std(df2.close)/df2.iloc[0].close\n",
    "def s2(df1, df2, df3):\n",
    "    return np.std(df2.kc_upper-df2.kc_lower)/df2.iloc[0].close\n",
    "def t0(df1, df2, df3):\n",
    "    return (df1.iloc[-1].kc_middle-df1.iloc[0].kc_middle)/df1.iloc[0].close\n",
    "def t1(df1, df2, df3):\n",
    "    return (df2.iloc[-1].kc_middle-df2.iloc[0].kc_middle)/df2.iloc[0].close\n",
    "def t2(df1, df2, df3):\n",
    "    return (df3.iloc[-1].kc_middle-df3.iloc[0].kc_middle)/df3.iloc[0].close\n",
    "def k3(df1, df2, df3):\n",
    "    return np.mean((df2.close-df2.kc_lower)/(df2.kc_upper-df2.kc_lower))\n",
    "def k4(df1, df2, df3):\n",
    "    return np.mean((df3.close-df3.kc_lower)/(df3.kc_upper-df3.kc_lower))\n",
    "def k5(df1, df2, df3):\n",
    "    return ((df1.kc_upper[-1]-df1.kc_lower[-1])-(df1.kc_upper[0]-df1.kc_lower[0]))/df1.iloc[0].close\n",
    "def k6(df1, df2, df3):\n",
    "    return ((df2.kc_upper[-1]-df2.kc_lower[-1])-(df2.kc_upper[0]-df2.kc_lower[0]))/df2.iloc[0].close\n",
    "def k7(df1, df2, df3):\n",
    "    return ((df3.kc_upper[-1]-df3.kc_lower[-1])-(df3.kc_upper[0]-df3.kc_lower[0]))/df3.iloc[0].close\n",
    "def v3(df1, df2, df3):\n",
    "    return sum(df1.loc[df1.index[-1]-pd.Timedelta(hours=12):].volume)/sum(df1.volume)"
   ]
  },
  {
   "cell_type": "code",
   "execution_count": 690,
   "id": "90a5f944-12e2-427d-b576-4d23c6f05cba",
   "metadata": {},
   "outputs": [],
   "source": [
    "funcs = [volume, kc_mid, std_compare, v1, v2, k1, k2, s1, s2, t0, t1, t2, k3, k4, k5,\n",
    "         k6, k7, v3]"
   ]
  },
  {
   "cell_type": "code",
   "execution_count": 691,
   "id": "4c151472-ba7e-4cbc-8bea-4ed1e8b77410",
   "metadata": {},
   "outputs": [],
   "source": [
    "e = get_kc_events(df, events, stats, funcs)"
   ]
  },
  {
   "cell_type": "code",
   "execution_count": 692,
   "id": "3a2ddd00-b167-4851-9d7c-888fa25c688b",
   "metadata": {},
   "outputs": [],
   "source": [
    "e[\"ret\"] = events.ret"
   ]
  },
  {
   "cell_type": "code",
   "execution_count": 693,
   "id": "75994eba-2203-46d2-a02b-ac17b3046b3e",
   "metadata": {},
   "outputs": [
    {
     "data": {
      "text/html": [
       "<div>\n",
       "<style scoped>\n",
       "    .dataframe tbody tr th:only-of-type {\n",
       "        vertical-align: middle;\n",
       "    }\n",
       "\n",
       "    .dataframe tbody tr th {\n",
       "        vertical-align: top;\n",
       "    }\n",
       "\n",
       "    .dataframe thead th {\n",
       "        text-align: right;\n",
       "    }\n",
       "</style>\n",
       "<table border=\"1\" class=\"dataframe\">\n",
       "  <thead>\n",
       "    <tr style=\"text-align: right;\">\n",
       "      <th></th>\n",
       "      <th>v0</th>\n",
       "      <th>k0</th>\n",
       "      <th>s0</th>\n",
       "      <th>v1</th>\n",
       "      <th>v2</th>\n",
       "      <th>k1</th>\n",
       "      <th>k2</th>\n",
       "      <th>s1</th>\n",
       "      <th>s2</th>\n",
       "      <th>t0</th>\n",
       "      <th>t1</th>\n",
       "      <th>t2</th>\n",
       "      <th>k3</th>\n",
       "      <th>k4</th>\n",
       "      <th>k5</th>\n",
       "      <th>k6</th>\n",
       "      <th>k7</th>\n",
       "      <th>v3</th>\n",
       "      <th>ret</th>\n",
       "    </tr>\n",
       "    <tr>\n",
       "      <th>timestamp</th>\n",
       "      <th></th>\n",
       "      <th></th>\n",
       "      <th></th>\n",
       "      <th></th>\n",
       "      <th></th>\n",
       "      <th></th>\n",
       "      <th></th>\n",
       "      <th></th>\n",
       "      <th></th>\n",
       "      <th></th>\n",
       "      <th></th>\n",
       "      <th></th>\n",
       "      <th></th>\n",
       "      <th></th>\n",
       "      <th></th>\n",
       "      <th></th>\n",
       "      <th></th>\n",
       "      <th></th>\n",
       "      <th></th>\n",
       "    </tr>\n",
       "  </thead>\n",
       "  <tbody>\n",
       "    <tr>\n",
       "      <th>2021-11-06 11:03:00</th>\n",
       "      <td>0.302210</td>\n",
       "      <td>0.409675</td>\n",
       "      <td>0.006353</td>\n",
       "      <td>0.082465</td>\n",
       "      <td>2.058233e+05</td>\n",
       "      <td>0.057373</td>\n",
       "      <td>0.060062</td>\n",
       "      <td>0.013404</td>\n",
       "      <td>0.005062</td>\n",
       "      <td>-0.006312</td>\n",
       "      <td>-0.038844</td>\n",
       "      <td>-0.089188</td>\n",
       "      <td>0.323954</td>\n",
       "      <td>0.366609</td>\n",
       "      <td>-0.006541</td>\n",
       "      <td>-0.014376</td>\n",
       "      <td>-0.070178</td>\n",
       "      <td>0.429397</td>\n",
       "      <td>-1.0</td>\n",
       "    </tr>\n",
       "    <tr>\n",
       "      <th>2021-11-10 04:05:00</th>\n",
       "      <td>0.268812</td>\n",
       "      <td>0.510263</td>\n",
       "      <td>0.014238</td>\n",
       "      <td>0.145163</td>\n",
       "      <td>-3.372125e+06</td>\n",
       "      <td>0.069831</td>\n",
       "      <td>0.064662</td>\n",
       "      <td>0.029612</td>\n",
       "      <td>0.013947</td>\n",
       "      <td>0.001322</td>\n",
       "      <td>0.056967</td>\n",
       "      <td>0.011856</td>\n",
       "      <td>0.747914</td>\n",
       "      <td>0.521550</td>\n",
       "      <td>-0.009413</td>\n",
       "      <td>0.021221</td>\n",
       "      <td>-0.000154</td>\n",
       "      <td>0.355047</td>\n",
       "      <td>1.0</td>\n",
       "    </tr>\n",
       "    <tr>\n",
       "      <th>2021-11-10 19:44:00</th>\n",
       "      <td>0.227319</td>\n",
       "      <td>0.346710</td>\n",
       "      <td>0.007266</td>\n",
       "      <td>0.132468</td>\n",
       "      <td>-4.020342e+06</td>\n",
       "      <td>0.063768</td>\n",
       "      <td>0.067887</td>\n",
       "      <td>0.021165</td>\n",
       "      <td>0.010352</td>\n",
       "      <td>-0.011670</td>\n",
       "      <td>0.042786</td>\n",
       "      <td>0.008544</td>\n",
       "      <td>0.680948</td>\n",
       "      <td>0.514165</td>\n",
       "      <td>-0.012464</td>\n",
       "      <td>0.014461</td>\n",
       "      <td>-0.008791</td>\n",
       "      <td>0.656220</td>\n",
       "      <td>-1.0</td>\n",
       "    </tr>\n",
       "  </tbody>\n",
       "</table>\n",
       "</div>"
      ],
      "text/plain": [
       "                           v0        k0        s0        v1            v2  \\\n",
       "timestamp                                                                   \n",
       "2021-11-06 11:03:00  0.302210  0.409675  0.006353  0.082465  2.058233e+05   \n",
       "2021-11-10 04:05:00  0.268812  0.510263  0.014238  0.145163 -3.372125e+06   \n",
       "2021-11-10 19:44:00  0.227319  0.346710  0.007266  0.132468 -4.020342e+06   \n",
       "\n",
       "                           k1        k2        s1        s2        t0  \\\n",
       "timestamp                                                               \n",
       "2021-11-06 11:03:00  0.057373  0.060062  0.013404  0.005062 -0.006312   \n",
       "2021-11-10 04:05:00  0.069831  0.064662  0.029612  0.013947  0.001322   \n",
       "2021-11-10 19:44:00  0.063768  0.067887  0.021165  0.010352 -0.011670   \n",
       "\n",
       "                           t1        t2        k3        k4        k5  \\\n",
       "timestamp                                                               \n",
       "2021-11-06 11:03:00 -0.038844 -0.089188  0.323954  0.366609 -0.006541   \n",
       "2021-11-10 04:05:00  0.056967  0.011856  0.747914  0.521550 -0.009413   \n",
       "2021-11-10 19:44:00  0.042786  0.008544  0.680948  0.514165 -0.012464   \n",
       "\n",
       "                           k6        k7        v3  ret  \n",
       "timestamp                                               \n",
       "2021-11-06 11:03:00 -0.014376 -0.070178  0.429397 -1.0  \n",
       "2021-11-10 04:05:00  0.021221 -0.000154  0.355047  1.0  \n",
       "2021-11-10 19:44:00  0.014461 -0.008791  0.656220 -1.0  "
      ]
     },
     "execution_count": 693,
     "metadata": {},
     "output_type": "execute_result"
    }
   ],
   "source": [
    "e.tail(3)"
   ]
  },
  {
   "cell_type": "markdown",
   "id": "e5050191-397e-4cf6-8b3c-cb4f6383c740",
   "metadata": {},
   "source": [
    "## Analysis and testing"
   ]
  },
  {
   "cell_type": "code",
   "execution_count": 694,
   "id": "736cdc10-5419-4f04-b2e9-a863e3f4683a",
   "metadata": {},
   "outputs": [
    {
     "name": "stdout",
     "output_type": "stream",
     "text": [
      "['v0', 'k0', 's0', 'v1', 'v2', 'k1', 'k2', 's1', 's2', 't0', 't1', 't2', 'k3', 'k4', 'k5', 'k6', 'k7', 'v3']\n"
     ]
    }
   ],
   "source": [
    "def m(s):\n",
    "    return np.mean(s)\n",
    "def s(s):\n",
    "    return np.std(s)\n",
    "print(stats)"
   ]
  },
  {
   "cell_type": "code",
   "execution_count": 695,
   "id": "814d8ede-38f5-436a-92fe-15b40a78c377",
   "metadata": {},
   "outputs": [
    {
     "data": {
      "text/plain": [
       "[<matplotlib.lines.Line2D at 0x7fa999291e80>]"
      ]
     },
     "execution_count": 695,
     "metadata": {},
     "output_type": "execute_result"
    },
    {
     "data": {
      "image/png": "[encoded data removed]",
      "text/plain": [
       "<Figure size 864x216 with 1 Axes>"
      ]
     },
     "metadata": {
      "needs_background": "light"
     },
     "output_type": "display_data"
    }
   ],
   "source": [
    "x = e.t0\n",
    "y = e.ret\n",
    "fig, ax = plt.subplots(figsize=(12,3))\n",
    "ax.scatter(x=x, y=y, c=\"green\")\n",
    "ax.axhline(0, c=\"gray\", alpha=0.3)\n",
    "\n",
    "ax.plot(average_line(x, y, 10))"
   ]
  },
  {
   "cell_type": "code",
   "execution_count": 696,
   "id": "83b503fd-4a96-41f6-8a86-fa3458f9443b",
   "metadata": {},
   "outputs": [
    {
     "name": "stdout",
     "output_type": "stream",
     "text": [
      "mean:-0.0063, std: 0.0252\n"
     ]
    }
   ],
   "source": [
    "print(f\"mean:{round(m(x), 4)}, std: {round(np.std(x), 4)}\")"
   ]
  },
  {
   "cell_type": "code",
   "execution_count": 697,
   "id": "0696a3bb-b138-4285-b580-c778f291a910",
   "metadata": {},
   "outputs": [],
   "source": [
    "i = -1"
   ]
  },
  {
   "cell_type": "code",
   "execution_count": 698,
   "id": "eb874768-15f7-4e7c-abe4-175602092a9b",
   "metadata": {},
   "outputs": [
    {
     "data": {
      "text/plain": [
       "[<matplotlib.lines.Line2D at 0x7fa978e81cd0>]"
      ]
     },
     "execution_count": 698,
     "metadata": {},
     "output_type": "execute_result"
    },
    {
     "data": {
      "image/png": "[encoded data removed]",
      "text/plain": [
       "<Figure size 864x216 with 1 Axes>"
      ]
     },
     "metadata": {
      "needs_background": "light"
     },
     "output_type": "display_data"
    }
   ],
   "source": [
    "i +=1\n",
    "base = e[\n",
    "        (e.t0>m(e.t0)+2*s(e.t0))\\\n",
    "        | (e.t0<m(e.t0)-3*s(e.t0))\\\n",
    "#         & (e.v3>m(e.v3))\\\n",
    "#         & (e.k6>m(e.k6)+s(e.k6))\\\n",
    "#         & (e.k7>m(e.k7)+s(e.k7))\\\n",
    "        ]\n",
    "\n",
    "base = e[(e.t0>m(e.t0)+2*s(e.t0)) | (e.t0<m(e.t0)-3*s(e.t0))]\n",
    "\n",
    "# x = base[stats[i]]\n",
    "x = base.t0\n",
    "\n",
    "y = base.ret\n",
    "fig, ax = plt.subplots(figsize=(12,3))\n",
    "\n",
    "ax.scatter(x=x, y=y, c=\"green\")\n",
    "ax.axhline(0, c=\"gray\", alpha=0.3)\n",
    "\n",
    "ax.plot(average_line(x, y, 10))"
   ]
  },
  {
   "cell_type": "code",
   "execution_count": 699,
   "id": "38d4c5d2-cce7-4fcf-ba4f-1f874687dfa7",
   "metadata": {},
   "outputs": [
    {
     "name": "stdout",
     "output_type": "stream",
     "text": [
      "v0: mean:0.3109, std: 0.1006\n"
     ]
    }
   ],
   "source": [
    "print(f\"{stats[i]}: mean:{round(m(e[stats[i]]), 4)}, std: {round(np.std(e[stats[i]]), 4)}\")"
   ]
  },
  {
   "cell_type": "code",
   "execution_count": 700,
   "id": "1cda1fb6-15dd-4d23-b14b-68fac2603a7e",
   "metadata": {},
   "outputs": [
    {
     "name": "stdout",
     "output_type": "stream",
     "text": [
      "62.5%, for 24 events, min: 31\n"
     ]
    }
   ],
   "source": [
    "print(f\"{round(y.value_counts()[1]/len(y)*100, 2)}%, for {len(y)} events, min: {int(np.ceil(len(df)/40000))}\")"
   ]
  },
  {
   "cell_type": "code",
   "execution_count": 701,
   "id": "9c2356a2-5cdd-4e77-a210-6cc74e21cb7f",
   "metadata": {
    "tags": []
   },
   "outputs": [
    {
     "data": {
      "text/html": [
       "<div>\n",
       "<style scoped>\n",
       "    .dataframe tbody tr th:only-of-type {\n",
       "        vertical-align: middle;\n",
       "    }\n",
       "\n",
       "    .dataframe tbody tr th {\n",
       "        vertical-align: top;\n",
       "    }\n",
       "\n",
       "    .dataframe thead th {\n",
       "        text-align: right;\n",
       "    }\n",
       "</style>\n",
       "<table border=\"1\" class=\"dataframe\">\n",
       "  <thead>\n",
       "    <tr style=\"text-align: right;\">\n",
       "      <th></th>\n",
       "      <th>ret</th>\n",
       "      <th>t1</th>\n",
       "    </tr>\n",
       "    <tr>\n",
       "      <th>timestamp</th>\n",
       "      <th></th>\n",
       "      <th></th>\n",
       "    </tr>\n",
       "  </thead>\n",
       "  <tbody>\n",
       "    <tr>\n",
       "      <th>2019-09-19 03:04:00</th>\n",
       "      <td>-1.0</td>\n",
       "      <td>2019-09-19 03:04:00</td>\n",
       "    </tr>\n",
       "    <tr>\n",
       "      <th>2019-10-18 07:29:00</th>\n",
       "      <td>1.0</td>\n",
       "      <td>2019-10-18 09:02:00</td>\n",
       "    </tr>\n",
       "    <tr>\n",
       "      <th>2020-03-13 18:50:00</th>\n",
       "      <td>1.0</td>\n",
       "      <td>2020-03-13 19:43:00</td>\n",
       "    </tr>\n",
       "    <tr>\n",
       "      <th>2020-03-20 20:21:00</th>\n",
       "      <td>-1.0</td>\n",
       "      <td>2020-03-20 20:26:00</td>\n",
       "    </tr>\n",
       "    <tr>\n",
       "      <th>2020-04-30 17:30:00</th>\n",
       "      <td>-1.0</td>\n",
       "      <td>2020-04-30 17:46:00</td>\n",
       "    </tr>\n",
       "    <tr>\n",
       "      <th>2020-07-10 06:49:00</th>\n",
       "      <td>1.0</td>\n",
       "      <td>2020-07-10 07:23:00</td>\n",
       "    </tr>\n",
       "    <tr>\n",
       "      <th>2020-08-02 04:40:00</th>\n",
       "      <td>-1.0</td>\n",
       "      <td>2020-08-02 04:41:00</td>\n",
       "    </tr>\n",
       "    <tr>\n",
       "      <th>2020-08-02 11:39:00</th>\n",
       "      <td>1.0</td>\n",
       "      <td>2020-08-02 13:38:00</td>\n",
       "    </tr>\n",
       "    <tr>\n",
       "      <th>2020-11-27 15:44:00</th>\n",
       "      <td>1.0</td>\n",
       "      <td>2020-11-27 20:07:00</td>\n",
       "    </tr>\n",
       "    <tr>\n",
       "      <th>2021-01-04 10:13:00</th>\n",
       "      <td>1.0</td>\n",
       "      <td>2021-01-04 12:19:00</td>\n",
       "    </tr>\n",
       "    <tr>\n",
       "      <th>2021-01-12 14:36:00</th>\n",
       "      <td>1.0</td>\n",
       "      <td>2021-01-12 15:22:00</td>\n",
       "    </tr>\n",
       "    <tr>\n",
       "      <th>2021-01-15 16:03:00</th>\n",
       "      <td>1.0</td>\n",
       "      <td>2021-01-15 16:12:00</td>\n",
       "    </tr>\n",
       "    <tr>\n",
       "      <th>2021-02-02 00:55:00</th>\n",
       "      <td>1.0</td>\n",
       "      <td>2021-02-02 01:32:00</td>\n",
       "    </tr>\n",
       "    <tr>\n",
       "      <th>2021-02-09 16:21:00</th>\n",
       "      <td>-1.0</td>\n",
       "      <td>2021-02-09 16:25:00</td>\n",
       "    </tr>\n",
       "    <tr>\n",
       "      <th>2021-04-20 16:23:00</th>\n",
       "      <td>1.0</td>\n",
       "      <td>2021-04-20 16:54:00</td>\n",
       "    </tr>\n",
       "    <tr>\n",
       "      <th>2021-04-20 20:26:00</th>\n",
       "      <td>-1.0</td>\n",
       "      <td>2021-04-20 21:15:00</td>\n",
       "    </tr>\n",
       "    <tr>\n",
       "      <th>2021-04-22 03:16:00</th>\n",
       "      <td>-1.0</td>\n",
       "      <td>2021-04-22 08:35:00</td>\n",
       "    </tr>\n",
       "    <tr>\n",
       "      <th>2021-04-22 21:07:00</th>\n",
       "      <td>-1.0</td>\n",
       "      <td>2021-04-23 01:39:00</td>\n",
       "    </tr>\n",
       "    <tr>\n",
       "      <th>2021-04-23 13:42:00</th>\n",
       "      <td>1.0</td>\n",
       "      <td>2021-04-23 14:37:00</td>\n",
       "    </tr>\n",
       "    <tr>\n",
       "      <th>2021-05-09 03:51:00</th>\n",
       "      <td>-1.0</td>\n",
       "      <td>2021-05-09 03:51:00</td>\n",
       "    </tr>\n",
       "    <tr>\n",
       "      <th>2021-05-10 14:05:00</th>\n",
       "      <td>1.0</td>\n",
       "      <td>2021-05-10 15:43:00</td>\n",
       "    </tr>\n",
       "    <tr>\n",
       "      <th>2021-05-13 16:51:00</th>\n",
       "      <td>1.0</td>\n",
       "      <td>2021-05-13 21:14:00</td>\n",
       "    </tr>\n",
       "    <tr>\n",
       "      <th>2021-06-23 00:17:00</th>\n",
       "      <td>1.0</td>\n",
       "      <td>2021-06-23 00:44:00</td>\n",
       "    </tr>\n",
       "    <tr>\n",
       "      <th>2021-07-27 01:19:00</th>\n",
       "      <td>1.0</td>\n",
       "      <td>2021-07-27 10:31:00</td>\n",
       "    </tr>\n",
       "  </tbody>\n",
       "</table>\n",
       "</div>"
      ],
      "text/plain": [
       "                     ret                   t1\n",
       "timestamp                                    \n",
       "2019-09-19 03:04:00 -1.0  2019-09-19 03:04:00\n",
       "2019-10-18 07:29:00  1.0  2019-10-18 09:02:00\n",
       "2020-03-13 18:50:00  1.0  2020-03-13 19:43:00\n",
       "2020-03-20 20:21:00 -1.0  2020-03-20 20:26:00\n",
       "2020-04-30 17:30:00 -1.0  2020-04-30 17:46:00\n",
       "2020-07-10 06:49:00  1.0  2020-07-10 07:23:00\n",
       "2020-08-02 04:40:00 -1.0  2020-08-02 04:41:00\n",
       "2020-08-02 11:39:00  1.0  2020-08-02 13:38:00\n",
       "2020-11-27 15:44:00  1.0  2020-11-27 20:07:00\n",
       "2021-01-04 10:13:00  1.0  2021-01-04 12:19:00\n",
       "2021-01-12 14:36:00  1.0  2021-01-12 15:22:00\n",
       "2021-01-15 16:03:00  1.0  2021-01-15 16:12:00\n",
       "2021-02-02 00:55:00  1.0  2021-02-02 01:32:00\n",
       "2021-02-09 16:21:00 -1.0  2021-02-09 16:25:00\n",
       "2021-04-20 16:23:00  1.0  2021-04-20 16:54:00\n",
       "2021-04-20 20:26:00 -1.0  2021-04-20 21:15:00\n",
       "2021-04-22 03:16:00 -1.0  2021-04-22 08:35:00\n",
       "2021-04-22 21:07:00 -1.0  2021-04-23 01:39:00\n",
       "2021-04-23 13:42:00  1.0  2021-04-23 14:37:00\n",
       "2021-05-09 03:51:00 -1.0  2021-05-09 03:51:00\n",
       "2021-05-10 14:05:00  1.0  2021-05-10 15:43:00\n",
       "2021-05-13 16:51:00  1.0  2021-05-13 21:14:00\n",
       "2021-06-23 00:17:00  1.0  2021-06-23 00:44:00\n",
       "2021-07-27 01:19:00  1.0  2021-07-27 10:31:00"
      ]
     },
     "execution_count": 701,
     "metadata": {},
     "output_type": "execute_result"
    }
   ],
   "source": [
    "events.reindex(x.index)"
   ]
  },
  {
   "cell_type": "markdown",
   "id": "f332567f-81dc-4fdd-abed-b01917317d9c",
   "metadata": {},
   "source": [
    "## Combinations"
   ]
  },
  {
   "cell_type": "markdown",
   "id": "ad8fecbb-fb23-425c-9972-fe1737dfaaa5",
   "metadata": {},
   "source": [
    "- e[(e.v0<m(e.v0)) & (e.k0>1.2*m(e.k0)) & (e.s0>m(e.s0))] ?? e[(e.v0<m(e.v0)) & (e.k0>m(e.k0)+0.5*s(e.k0)) & (e.s0>m(e.s0))]\n",
    "- e[(e.k1<2*m(e.k1)) & (e.s0<2*m(e.s0)) & (e.s1>1.5*m(e.s1))]\n",
    "<!-- - e[(e.t0>-2*m(e.t0)) & (e.k3>1.5*m(e.k3))] -->\n",
    "- e[\n",
    "        (e.k5<m(e.k5)+2*s(e.k5))\\\n",
    "        & (e.k5>m(e.k5)-2*s(e.k5))\\\n",
    "        & (e.k6>m(e.k6)+s(e.k6))\\\n",
    "        & (e.k7>m(e.k7)+s(e.k7))\\\n",
    "        ]\n",
    "<!-- - e[(e.t0>m(e.t0)+0.5*s(e.t0))] -->\n",
    "- e[(e.t0>m(e.t0)+0.5*s(e.t0)) & (e.k3>m(e.k3)+s(e.k3))]\n",
    "    - e[(e.t0>m(e.t0)+0.5*s(e.t0)) & (e.k3>m(e.k3)+s(e.k3)) & (e.k5<m(e.k5))]\n",
    "- e[(e.k1<m(e.k1)+s(e.k1)) & (e.s0>m(e.s0)+s(e.s0)) & (e.s1>m(e.s1))]\n",
    "    - e[(e.k1<m(e.k1)+s(e.k1)) & (e.s0>m(e.s0)+s(e.s0)) & (e.s1>m(e.s1)) & (e.k5>m(e.k5)+s(e.k5))]\n",
    "- e[(e.t0>m(e.t0)+2*s(e.t0)) | (e.t0<m(e.t0)-3*s(e.t0))]"
   ]
  },
  {
   "cell_type": "code",
   "execution_count": null,
   "id": "ad3e98e2-b8a7-4a11-9f08-8b9250d6ee00",
   "metadata": {},
   "outputs": [],
   "source": [
    "# base = e[(e.v0<m(e.v0)) & (e.k0>1.2*m(e.k0)) & (e.s0>m(e.s0))]\n",
    "base = e[(e.t0>-2*m(e.t0))\\\n",
    "         & (e.k3>1.5*m(e.k3))\\\n",
    "#          & (e.s1>1.5*m(e.s1))\n",
    "        ]\n",
    "# base = e[(e.v0<m(e.v0)) & (e.k0>1.2*m(e.k0)) & (e.s0>m(e.s0))]\n",
    "\n",
    "x = base.t2\n",
    "y = base.ret\n",
    "fig, ax = plt.subplots(figsize=(12,3))\n",
    "\n",
    "ax.scatter(x=x, y=y, c=\"green\")\n",
    "ax.axhline(0, c=\"gray\", alpha=0.3)\n",
    "\n",
    "ax.plot(average_line(x, y, 10))"
   ]
  }
 ],
 "metadata": {
  "kernelspec": {
   "display_name": "Python 3 (ipykernel)",
   "language": "python",
   "name": "python3"
  },
  "language_info": {
   "codemirror_mode": {
    "name": "ipython",
    "version": 3
   },
   "file_extension": ".py",
   "mimetype": "text/x-python",
   "name": "python",
   "nbconvert_exporter": "python",
   "pygments_lexer": "ipython3",
   "version": "3.9.7"
  }
 },
 "nbformat": 4,
 "nbformat_minor": 5
}

{
 "cells": [
  {
   "cell_type": "markdown",
   "id": "ce865532-1a8f-4f1c-ae1a-5a1fa08b7452",
   "metadata": {},
   "source": [
    "# KC immediate anti-trend strat"
   ]
  },
  {
   "cell_type": "code",
   "execution_count": 1,
   "id": "89c104ff-fbda-413a-a5f1-ce2425113099",
   "metadata": {},
   "outputs": [],
   "source": [
    "from binance.client import Client\n",
    "from downloader import Downloader\n",
    "import matplotlib.pyplot as plt\n",
    "dl = Downloader()\n",
    "import pandas as pd\n",
    "import time\n",
    "from datetime import datetime\n",
    "import numpy as np\n",
    "import statsmodels.formula.api as sm\n",
    "import math\n",
    "import seaborn as sns\n",
    "import metalabeller as ml\n",
    "import ta\n",
    "import macdtester as t"
   ]
  },
  {
   "cell_type": "markdown",
   "id": "8688a78b-c522-4a00-9908-e34d6ab8d239",
   "metadata": {
    "jp-MarkdownHeadingCollapsed": true,
    "tags": []
   },
   "source": [
    "## Functions"
   ]
  },
  {
   "cell_type": "code",
   "execution_count": 350,
   "id": "25c75a97-4a6f-49d5-987d-4dae0ebaedff",
   "metadata": {},
   "outputs": [],
   "source": [
    "def get_kc(high, low, close, kc_lookback, multiplier, atr_lookback):\n",
    "    tr1 = pd.DataFrame(high - low)\n",
    "    tr2 = pd.DataFrame(abs(high - close.shift()))\n",
    "    tr3 = pd.DataFrame(abs(low - close.shift()))\n",
    "    frames = [tr1, tr2, tr3]\n",
    "    tr = pd.concat(frames, axis = 1, join = 'inner').max(axis = 1)\n",
    "    atr = tr.ewm(alpha = 1/atr_lookback).mean()\n",
    "    \n",
    "    kc_middle = close.ewm(kc_lookback).mean()\n",
    "    kc_upper = close.ewm(kc_lookback).mean() + multiplier * atr\n",
    "    kc_lower = close.ewm(kc_lookback).mean() - multiplier * atr\n",
    "    \n",
    "    return kc_middle, kc_upper, kc_lower\n",
    "    \n",
    "# For metadata\n",
    "def get_kc_events(df, events, stats, funcs, l1=1, l2=3, l3=7):\n",
    "    \"\"\"\n",
    "    stats = ['gain', v0'...]\n",
    "    funcs = [func_1, func_2...], needs to be same length as stats\n",
    "    l1, l2, l3 are lengths from t0-days:t0. \n",
    "    All funcs need to have signature func(df_1, df_7, df_30)->float\n",
    "    \n",
    "    Returns macd events, dropped nans. \n",
    "    \"\"\"\n",
    "    if len(stats) != len(funcs): raise Exception\n",
    "    result = pd.DataFrame(np.nan, index=events.index, columns=stats)\n",
    "\n",
    "    for i in range(len(events)):\n",
    "        t0 = events.index[i]\n",
    "        if t0-pd.Timedelta(days=l3) not in df.index: continue\n",
    "        df_1 = df.loc[t0-pd.Timedelta(days=l1):t0]\n",
    "        df_2 = df.loc[t0-pd.Timedelta(days=l2):t0]\n",
    "        df_3 = df.loc[t0-pd.Timedelta(days=l3):t0]\n",
    "        row = dict.fromkeys(stats, 0.)\n",
    "        \n",
    "        for j in range(len(stats)):\n",
    "            row[stats[j]] = funcs[j](df_1, df_2, df_3)\n",
    "\n",
    "        result.iloc[i] = row\n",
    "    return result.dropna()\n",
    "\n",
    "#For plotting\n",
    "def average_line(x, y, ds):\n",
    "    df = pd.Series(list(y), index=list(x)).sort_index()\n",
    "    df = df.rolling(ds).mean() \n",
    "#     df.index -= abs((df.index[0]-df.dropna().index[0])*0.5)\n",
    "    return df"
   ]
  },
  {
   "cell_type": "markdown",
   "id": "92df329a-c4bb-4b31-9f5b-32a7de72f743",
   "metadata": {
    "tags": []
   },
   "source": [
    "## Init data"
   ]
  },
  {
   "cell_type": "code",
   "execution_count": 1320,
   "id": "bcd19dd0-f099-4a23-9947-86eba17cdf04",
   "metadata": {},
   "outputs": [],
   "source": [
    "# df = dl.get_working_data(\"ATOMUSDT\", span=\"m\")\n",
    "# df = dl.get_working_data(\"DOTUSDT\", span=\"m\")\n",
    "df = dl.get_working_data(\"ADAUSDT\", span=\"m\")\n",
    "# df = dl.get_working_data(\"BATUSDT\", span=\"m\")\n",
    "# df = dl.get_working_data(\"SOLUSDT\", span=\"m\")\n",
    "# df = dl.get_working_data(\"LINKUSDT\", span=\"m\")\n",
    "# df = dl.get_working_data(\"ONEUSDT\", span=\"m\")\n",
    "# df = dl.get_working_data(\"COMPUSDT\", span=\"m\")\n",
    "\n",
    "# df = dl.get_working_data(\"BTCUSDT\", span=\"m\")"
   ]
  },
  {
   "cell_type": "code",
   "execution_count": 1321,
   "id": "492bc8e6-8d00-4c1c-ae8b-559fb5f40f68",
   "metadata": {},
   "outputs": [],
   "source": [
    "df['kc_middle'], df['kc_upper'], df['kc_lower'] = get_kc(df.high, df.low, df.close, 20*60, 2.25*np.sqrt(60), 20*60)"
   ]
  },
  {
   "cell_type": "code",
   "execution_count": 1322,
   "id": "1fec95e6-f1dd-41a9-8ba8-5909d322c06f",
   "metadata": {},
   "outputs": [],
   "source": [
    "df_ = df.rename(columns={\"open\":\"o\", \"high\":\"h\", \"low\":\"l\", \"close\":\"c\", \n",
    "                         \"volume\":\"v\", \"kc_middle\":\"m\", \"kc_upper\":\"u\", \"kc_lower\":\"b\"})"
   ]
  },
  {
   "cell_type": "code",
   "execution_count": 1323,
   "id": "27a6bfc9-e296-46e5-8b45-d8a301b6097f",
   "metadata": {},
   "outputs": [],
   "source": [
    "df_s = df_.shift()"
   ]
  },
  {
   "cell_type": "code",
   "execution_count": 1324,
   "id": "c319357d-2629-4fd9-8902-789f6c6b0ba5",
   "metadata": {},
   "outputs": [],
   "source": [
    "c_up = df_[(df_.h>df_.u) & (df_s.h<df_.u)]\n",
    "c_down = df_[(df_.l<df_.b) & (df_s.l>df_.b)]"
   ]
  },
  {
   "cell_type": "code",
   "execution_count": 1325,
   "id": "4ec573f4-ed10-4a4e-90cc-d5b5e07be1a4",
   "metadata": {},
   "outputs": [
    {
     "data": {
      "text/html": [
       "<div>\n",
       "<style scoped>\n",
       "    .dataframe tbody tr th:only-of-type {\n",
       "        vertical-align: middle;\n",
       "    }\n",
       "\n",
       "    .dataframe tbody tr th {\n",
       "        vertical-align: top;\n",
       "    }\n",
       "\n",
       "    .dataframe thead th {\n",
       "        text-align: right;\n",
       "    }\n",
       "</style>\n",
       "<table border=\"1\" class=\"dataframe\">\n",
       "  <thead>\n",
       "    <tr style=\"text-align: right;\">\n",
       "      <th></th>\n",
       "      <th>o</th>\n",
       "      <th>h</th>\n",
       "      <th>l</th>\n",
       "      <th>c</th>\n",
       "      <th>v</th>\n",
       "      <th>m</th>\n",
       "      <th>u</th>\n",
       "      <th>b</th>\n",
       "    </tr>\n",
       "    <tr>\n",
       "      <th>timestamp</th>\n",
       "      <th></th>\n",
       "      <th></th>\n",
       "      <th></th>\n",
       "      <th></th>\n",
       "      <th></th>\n",
       "      <th></th>\n",
       "      <th></th>\n",
       "      <th></th>\n",
       "    </tr>\n",
       "  </thead>\n",
       "  <tbody>\n",
       "    <tr>\n",
       "      <th>2021-11-11 01:49:00</th>\n",
       "      <td>2.086</td>\n",
       "      <td>2.087</td>\n",
       "      <td>2.084</td>\n",
       "      <td>2.086</td>\n",
       "      <td>77177.3</td>\n",
       "      <td>2.191337</td>\n",
       "      <td>2.297905</td>\n",
       "      <td>2.084769</td>\n",
       "    </tr>\n",
       "    <tr>\n",
       "      <th>2021-11-11 02:00:00</th>\n",
       "      <td>2.091</td>\n",
       "      <td>2.091</td>\n",
       "      <td>2.083</td>\n",
       "      <td>2.085</td>\n",
       "      <td>166073.2</td>\n",
       "      <td>2.190420</td>\n",
       "      <td>2.296695</td>\n",
       "      <td>2.084146</td>\n",
       "    </tr>\n",
       "    <tr>\n",
       "      <th>2021-11-11 02:53:00</th>\n",
       "      <td>2.086</td>\n",
       "      <td>2.086</td>\n",
       "      <td>2.080</td>\n",
       "      <td>2.083</td>\n",
       "      <td>54147.8</td>\n",
       "      <td>2.185412</td>\n",
       "      <td>2.289937</td>\n",
       "      <td>2.080887</td>\n",
       "    </tr>\n",
       "  </tbody>\n",
       "</table>\n",
       "</div>"
      ],
      "text/plain": [
       "                         o      h      l      c         v         m         u  \\\n",
       "timestamp                                                                       \n",
       "2021-11-11 01:49:00  2.086  2.087  2.084  2.086   77177.3  2.191337  2.297905   \n",
       "2021-11-11 02:00:00  2.091  2.091  2.083  2.085  166073.2  2.190420  2.296695   \n",
       "2021-11-11 02:53:00  2.086  2.086  2.080  2.083   54147.8  2.185412  2.289937   \n",
       "\n",
       "                            b  \n",
       "timestamp                      \n",
       "2021-11-11 01:49:00  2.084769  \n",
       "2021-11-11 02:00:00  2.084146  \n",
       "2021-11-11 02:53:00  2.080887  "
      ]
     },
     "execution_count": 1325,
     "metadata": {},
     "output_type": "execute_result"
    }
   ],
   "source": [
    "c_down.tail(3)"
   ]
  },
  {
   "cell_type": "code",
   "execution_count": 1326,
   "id": "0df99254-ecc7-4b4b-a9c6-2df1e74996d0",
   "metadata": {},
   "outputs": [],
   "source": [
    "a = []\n",
    "for i in c_down.index:\n",
    "    df_ = df.loc[i-pd.Timedelta(hours=2):i-pd.Timedelta(minutes=1)]\n",
    "    df_ = df_.low>df_.kc_lower\n",
    "    if df_.all():\n",
    "        a.append(1)\n",
    "    else: a.append(0)\n",
    "c_down[\"hour\"] = a\n",
    "c_down = c_down[c_down.hour>0]"
   ]
  },
  {
   "cell_type": "code",
   "execution_count": 1327,
   "id": "b2ebd464-1638-4c2d-bb34-2fef3529e686",
   "metadata": {},
   "outputs": [],
   "source": [
    "c_down.drop([\"hour\"], axis=1, inplace=True)"
   ]
  },
  {
   "cell_type": "markdown",
   "id": "f75c6671-c85a-4f60-9e97-c8d073a50b84",
   "metadata": {
    "tags": []
   },
   "source": [
    "## Get events"
   ]
  },
  {
   "cell_type": "code",
   "execution_count": 1328,
   "id": "64fb683c-da73-4dce-8ce0-6f360b618989",
   "metadata": {},
   "outputs": [],
   "source": [
    "events = pd.DataFrame(np.nan, index=c_down.index, columns=[\"ret\", \"t1\"])\n",
    "t1 = events.index[0]-pd.Timedelta(days=10)\n",
    "mult = 0.5\n",
    "for i in c_down.index:\n",
    "    if i<=t1: continue\n",
    "    row = c_down.loc[i]\n",
    "    df_ = df.loc[i:i+pd.Timedelta(days=1)]\n",
    "    dist = row.m-row.b\n",
    "    tp, sl = 0, 0\n",
    "    try: tp = df_[df_.high>row.b+mult*dist].index[1] if df_[df_.high>row.b+mult*dist].index[0]==i else df_[df_.high>row.b+mult*dist].index[0] \n",
    "                \n",
    "    except: tp=df.index[-1]\n",
    "    try: sl = df_[df_.low<row.b-mult*dist].index[0]\n",
    "    except: sl = df.index[-1]\n",
    "#     print(f\"=={tp}, {sl}==\")\n",
    "    if tp>sl: \n",
    "        events.loc[i] = {\"ret\":-1, \"t1\":sl}\n",
    "        t1 = sl\n",
    "    elif sl>tp: \n",
    "        events.loc[i] = {\"ret\":1, \"t1\":tp}\n",
    "        t1 = tp\n",
    "    else: \n",
    "        events.loc[i] = {\"ret\":0, \"t1\":i}\n",
    "        t1 = i\n",
    "    \n",
    " "
   ]
  },
  {
   "cell_type": "code",
   "execution_count": 1329,
   "id": "494933ad-bb47-4c62-9e7c-cbb730ec0472",
   "metadata": {},
   "outputs": [],
   "source": [
    "events.dropna(inplace=True)"
   ]
  },
  {
   "cell_type": "code",
   "execution_count": 1330,
   "id": "b70b95af-5133-49fd-a826-cc4520441971",
   "metadata": {},
   "outputs": [
    {
     "data": {
      "text/plain": [
       " 1.0    401\n",
       "-1.0    383\n",
       " 0.0      2\n",
       "Name: ret, dtype: int64"
      ]
     },
     "execution_count": 1330,
     "metadata": {},
     "output_type": "execute_result"
    }
   ],
   "source": [
    "events.ret.value_counts()"
   ]
  },
  {
   "cell_type": "markdown",
   "id": "860172d4-92ce-4a03-a770-e89eb1e4eaba",
   "metadata": {
    "jp-MarkdownHeadingCollapsed": true,
    "tags": []
   },
   "source": [
    "## View events"
   ]
  },
  {
   "cell_type": "code",
   "execution_count": 310,
   "id": "6ba32d14-c6a3-468a-b1b1-5f4e2a97f334",
   "metadata": {},
   "outputs": [],
   "source": [
    "i=200"
   ]
  },
  {
   "cell_type": "code",
   "execution_count": 311,
   "id": "5f2a8a5d-13e7-41ad-8f93-6dabeb7fefb1",
   "metadata": {},
   "outputs": [
    {
     "data": {
      "text/plain": [
       "[<matplotlib.lines.Line2D at 0x7f9467a379d0>]"
      ]
     },
     "execution_count": 311,
     "metadata": {},
     "output_type": "execute_result"
    },
    {
     "data": {
      "image/png": "[encoded data removed]",
      "text/plain": [
       "<Figure size 864x288 with 1 Axes>"
      ]
     },
     "metadata": {
      "needs_background": "light"
     },
     "output_type": "display_data"
    }
   ],
   "source": [
    "i+=1\n",
    "item = events.index[i]\n",
    "fig, ax = plt.subplots(figsize=(12,4))\n",
    "ax.plot(df.loc[item-pd.Timedelta(days=3):item+pd.Timedelta(days=2)].high, c=\"green\", alpha=0.1)\n",
    "ax.plot(df.loc[item-pd.Timedelta(days=3):item+pd.Timedelta(days=2)].close, c=\"black\", alpha=0.3)\n",
    "ax.plot(df.loc[item-pd.Timedelta(days=3):item+pd.Timedelta(days=2)].low, c=\"red\", alpha=0.1)\n",
    "\n",
    "ax.plot(df.loc[item-pd.Timedelta(days=2):item].kc_upper, c=\"blue\", alpha=0.3)\n",
    "ax.plot(df.loc[item-pd.Timedelta(days=2):item].kc_middle, c=\"black\", alpha=0.3)\n",
    "ax.plot(df.loc[item-pd.Timedelta(days=2):item].kc_lower, c=\"blue\", alpha=0.3)\n",
    "\n",
    "ax.plot(df.loc[item:events.loc[item].t1].close, c=\"orange\", alpha=1)\n",
    "# ax.axhline(df.loc[item].close*events.loc[item].trgt+df.loc[item].close, c=\"green\", alpha=0.2)\n",
    "# ax.axhline(-df.loc[item].close*events.loc[item].trgt+df.loc[item].close, c=\"red\", alpha=0.2)\n"
   ]
  },
  {
   "cell_type": "code",
   "execution_count": 312,
   "id": "85aa418f-ff81-42b2-a750-54507aa44006",
   "metadata": {},
   "outputs": [
    {
     "data": {
      "text/plain": [
       "201"
      ]
     },
     "execution_count": 312,
     "metadata": {},
     "output_type": "execute_result"
    }
   ],
   "source": [
    "i"
   ]
  },
  {
   "cell_type": "code",
   "execution_count": 313,
   "id": "579bf1c4-dddb-437a-8431-c464d4140c4d",
   "metadata": {},
   "outputs": [
    {
     "data": {
      "text/plain": [
       "ret                   -1.0\n",
       "t1     2020-01-05 10:47:00\n",
       "Name: 2020-01-05 10:27:00, dtype: object"
      ]
     },
     "execution_count": 313,
     "metadata": {},
     "output_type": "execute_result"
    }
   ],
   "source": [
    "events.loc[events.index[i]]"
   ]
  },
  {
   "cell_type": "code",
   "execution_count": 314,
   "id": "209294ab-545f-4598-92ed-ccfb1a18062f",
   "metadata": {},
   "outputs": [
    {
     "data": {
      "text/plain": [
       "open             4.264000\n",
       "high             4.272000\n",
       "low              4.210000\n",
       "close            4.239000\n",
       "volume       35306.044000\n",
       "kc_middle        4.289744\n",
       "kc_upper         4.356588\n",
       "kc_lower         4.222900\n",
       "Name: 2020-01-05 10:27:00, dtype: float64"
      ]
     },
     "execution_count": 314,
     "metadata": {},
     "output_type": "execute_result"
    }
   ],
   "source": [
    "df.loc[events.index[i]]"
   ]
  },
  {
   "cell_type": "markdown",
   "id": "1aab95f7-4e98-48d7-b6f9-c4943eb59b7f",
   "metadata": {
    "tags": []
   },
   "source": [
    "## Get metadata"
   ]
  },
  {
   "cell_type": "code",
   "execution_count": 1345,
   "id": "1d988a4d-7a5f-4178-8f48-b92ab38f14aa",
   "metadata": {},
   "outputs": [],
   "source": [
    "stats = [\"v0\", \"k0\", \"s0\", \"v1\", \"v2\", \"k1\", \"k2\", \"s1\", \"s2\", \"t0\", \"t1\", \"t2\", \"k3\", \"k4\", \"k5\",\n",
    "         \"k6\", \"k7\", \"v3\"]"
   ]
  },
  {
   "cell_type": "code",
   "execution_count": 1395,
   "id": "0c1936d4-3c2f-47fa-9ee4-43070863810a",
   "metadata": {},
   "outputs": [],
   "source": [
    "def volume(df1, df2, df3):\n",
    "    return sum(df1.volume)/sum(df2.volume)\n",
    "def kc_mid(df1, df2, df3):\n",
    "    return np.mean((df1.close-df1.kc_lower)/(df1.kc_upper-df1.kc_lower))\n",
    "#     return np.mean((df1.close-df1.kc_lower)/(df1.kc_upper-df1.kc_lower))\n",
    "def std_compare(df1, df2, df3):\n",
    "    return np.std(df1.close)/df1.iloc[0].close\n",
    "def v1(df1, df2, df3):\n",
    "    return sum(df1.volume)/sum(df3.volume)\n",
    "def v2(df1, df2, df3):\n",
    "    return (np.std(df1.volume)-np.std(df2.volume))/df1.iloc[0].close\n",
    "def k1(df1, df2, df3):\n",
    "    return np.mean(df1.kc_upper-df1.kc_lower)/df1.iloc[0].close\n",
    "def k2(df1, df2, df3):\n",
    "    return np.mean(df2.kc_upper-df2.kc_lower)/df2.iloc[0].close\n",
    "def s1(df1, df2, df3):\n",
    "    return np.std(df2.close)/df2.iloc[0].close\n",
    "def s2(df1, df2, df3):\n",
    "    return np.std(df2.kc_upper-df2.kc_lower)/df2.iloc[0].close\n",
    "def t0(df1, df2, df3):\n",
    "    return df1.iloc[-1].kc_middle-df1.iloc[0].kc_middle\n",
    "def t1(df1, df2, df3):\n",
    "    return df2.iloc[-1].kc_middle-df2.iloc[0].kc_middle\n",
    "def t2(df1, df2, df3):\n",
    "    return df3.iloc[-1].kc_middle-df3.iloc[0].kc_middle\n",
    "def k3(df1, df2, df3):\n",
    "    return np.mean((df2.close-df2.kc_lower)/(df2.kc_upper-df2.kc_lower))\n",
    "def k4(df1, df2, df3):\n",
    "    return np.mean((df3.close-df3.kc_lower)/(df3.kc_upper-df3.kc_lower))\n",
    "def k5(df1, df2, df3):\n",
    "    return ((df1.kc_upper[-1]-df1.kc_lower[-1])-(df1.kc_upper[0]-df1.kc_lower[0]))/df1.iloc[0].close\n",
    "def k6(df1, df2, df3):\n",
    "    return ((df2.kc_upper[-1]-df2.kc_lower[-1])-(df2.kc_upper[0]-df2.kc_lower[0]))/df2.iloc[0].close\n",
    "def k7(df1, df2, df3):\n",
    "    return ((df3.kc_upper[-1]-df3.kc_lower[-1])-(df3.kc_upper[0]-df3.kc_lower[0]))/df3.iloc[0].close\n",
    "def v3(df1, df2, df3):\n",
    "    return sum(df1.loc[df1.index[-1]-pd.Timedelta(hours=12):].volume)/sum(df1.volume)"
   ]
  },
  {
   "cell_type": "code",
   "execution_count": 1396,
   "id": "90a5f944-12e2-427d-b576-4d23c6f05cba",
   "metadata": {},
   "outputs": [],
   "source": [
    "funcs = [volume, kc_mid, std_compare, v1, v2, k1, k2, s1, s2, t0, t1, t2, k3, k4, k5,\n",
    "         k6, k7, v3]"
   ]
  },
  {
   "cell_type": "code",
   "execution_count": 1397,
   "id": "4c151472-ba7e-4cbc-8bea-4ed1e8b77410",
   "metadata": {},
   "outputs": [],
   "source": [
    "e = get_kc_events(df, events, stats, funcs)"
   ]
  },
  {
   "cell_type": "code",
   "execution_count": 1398,
   "id": "3a2ddd00-b167-4851-9d7c-888fa25c688b",
   "metadata": {},
   "outputs": [],
   "source": [
    "e[\"ret\"] = events.ret"
   ]
  },
  {
   "cell_type": "code",
   "execution_count": 1399,
   "id": "75994eba-2203-46d2-a02b-ac17b3046b3e",
   "metadata": {},
   "outputs": [
    {
     "data": {
      "text/html": [
       "<div>\n",
       "<style scoped>\n",
       "    .dataframe tbody tr th:only-of-type {\n",
       "        vertical-align: middle;\n",
       "    }\n",
       "\n",
       "    .dataframe tbody tr th {\n",
       "        vertical-align: top;\n",
       "    }\n",
       "\n",
       "    .dataframe thead th {\n",
       "        text-align: right;\n",
       "    }\n",
       "</style>\n",
       "<table border=\"1\" class=\"dataframe\">\n",
       "  <thead>\n",
       "    <tr style=\"text-align: right;\">\n",
       "      <th></th>\n",
       "      <th>v0</th>\n",
       "      <th>k0</th>\n",
       "      <th>s0</th>\n",
       "      <th>v1</th>\n",
       "      <th>v2</th>\n",
       "      <th>k1</th>\n",
       "      <th>k2</th>\n",
       "      <th>s1</th>\n",
       "      <th>s2</th>\n",
       "      <th>t0</th>\n",
       "      <th>t1</th>\n",
       "      <th>t2</th>\n",
       "      <th>k3</th>\n",
       "      <th>k4</th>\n",
       "      <th>k5</th>\n",
       "      <th>k6</th>\n",
       "      <th>k7</th>\n",
       "      <th>v3</th>\n",
       "      <th>ret</th>\n",
       "    </tr>\n",
       "    <tr>\n",
       "      <th>timestamp</th>\n",
       "      <th></th>\n",
       "      <th></th>\n",
       "      <th></th>\n",
       "      <th></th>\n",
       "      <th></th>\n",
       "      <th></th>\n",
       "      <th></th>\n",
       "      <th></th>\n",
       "      <th></th>\n",
       "      <th></th>\n",
       "      <th></th>\n",
       "      <th></th>\n",
       "      <th></th>\n",
       "      <th></th>\n",
       "      <th></th>\n",
       "      <th></th>\n",
       "      <th></th>\n",
       "      <th></th>\n",
       "      <th></th>\n",
       "    </tr>\n",
       "  </thead>\n",
       "  <tbody>\n",
       "    <tr>\n",
       "      <th>2021-11-04 15:15:00</th>\n",
       "      <td>0.295288</td>\n",
       "      <td>0.620842</td>\n",
       "      <td>0.011676</td>\n",
       "      <td>0.147368</td>\n",
       "      <td>-17557.653464</td>\n",
       "      <td>0.060671</td>\n",
       "      <td>0.052798</td>\n",
       "      <td>0.027332</td>\n",
       "      <td>0.009323</td>\n",
       "      <td>0.019855</td>\n",
       "      <td>0.064488</td>\n",
       "      <td>0.018919</td>\n",
       "      <td>0.657422</td>\n",
       "      <td>0.512746</td>\n",
       "      <td>-0.009246</td>\n",
       "      <td>0.006524</td>\n",
       "      <td>-0.018764</td>\n",
       "      <td>0.462372</td>\n",
       "      <td>-1.0</td>\n",
       "    </tr>\n",
       "    <tr>\n",
       "      <th>2021-11-06 11:05:00</th>\n",
       "      <td>0.231841</td>\n",
       "      <td>0.413523</td>\n",
       "      <td>0.007804</td>\n",
       "      <td>0.096219</td>\n",
       "      <td>-38837.995254</td>\n",
       "      <td>0.045882</td>\n",
       "      <td>0.051426</td>\n",
       "      <td>0.017245</td>\n",
       "      <td>0.007296</td>\n",
       "      <td>-0.009895</td>\n",
       "      <td>-0.000275</td>\n",
       "      <td>-0.006903</td>\n",
       "      <td>0.484845</td>\n",
       "      <td>0.483569</td>\n",
       "      <td>-0.004479</td>\n",
       "      <td>-0.012731</td>\n",
       "      <td>-0.003587</td>\n",
       "      <td>0.516838</td>\n",
       "      <td>1.0</td>\n",
       "    </tr>\n",
       "    <tr>\n",
       "      <th>2021-11-10 20:01:00</th>\n",
       "      <td>0.304599</td>\n",
       "      <td>0.722016</td>\n",
       "      <td>0.012095</td>\n",
       "      <td>0.208806</td>\n",
       "      <td>-14365.004708</td>\n",
       "      <td>0.075988</td>\n",
       "      <td>0.062475</td>\n",
       "      <td>0.051542</td>\n",
       "      <td>0.022249</td>\n",
       "      <td>0.047490</td>\n",
       "      <td>0.228632</td>\n",
       "      <td>0.201549</td>\n",
       "      <td>1.025924</td>\n",
       "      <td>0.695907</td>\n",
       "      <td>-0.008024</td>\n",
       "      <td>0.046416</td>\n",
       "      <td>0.016592</td>\n",
       "      <td>0.481466</td>\n",
       "      <td>1.0</td>\n",
       "    </tr>\n",
       "  </tbody>\n",
       "</table>\n",
       "</div>"
      ],
      "text/plain": [
       "                           v0        k0        s0        v1            v2  \\\n",
       "timestamp                                                                   \n",
       "2021-11-04 15:15:00  0.295288  0.620842  0.011676  0.147368 -17557.653464   \n",
       "2021-11-06 11:05:00  0.231841  0.413523  0.007804  0.096219 -38837.995254   \n",
       "2021-11-10 20:01:00  0.304599  0.722016  0.012095  0.208806 -14365.004708   \n",
       "\n",
       "                           k1        k2        s1        s2        t0  \\\n",
       "timestamp                                                               \n",
       "2021-11-04 15:15:00  0.060671  0.052798  0.027332  0.009323  0.019855   \n",
       "2021-11-06 11:05:00  0.045882  0.051426  0.017245  0.007296 -0.009895   \n",
       "2021-11-10 20:01:00  0.075988  0.062475  0.051542  0.022249  0.047490   \n",
       "\n",
       "                           t1        t2        k3        k4        k5  \\\n",
       "timestamp                                                               \n",
       "2021-11-04 15:15:00  0.064488  0.018919  0.657422  0.512746 -0.009246   \n",
       "2021-11-06 11:05:00 -0.000275 -0.006903  0.484845  0.483569 -0.004479   \n",
       "2021-11-10 20:01:00  0.228632  0.201549  1.025924  0.695907 -0.008024   \n",
       "\n",
       "                           k6        k7        v3  ret  \n",
       "timestamp                                               \n",
       "2021-11-04 15:15:00  0.006524 -0.018764  0.462372 -1.0  \n",
       "2021-11-06 11:05:00 -0.012731 -0.003587  0.516838  1.0  \n",
       "2021-11-10 20:01:00  0.046416  0.016592  0.481466  1.0  "
      ]
     },
     "execution_count": 1399,
     "metadata": {},
     "output_type": "execute_result"
    }
   ],
   "source": [
    "e.tail(3)"
   ]
  },
  {
   "cell_type": "markdown",
   "id": "e5050191-397e-4cf6-8b3c-cb4f6383c740",
   "metadata": {},
   "source": [
    "## Analysis and testing"
   ]
  },
  {
   "cell_type": "code",
   "execution_count": 1423,
   "id": "814d8ede-38f5-436a-92fe-15b40a78c377",
   "metadata": {},
   "outputs": [
    {
     "data": {
      "text/plain": [
       "[<matplotlib.lines.Line2D at 0x7f93d3159310>]"
      ]
     },
     "execution_count": 1423,
     "metadata": {},
     "output_type": "execute_result"
    },
    {
     "data": {
      "image/png": "[encoded data removed]",
      "text/plain": [
       "<Figure size 864x216 with 1 Axes>"
      ]
     },
     "metadata": {
      "needs_background": "light"
     },
     "output_type": "display_data"
    }
   ],
   "source": [
    "x = e.v1\n",
    "y = e.ret\n",
    "fig, ax = plt.subplots(figsize=(12,3))\n",
    "ax.scatter(x=x, y=y, c=\"green\")\n",
    "ax.axhline(0, c=\"gray\", alpha=0.3)\n",
    "\n",
    "ax.plot(average_line(x, y, 10))"
   ]
  },
  {
   "cell_type": "code",
   "execution_count": 1424,
   "id": "83b503fd-4a96-41f6-8a86-fa3458f9443b",
   "metadata": {},
   "outputs": [
    {
     "name": "stdout",
     "output_type": "stream",
     "text": [
      "mean:0.1264, std: 0.0521\n"
     ]
    }
   ],
   "source": [
    "print(f\"mean:{round(m(x), 4)}, std: {round(np.std(x), 4)}\")"
   ]
  },
  {
   "cell_type": "code",
   "execution_count": 1402,
   "id": "ff8ebd1e-1789-4cb1-a029-c608bd74839d",
   "metadata": {},
   "outputs": [
    {
     "name": "stdout",
     "output_type": "stream",
     "text": [
      "['v0', 'k0', 's0', 'v1', 'v2', 'k1', 'k2', 's1', 's2', 't0', 't1', 't2', 'k3', 'k4', 'k5', 'k6', 'k7', 'v3']\n"
     ]
    }
   ],
   "source": [
    "def m(s):\n",
    "    return np.mean(s)\n",
    "def s(s):\n",
    "    return np.std(s)\n",
    "print(stats)"
   ]
  },
  {
   "cell_type": "code",
   "execution_count": 1403,
   "id": "0696a3bb-b138-4285-b580-c778f291a910",
   "metadata": {},
   "outputs": [],
   "source": [
    "i = -1"
   ]
  },
  {
   "cell_type": "code",
   "execution_count": 1421,
   "id": "eb874768-15f7-4e7c-abe4-175602092a9b",
   "metadata": {},
   "outputs": [
    {
     "data": {
      "text/plain": [
       "[<matplotlib.lines.Line2D at 0x7f93d30e52b0>]"
      ]
     },
     "execution_count": 1421,
     "metadata": {},
     "output_type": "execute_result"
    },
    {
     "data": {
      "image/png": "[encoded data removed]",
      "text/plain": [
       "<Figure size 864x216 with 1 Axes>"
      ]
     },
     "metadata": {
      "needs_background": "light"
     },
     "output_type": "display_data"
    }
   ],
   "source": [
    "i +=1\n",
    "base = e[\n",
    "        (e.t0>m(e.t0)+0.5*s(e.t0))\\\n",
    "#         & (e.v3>m(e.v3))\\\n",
    "#         & (e.k6>m(e.k6)+s(e.k6))\\\n",
    "#         & (e.k7>m(e.k7)+s(e.k7))\\\n",
    "        ]\n",
    "\n",
    "base = e[(e.t0>-2*m(e.t0)) & (e.k3>1.5*m(e.k3))]\n",
    "\n",
    "# x = base[stats[i]]\n",
    "x = base.v1\n",
    "\n",
    "y = base.ret\n",
    "fig, ax = plt.subplots(figsize=(12,3))\n",
    "\n",
    "ax.scatter(x=x, y=y, c=\"green\")\n",
    "ax.axhline(0, c=\"gray\", alpha=0.3)\n",
    "\n",
    "ax.plot(average_line(x, y, 10))"
   ]
  },
  {
   "cell_type": "code",
   "execution_count": 1422,
   "id": "38d4c5d2-cce7-4fcf-ba4f-1f874687dfa7",
   "metadata": {},
   "outputs": [
    {
     "name": "stdout",
     "output_type": "stream",
     "text": [
      "k3: mean:0.4547, std: 0.3043\n"
     ]
    }
   ],
   "source": [
    "print(f\"{stats[i]}: mean:{round(m(e[stats[i]]), 4)}, std: {round(np.std(e[stats[i]]), 4)}\")"
   ]
  },
  {
   "cell_type": "code",
   "execution_count": 1416,
   "id": "1cda1fb6-15dd-4d23-b14b-68fac2603a7e",
   "metadata": {},
   "outputs": [
    {
     "data": {
      "text/plain": [
       "0.5897435897435898"
      ]
     },
     "execution_count": 1416,
     "metadata": {},
     "output_type": "execute_result"
    }
   ],
   "source": [
    "y.value_counts()[1]/len(y)"
   ]
  },
  {
   "cell_type": "code",
   "execution_count": 1319,
   "id": "9c2356a2-5cdd-4e77-a210-6cc74e21cb7f",
   "metadata": {},
   "outputs": [
    {
     "data": {
      "text/html": [
       "<div>\n",
       "<style scoped>\n",
       "    .dataframe tbody tr th:only-of-type {\n",
       "        vertical-align: middle;\n",
       "    }\n",
       "\n",
       "    .dataframe tbody tr th {\n",
       "        vertical-align: top;\n",
       "    }\n",
       "\n",
       "    .dataframe thead th {\n",
       "        text-align: right;\n",
       "    }\n",
       "</style>\n",
       "<table border=\"1\" class=\"dataframe\">\n",
       "  <thead>\n",
       "    <tr style=\"text-align: right;\">\n",
       "      <th></th>\n",
       "      <th>ret</th>\n",
       "      <th>t1</th>\n",
       "    </tr>\n",
       "    <tr>\n",
       "      <th>timestamp</th>\n",
       "      <th></th>\n",
       "      <th></th>\n",
       "    </tr>\n",
       "  </thead>\n",
       "  <tbody>\n",
       "    <tr>\n",
       "      <th>2021-01-04 10:17:00</th>\n",
       "      <td>1.0</td>\n",
       "      <td>2021-01-04 10:19:00</td>\n",
       "    </tr>\n",
       "    <tr>\n",
       "      <th>2021-02-10 12:40:00</th>\n",
       "      <td>1.0</td>\n",
       "      <td>2021-02-10 12:43:00</td>\n",
       "    </tr>\n",
       "    <tr>\n",
       "      <th>2021-03-20 23:09:00</th>\n",
       "      <td>-1.0</td>\n",
       "      <td>2021-03-21 00:02:00</td>\n",
       "    </tr>\n",
       "    <tr>\n",
       "      <th>2021-03-21 02:27:00</th>\n",
       "      <td>-1.0</td>\n",
       "      <td>2021-03-21 04:49:00</td>\n",
       "    </tr>\n",
       "    <tr>\n",
       "      <th>2021-05-07 22:36:00</th>\n",
       "      <td>1.0</td>\n",
       "      <td>2021-05-07 23:12:00</td>\n",
       "    </tr>\n",
       "    <tr>\n",
       "      <th>2021-06-04 01:17:00</th>\n",
       "      <td>1.0</td>\n",
       "      <td>2021-06-04 01:30:00</td>\n",
       "    </tr>\n",
       "    <tr>\n",
       "      <th>2021-06-04 05:37:00</th>\n",
       "      <td>-1.0</td>\n",
       "      <td>2021-06-04 07:20:00</td>\n",
       "    </tr>\n",
       "    <tr>\n",
       "      <th>2021-07-27 01:36:00</th>\n",
       "      <td>1.0</td>\n",
       "      <td>2021-07-27 10:28:00</td>\n",
       "    </tr>\n",
       "    <tr>\n",
       "      <th>2021-08-12 05:28:00</th>\n",
       "      <td>1.0</td>\n",
       "      <td>2021-08-12 05:41:00</td>\n",
       "    </tr>\n",
       "    <tr>\n",
       "      <th>2021-08-17 20:28:00</th>\n",
       "      <td>1.0</td>\n",
       "      <td>2021-08-18 00:21:00</td>\n",
       "    </tr>\n",
       "    <tr>\n",
       "      <th>2021-10-10 21:05:00</th>\n",
       "      <td>1.0</td>\n",
       "      <td>2021-10-10 22:53:00</td>\n",
       "    </tr>\n",
       "    <tr>\n",
       "      <th>2021-10-10 23:51:00</th>\n",
       "      <td>1.0</td>\n",
       "      <td>2021-10-11 00:10:00</td>\n",
       "    </tr>\n",
       "  </tbody>\n",
       "</table>\n",
       "</div>"
      ],
      "text/plain": [
       "                     ret                   t1\n",
       "timestamp                                    \n",
       "2021-01-04 10:17:00  1.0  2021-01-04 10:19:00\n",
       "2021-02-10 12:40:00  1.0  2021-02-10 12:43:00\n",
       "2021-03-20 23:09:00 -1.0  2021-03-21 00:02:00\n",
       "2021-03-21 02:27:00 -1.0  2021-03-21 04:49:00\n",
       "2021-05-07 22:36:00  1.0  2021-05-07 23:12:00\n",
       "2021-06-04 01:17:00  1.0  2021-06-04 01:30:00\n",
       "2021-06-04 05:37:00 -1.0  2021-06-04 07:20:00\n",
       "2021-07-27 01:36:00  1.0  2021-07-27 10:28:00\n",
       "2021-08-12 05:28:00  1.0  2021-08-12 05:41:00\n",
       "2021-08-17 20:28:00  1.0  2021-08-18 00:21:00\n",
       "2021-10-10 21:05:00  1.0  2021-10-10 22:53:00\n",
       "2021-10-10 23:51:00  1.0  2021-10-11 00:10:00"
      ]
     },
     "execution_count": 1319,
     "metadata": {},
     "output_type": "execute_result"
    }
   ],
   "source": [
    "events.reindex(x.index)"
   ]
  },
  {
   "cell_type": "markdown",
   "id": "f332567f-81dc-4fdd-abed-b01917317d9c",
   "metadata": {},
   "source": [
    "## Combinations"
   ]
  },
  {
   "cell_type": "markdown",
   "id": "ad8fecbb-fb23-425c-9972-fe1737dfaaa5",
   "metadata": {},
   "source": [
    "- e[(e.v0<m(e.v0)) & (e.k0>1.2*m(e.k0)) & (e.s0>m(e.s0))] ?? e[(e.v0<m(e.v0)) & (e.k0>m(e.k0)+0.5*s(e.k0)) & (e.s0>m(e.s0))]\n",
    "- e[(e.k1<2*m(e.k1)) & (e.s0<2*m(e.s0)) & (e.s1>1.5*m(e.s1))]\n",
    "- e[(e.t0>-2*m(e.t0)) & (e.k3>1.5*m(e.k3))]\n",
    "- e[\n",
    "        (e.k5<m(e.k5)+2*s(e.k5))\\\n",
    "        & (e.k5>m(e.k5)-2*s(e.k5))\\\n",
    "        & (e.k6>m(e.k6)+s(e.k6))\\\n",
    "        & (e.k7>m(e.k7)+s(e.k7))\\\n",
    "        ]\n",
    "- e[(e.t0>m(e.t0)+0.5*s(e.t0))]"
   ]
  },
  {
   "cell_type": "code",
   "execution_count": null,
   "id": "ad3e98e2-b8a7-4a11-9f08-8b9250d6ee00",
   "metadata": {},
   "outputs": [],
   "source": [
    "# base = e[(e.v0<m(e.v0)) & (e.k0>1.2*m(e.k0)) & (e.s0>m(e.s0))]\n",
    "base = e[(e.t0>-2*m(e.t0))\\\n",
    "         & (e.k3>1.5*m(e.k3))\\\n",
    "#          & (e.s1>1.5*m(e.s1))\n",
    "        ]\n",
    "# base = e[(e.v0<m(e.v0)) & (e.k0>1.2*m(e.k0)) & (e.s0>m(e.s0))]\n",
    "\n",
    "x = base.t2\n",
    "y = base.ret\n",
    "fig, ax = plt.subplots(figsize=(12,3))\n",
    "\n",
    "ax.scatter(x=x, y=y, c=\"green\")\n",
    "ax.axhline(0, c=\"gray\", alpha=0.3)\n",
    "\n",
    "ax.plot(average_line(x, y, 10))"
   ]
  }
 ],
 "metadata": {
  "kernelspec": {
   "display_name": "Python 3 (ipykernel)",
   "language": "python",
   "name": "python3"
  },
  "language_info": {
   "codemirror_mode": {
    "name": "ipython",
    "version": 3
   },
   "file_extension": ".py",
   "mimetype": "text/x-python",
   "name": "python",
   "nbconvert_exporter": "python",
   "pygments_lexer": "ipython3",
   "version": "3.9.7"
  }
 },
 "nbformat": 4,
 "nbformat_minor": 5
}

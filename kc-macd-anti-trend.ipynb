{
 "cells": [
  {
   "cell_type": "markdown",
   "id": "575959cf-4b71-4580-a090-77e98ff69134",
   "metadata": {},
   "source": [
    "# kc-macd-anti-trend\n",
    "- same kc anti-trend\n",
    "- with modified macd 3 10 16, by end of hour 4 where T 1 2 3 4, where T is trade hour, macd must have crossed to other side, else liquidate without question. Set 1 day time stop. \n",
    "- if after hour 4 and macd crosses to wrong direction, liquidate without question\n",
    "- measure profit/loss by % tp/sl line. If reached, then 1, if halfway to stop loss, then -0.5, etc."
   ]
  },
  {
   "cell_type": "code",
   "execution_count": 1,
   "id": "d588ba7a-ccac-45d0-8404-f88450a9f2bd",
   "metadata": {},
   "outputs": [],
   "source": [
    "from binance.client import Client\n",
    "from downloader import Downloader\n",
    "import matplotlib.pyplot as plt\n",
    "dl = Downloader()\n",
    "import pandas as pd\n",
    "import time\n",
    "from datetime import datetime\n",
    "import numpy as np\n",
    "import statsmodels.formula.api as sm\n",
    "import math\n",
    "import seaborn as sns\n",
    "import metalabeller as ml\n",
    "import ta\n",
    "import macdtester as t"
   ]
  },
  {
   "cell_type": "code",
   "execution_count": 310,
   "id": "c6d80ff6-a691-4bfa-8152-c105f1c7c4c5",
   "metadata": {},
   "outputs": [],
   "source": [
    "df = dl.get_working_data(\"DOGEUSDT\", span=\"m\")\n",
    "# dfh = dl.get_working_data(\"BTCUSDT\", span=\"h\")"
   ]
  },
  {
   "cell_type": "markdown",
   "id": "a61a8165-02ad-4362-a4ec-025e59943257",
   "metadata": {},
   "source": [
    "## Functions"
   ]
  },
  {
   "cell_type": "code",
   "execution_count": 311,
   "id": "6ca49711-fc13-4b48-ac83-b1d93a403253",
   "metadata": {
    "tags": []
   },
   "outputs": [],
   "source": [
    "def get_kc(high, low, close, kc_lookback, multiplier, atr_lookback):\n",
    "    tr1 = pd.DataFrame(high - low)\n",
    "    tr2 = pd.DataFrame(abs(high - close.shift()))\n",
    "    tr3 = pd.DataFrame(abs(low - close.shift()))\n",
    "    frames = [tr1, tr2, tr3]\n",
    "    tr = pd.concat(frames, axis = 1, join = 'inner').max(axis = 1)\n",
    "    atr = tr.ewm(alpha = 1/atr_lookback).mean()\n",
    "    \n",
    "    kc_middle = close.ewm(kc_lookback).mean()\n",
    "    kc_upper = close.ewm(kc_lookback).mean() + multiplier * atr\n",
    "    kc_lower = close.ewm(kc_lookback).mean() - multiplier * atr\n",
    "    \n",
    "    return kc_middle, kc_upper, kc_lower\n",
    "    \n",
    "# For metadata\n",
    "def get_kc_events(df, events, stats, funcs, l1=1, l2=3, l3=7):\n",
    "    \"\"\"\n",
    "    stats = ['gain', v0'...]\n",
    "    funcs = [func_1, func_2...], needs to be same length as stats\n",
    "    l1, l2, l3 are lengths from t0-days:t0. \n",
    "    All funcs need to have signature func(df_1, df_7, df_30)->float\n",
    "    \n",
    "    Returns macd events, dropped nans. \n",
    "    \"\"\"\n",
    "    if len(stats) != len(funcs): raise Exception\n",
    "    result = pd.DataFrame(np.nan, index=events.index, columns=stats)\n",
    "\n",
    "    for i in range(len(events)):\n",
    "        t0 = events.index[i]\n",
    "        if t0-pd.Timedelta(days=l3) not in df.index: continue\n",
    "        df_1 = df.loc[t0-pd.Timedelta(days=l1):t0]\n",
    "        df_2 = df.loc[t0-pd.Timedelta(days=l2):t0]\n",
    "        df_3 = df.loc[t0-pd.Timedelta(days=l3):t0]\n",
    "        row = dict.fromkeys(stats, 0.)\n",
    "        \n",
    "        for j in range(len(stats)):\n",
    "            row[stats[j]] = funcs[j](df_1, df_2, df_3)\n",
    "\n",
    "        result.iloc[i] = row\n",
    "    return result.dropna()\n",
    "\n",
    "#For plotting\n",
    "def average_line(x, y, ds):\n",
    "    df = pd.Series(list(y), index=list(x)).sort_index()\n",
    "    df = df.rolling(ds).mean() \n",
    "#     df.index -= abs((df.index[0]-df.dropna().index[0])*0.5)\n",
    "    return df"
   ]
  },
  {
   "cell_type": "code",
   "execution_count": 312,
   "id": "06a4657c-9912-45b6-aae2-e593b3bc8ee2",
   "metadata": {},
   "outputs": [],
   "source": [
    "# dfh[\"macd\"] = ta.macd(dfh.open, result=\"hist\")\n",
    "# df[\"macd\"] = dfh.macd\n",
    "# df.ffill(inplace=True)\n",
    "df[\"macd\"] = ta.macd(df.close, fast=3*60, slow=10*60, signal=16*60, result=\"hist\")\n"
   ]
  },
  {
   "cell_type": "code",
   "execution_count": 313,
   "id": "d576faf0-5a9f-4605-a838-53bdf6dbf729",
   "metadata": {},
   "outputs": [],
   "source": [
    "df['kc_middle'], df['kc_upper'], df['kc_lower'] = get_kc(df.high, df.low, df.close, 20*60, 2.25*np.sqrt(60), 20*60)"
   ]
  },
  {
   "cell_type": "code",
   "execution_count": 314,
   "id": "f86902fe-fc83-4ef0-874c-521b23bea791",
   "metadata": {},
   "outputs": [
    {
     "name": "stdout",
     "output_type": "stream",
     "text": [
      "len c_up: 4269, len c_down: 4792\n"
     ]
    }
   ],
   "source": [
    "df_ = df.rename(columns={\"open\":\"o\", \"high\":\"h\", \"low\":\"l\", \"close\":\"c\", \n",
    "                         \"volume\":\"v\", \"kc_middle\":\"m\", \"kc_upper\":\"u\", \"kc_lower\":\"b\"})\n",
    "df_s = df_.shift()\n",
    "c_up = df_[(df_.h>df_.u) & (df_s.h<df_.u)]\n",
    "c_down = df_[(df_.l<df_.b) & (df_s.l>df_.b)]\n",
    "print(f\"len c_up: {int(len(c_up))}, len c_down: {int(len(c_down))}\")"
   ]
  },
  {
   "cell_type": "code",
   "execution_count": 315,
   "id": "fcc11e6c-a5f0-4565-815d-72f16dbf21a7",
   "metadata": {},
   "outputs": [],
   "source": [
    "a = []\n",
    "for i in c_down.index:\n",
    "    df_ = df.loc[i-pd.Timedelta(hours=2):i-pd.Timedelta(minutes=1)]\n",
    "    df_ = df_.low>df_.kc_lower\n",
    "    if df_.all():\n",
    "        a.append(1)\n",
    "    else: a.append(0)\n",
    "c_down[\"hour\"] = a\n",
    "c_down = c_down[c_down.hour>0]"
   ]
  },
  {
   "cell_type": "code",
   "execution_count": 316,
   "id": "3f5991b7-aff5-450c-8863-50ddfce77fa4",
   "metadata": {},
   "outputs": [],
   "source": [
    "c_down.drop([\"hour\"], axis=1, inplace=True)"
   ]
  },
  {
   "cell_type": "code",
   "execution_count": 317,
   "id": "13decee9-c305-4356-bc58-7989f3e1feab",
   "metadata": {},
   "outputs": [
    {
     "name": "stdout",
     "output_type": "stream",
     "text": [
      "len c_up: 4269, len c_down: 646\n"
     ]
    }
   ],
   "source": [
    "print(f\"len c_up: {int(len(c_up))}, len c_down: {int(len(c_down))}\")"
   ]
  },
  {
   "cell_type": "markdown",
   "id": "4a7ee686-c9a6-4584-8af1-c42e9182236b",
   "metadata": {},
   "source": [
    "## Get events"
   ]
  },
  {
   "cell_type": "code",
   "execution_count": 318,
   "id": "391df544-6667-4128-811c-44194e940e13",
   "metadata": {},
   "outputs": [],
   "source": [
    "events = pd.DataFrame(np.nan, index=c_down.index, columns=[\"ret\", \"t1\"])\n",
    "t1 = events.index[0]-pd.Timedelta(days=10)\n",
    "mult = 0.5\n",
    "for i in c_down.index:\n",
    "    if i<=t1: continue\n",
    "    row = c_down.loc[i]\n",
    "    df_ = df.loc[i:i+pd.Timedelta(days=1)]\n",
    "    dist = row.m-row.b\n",
    "    tp = row.b+mult*dist\n",
    "    sl = row.b-mult*dist\n",
    "    buy = row.b\n",
    "    \n",
    "    timedelta = pd.Timedelta(hours=4)\n",
    "    \n",
    "    # Set impromptu 4h macd time stop\n",
    "    df_4h = df_.loc[df_.index[0]:df_.index[0]+timedelta]\n",
    "    \n",
    "    tp_4h = df_4h.loc[df_4h.high>tp]\n",
    "    sl_4h = df_4h.loc[df_4h.low<sl]\n",
    "    \n",
    "    if (len(tp_4h)>0) and (len(sl_4h)==0):           #GAIN\n",
    "        events.loc[i] = {\"ret\":1., \"t1\":tp_4h.index[0]}\n",
    "        t1 = tp_4h.index[0]\n",
    "        continue\n",
    "    elif (len(sl_4h)>0) and (len(tp_4h)==0):         #LOSS\n",
    "        events.loc[i] = {\"ret\":-1., \"t1\":sl_4h.index[0]}\n",
    "        t1 = sl_4h.index[0]\n",
    "        continue\n",
    "    elif (len(sl_4h)>0) and (len(tp_4h)>0):\n",
    "        if sl_4h.index[0]<=tp_4h.index[0]:           #LOSS\n",
    "            events.loc[i] = {\"ret\":-1., \"t1\":sl_4h.index[0]}\n",
    "            t1 = sl_4h.index[0]\n",
    "            continue\n",
    "        else:                                        #GAIN\n",
    "            events.loc[i] = {\"ret\":1., \"t1\":tp_4h.index[0]}\n",
    "            t1 = tp_4h.index[0]\n",
    "            continue\n",
    "\n",
    "    #Currently, no tp or sl hit within first 4 hours\n",
    "    if (df_4h.iloc[-1].macd<0): #MACD did not flip, liquidate #PARTIAL\n",
    "        events.loc[i] = {\"ret\":(df_4h.iloc[-1].close-buy)/dist, \"t1\":df_4h.index[-1]}\n",
    "        t1 = df_4h.index[-1]\n",
    "        continue\n",
    "    \n",
    "    # MACD has flipped, liquidate when it hits tp or when macd flips again\n",
    "    df_rest = df_.loc[df_.index[0]+timedelta:]\n",
    "    \n",
    "    df_rest_above_macd = df_rest\n",
    "    if len(df_rest.loc[df_rest.macd<0])>0: #If there's some parts where macd comes back down\n",
    "        df_rest_above_macd = df_rest.loc[:df_rest.loc[df_rest.macd<0].index[0]]\n",
    "    \n",
    "    tp_rest = df_rest_above_macd.loc[df_rest_above_macd.high>tp]\n",
    "    sl_rest = df_rest_above_macd.loc[df_rest_above_macd.low<sl]\n",
    "    \n",
    "    if (len(tp_rest)>0) and (len(sl_rest)==0):      #GAIN\n",
    "        events.loc[i] = {\"ret\":1., \"t1\":tp_rest.index[0]}\n",
    "        t1 = tp_rest.index[0]\n",
    "        continue\n",
    "    elif (len(sl_rest)>0) and (len(tp_rest)==0):    #LOSS\n",
    "        events.loc[i] = {\"ret\":-1., \"t1\":sl_rest.index[0]}\n",
    "        t1 = sl_rest.index[0]\n",
    "        continue\n",
    "    elif (len(sl_rest)>0) and (len(tp_rest)>0):\n",
    "        if sl_rest.index[0]<=tp_rest.index[0]:      #LOSS\n",
    "            events.loc[i] = {\"ret\":-1., \"t1\":sl_rest.index[0]}\n",
    "            t1 = sl_rest.index[0]\n",
    "            continue\n",
    "        else:                                        #GAIN\n",
    "            events.loc[i] = {\"ret\":1., \"t1\":tp_rest.index[0]}\n",
    "            t1 = tp_rest.index[0]\n",
    "            continue\n",
    "    \n",
    "    #No tp/sl for macd upside, liquidate\n",
    "    #Mark as partial for end of df_rest_above_macd.index[-1]\n",
    "    if len(df_rest_above_macd)==0: continue\n",
    "    events.loc[i] = {\"ret\":(df_rest_above_macd.iloc[-1].close-buy)/dist, \"t1\":df_rest_above_macd.index[-1]}\n",
    "    t1 = df_rest_above_macd.index[-1]\n",
    "    \n",
    " "
   ]
  },
  {
   "cell_type": "code",
   "execution_count": 319,
   "id": "cc0e38ea-4cf6-470f-a05a-b88e3541786c",
   "metadata": {},
   "outputs": [
    {
     "data": {
      "text/plain": [
       "<AxesSubplot:>"
      ]
     },
     "execution_count": 319,
     "metadata": {},
     "output_type": "execute_result"
    },
    {
     "data": {
      "image/png": "[encoded data removed]",
      "text/plain": [
       "<Figure size 432x288 with 1 Axes>"
      ]
     },
     "metadata": {
      "needs_background": "light"
     },
     "output_type": "display_data"
    }
   ],
   "source": [
    "events.dropna(inplace=True)\n",
    "events.ret.hist()"
   ]
  },
  {
   "cell_type": "code",
   "execution_count": 320,
   "id": "4f5a911b-d39f-49ec-abd7-5e7d014dd9ff",
   "metadata": {},
   "outputs": [
    {
     "data": {
      "text/html": [
       "<div>\n",
       "<style scoped>\n",
       "    .dataframe tbody tr th:only-of-type {\n",
       "        vertical-align: middle;\n",
       "    }\n",
       "\n",
       "    .dataframe tbody tr th {\n",
       "        vertical-align: top;\n",
       "    }\n",
       "\n",
       "    .dataframe thead th {\n",
       "        text-align: right;\n",
       "    }\n",
       "</style>\n",
       "<table border=\"1\" class=\"dataframe\">\n",
       "  <thead>\n",
       "    <tr style=\"text-align: right;\">\n",
       "      <th></th>\n",
       "      <th>ret</th>\n",
       "      <th>t1</th>\n",
       "    </tr>\n",
       "    <tr>\n",
       "      <th>timestamp</th>\n",
       "      <th></th>\n",
       "      <th></th>\n",
       "    </tr>\n",
       "  </thead>\n",
       "  <tbody>\n",
       "    <tr>\n",
       "      <th>2019-07-06 19:51:00</th>\n",
       "      <td>0.209464</td>\n",
       "      <td>2019-07-06 23:51:00</td>\n",
       "    </tr>\n",
       "    <tr>\n",
       "      <th>2019-07-08 14:06:00</th>\n",
       "      <td>1.000000</td>\n",
       "      <td>2019-07-08 14:06:00</td>\n",
       "    </tr>\n",
       "    <tr>\n",
       "      <th>2019-07-09 10:13:00</th>\n",
       "      <td>-1.000000</td>\n",
       "      <td>2019-07-09 10:28:00</td>\n",
       "    </tr>\n",
       "    <tr>\n",
       "      <th>2019-07-10 15:04:00</th>\n",
       "      <td>-1.000000</td>\n",
       "      <td>2019-07-10 15:11:00</td>\n",
       "    </tr>\n",
       "    <tr>\n",
       "      <th>2019-07-11 23:27:00</th>\n",
       "      <td>1.000000</td>\n",
       "      <td>2019-07-12 00:23:00</td>\n",
       "    </tr>\n",
       "    <tr>\n",
       "      <th>...</th>\n",
       "      <td>...</td>\n",
       "      <td>...</td>\n",
       "    </tr>\n",
       "    <tr>\n",
       "      <th>2021-11-12 09:30:00</th>\n",
       "      <td>0.049270</td>\n",
       "      <td>2021-11-12 13:30:00</td>\n",
       "    </tr>\n",
       "    <tr>\n",
       "      <th>2021-11-12 16:03:00</th>\n",
       "      <td>1.000000</td>\n",
       "      <td>2021-11-12 18:00:00</td>\n",
       "    </tr>\n",
       "    <tr>\n",
       "      <th>2021-11-15 21:02:00</th>\n",
       "      <td>1.000000</td>\n",
       "      <td>2021-11-15 21:16:00</td>\n",
       "    </tr>\n",
       "    <tr>\n",
       "      <th>2021-11-16 00:03:00</th>\n",
       "      <td>-1.000000</td>\n",
       "      <td>2021-11-16 00:11:00</td>\n",
       "    </tr>\n",
       "    <tr>\n",
       "      <th>2021-11-17 09:42:00</th>\n",
       "      <td>1.000000</td>\n",
       "      <td>2021-11-17 10:51:00</td>\n",
       "    </tr>\n",
       "  </tbody>\n",
       "</table>\n",
       "<p>631 rows × 2 columns</p>\n",
       "</div>"
      ],
      "text/plain": [
       "                          ret                   t1\n",
       "timestamp                                         \n",
       "2019-07-06 19:51:00  0.209464  2019-07-06 23:51:00\n",
       "2019-07-08 14:06:00  1.000000  2019-07-08 14:06:00\n",
       "2019-07-09 10:13:00 -1.000000  2019-07-09 10:28:00\n",
       "2019-07-10 15:04:00 -1.000000  2019-07-10 15:11:00\n",
       "2019-07-11 23:27:00  1.000000  2019-07-12 00:23:00\n",
       "...                       ...                  ...\n",
       "2021-11-12 09:30:00  0.049270  2021-11-12 13:30:00\n",
       "2021-11-12 16:03:00  1.000000  2021-11-12 18:00:00\n",
       "2021-11-15 21:02:00  1.000000  2021-11-15 21:16:00\n",
       "2021-11-16 00:03:00 -1.000000  2021-11-16 00:11:00\n",
       "2021-11-17 09:42:00  1.000000  2021-11-17 10:51:00\n",
       "\n",
       "[631 rows x 2 columns]"
      ]
     },
     "execution_count": 320,
     "metadata": {},
     "output_type": "execute_result"
    }
   ],
   "source": [
    "events"
   ]
  },
  {
   "cell_type": "code",
   "execution_count": 321,
   "id": "a195d687-1b80-4d5f-ace0-4cfff8502352",
   "metadata": {},
   "outputs": [],
   "source": [
    "i=0"
   ]
  },
  {
   "cell_type": "code",
   "execution_count": 322,
   "id": "34c4d170-11ee-4210-8c0e-a2cf6948f86d",
   "metadata": {},
   "outputs": [],
   "source": [
    "i-=1"
   ]
  },
  {
   "cell_type": "code",
   "execution_count": 323,
   "id": "4f6f8edf-6d80-4087-b456-aa53ba68c8a6",
   "metadata": {},
   "outputs": [
    {
     "data": {
      "text/plain": [
       "<matplotlib.lines.Line2D at 0x7f8601792a90>"
      ]
     },
     "execution_count": 323,
     "metadata": {},
     "output_type": "execute_result"
    },
    {
     "data": {
      "image/png": "[encoded data removed]",
      "text/plain": [
       "<Figure size 864x288 with 2 Axes>"
      ]
     },
     "metadata": {
      "needs_background": "light"
     },
     "output_type": "display_data"
    }
   ],
   "source": [
    "i+=1\n",
    "item = events.index[i]\n",
    "fig, [ax, ax1] = plt.subplots(figsize=(12,4), nrows=2)\n",
    "ax.plot(df.loc[item-pd.Timedelta(days=1):item+pd.Timedelta(days=1)].high, c=\"green\", alpha=0.1)\n",
    "ax.plot(df.loc[item-pd.Timedelta(days=1):item+pd.Timedelta(days=1)].close, c=\"black\", alpha=0.3)\n",
    "ax.plot(df.loc[item-pd.Timedelta(days=1):item+pd.Timedelta(days=1)].low, c=\"red\", alpha=0.1)\n",
    "\n",
    "ax.plot(df.loc[item-pd.Timedelta(days=1):item].kc_upper, c=\"black\", alpha=0.3)\n",
    "ax.plot(df.loc[item-pd.Timedelta(days=1):item].kc_middle, c=\"black\", alpha=0.3)\n",
    "ax.plot(df.loc[item-pd.Timedelta(days=1):item].kc_lower, c=\"black\", alpha=0.3)\n",
    "\n",
    "ax.plot(df.loc[item:events.loc[item].t1].close, c=\"orange\", alpha=1)\n",
    "\n",
    "ax.plot(df.loc[item-pd.Timedelta(days=1):item+pd.Timedelta(days=1)].low, c=\"red\", alpha=0.1)\n",
    "ax.axhline(df.loc[item].kc_lower, c=\"gray\", alpha=0.5, xmin=0.5)\n",
    "ax.axhline(df.loc[item].kc_middle, c=\"green\", alpha=0.5, xmin=0.5)\n",
    "ax.axhline(df.loc[item].kc_lower-(df.loc[item].kc_middle-df.loc[item].kc_lower), c=\"red\", alpha=0.5, xmin=0.5)\n",
    "\n",
    "# ax1 = ax.twinx()\n",
    "ax1.plot(df.loc[item-pd.Timedelta(days=1):item+pd.Timedelta(days=1)].macd, c=\"purple\", alpha=0.5)\n",
    "ax1.axhline(0, c=\"purple\", alpha=0.3)\n",
    "# ax.axhline(df.loc[item].close*events.loc[item].trgt+df.loc[item].close, c=\"green\", alpha=0.2)\n",
    "# ax.axhline(-df.loc[item].close*events.loc[item].trgt+df.loc[item].close, c=\"red\", alpha=0.2)\n"
   ]
  },
  {
   "cell_type": "markdown",
   "id": "a223f0dd-e86d-4d2d-b0bb-ccb94a5ca218",
   "metadata": {},
   "source": [
    "## Previous metadata"
   ]
  },
  {
   "cell_type": "code",
   "execution_count": 324,
   "id": "99d902fc-b4f6-4682-950f-22b1ee218d47",
   "metadata": {},
   "outputs": [],
   "source": [
    "# stats = [\"k0\", \"k1\", \"k2\", \"k3\", \"k4\", \"k5\", \"k6\", \"m0\", \"m1\", \"m2\", \"p0\", \"p1\", \"p2\", \"t0\", \"t1\", \"t2\", \"t3\",\n",
    "#          \"v0\", \"v1\", \"v2\", \"v3\", \"v4\"]\n",
    "# \n",
    "# stats = [\"v0\", \"v1\", \"v2\", \"v3\", \"v4\"]\n",
    "stats = [\"h0\", \"h1\", \"h2\", \"v0\", \"v1\", \"v2\"]"
   ]
  },
  {
   "cell_type": "code",
   "execution_count": 379,
   "id": "67d0c835-3361-4390-bb14-0ef8d3ff80b9",
   "metadata": {
    "jupyter": {
     "source_hidden": true
    },
    "tags": []
   },
   "outputs": [],
   "source": [
    "def volume(df1, df2, df3):\n",
    "    return sum(df1.volume)/sum(df2.volume)\n",
    "def kc_mid(df1, df2, df3):\n",
    "    return np.mean((df1.close-df1.kc_lower)/(df1.kc_upper-df1.kc_lower))\n",
    "#     return np.mean((df1.close-df1.kc_lower)/(df1.kc_upper-df1.kc_lower))\n",
    "def std_compare(df1, df2, df3):\n",
    "    return np.std(df1.close)/df1.iloc[0].close\n",
    "def v1(df1, df2, df3):\n",
    "    return sum(df1.volume)/sum(df3.volume)\n",
    "def v2(df1, df2, df3):\n",
    "    return (np.std(df1.volume)-np.std(df2.volume))/df1.iloc[0].close\n",
    "def k1(df1, df2, df3):\n",
    "    return np.mean(df1.kc_upper-df1.kc_lower)/df1.iloc[0].close\n",
    "def k2(df1, df2, df3):\n",
    "    return np.mean(df2.kc_upper-df2.kc_lower)/df2.iloc[0].close\n",
    "def s1(df1, df2, df3):\n",
    "    return np.std(df2.close)/df2.iloc[0].close\n",
    "def s2(df1, df2, df3):\n",
    "    return np.std(df2.kc_upper-df2.kc_lower)/df2.iloc[0].close\n",
    "def t0(df1, df2, df3):\n",
    "    return (df1.iloc[-1].kc_middle-df1.iloc[0].kc_middle)/df1.iloc[0].close\n",
    "def t1(df1, df2, df3):\n",
    "    return (df2.iloc[-1].kc_middle-df2.iloc[0].kc_middle)/df2.iloc[0].close\n",
    "def t2(df1, df2, df3):\n",
    "    return (df3.iloc[-1].kc_middle-df3.iloc[0].kc_middle)/df3.iloc[0].close\n",
    "def k3(df1, df2, df3):\n",
    "    return np.mean((df2.close-df2.kc_lower)/(df2.kc_upper-df2.kc_lower))\n",
    "def k4(df1, df2, df3):\n",
    "    return np.mean((df3.close-df3.kc_lower)/(df3.kc_upper-df3.kc_lower))\n",
    "def k5(df1, df2, df3):\n",
    "    return ((df1.kc_upper[-1]-df1.kc_lower[-1])-(df1.kc_upper[0]-df1.kc_lower[0]))/df1.iloc[0].close\n",
    "def k6(df1, df2, df3):\n",
    "    return ((df2.kc_upper[-1]-df2.kc_lower[-1])-(df2.kc_upper[0]-df2.kc_lower[0]))/df2.iloc[0].close\n",
    "def k7(df1, df2, df3):\n",
    "    return ((df3.kc_upper[-1]-df3.kc_lower[-1])-(df3.kc_upper[0]-df3.kc_lower[0]))/df3.iloc[0].close\n",
    "def v3(df1, df2, df3):\n",
    "    return sum(df1.loc[df1.index[-1]-pd.Timedelta(hours=12):].volume)/sum(df1.volume)"
   ]
  },
  {
   "cell_type": "code",
   "execution_count": 1424,
   "id": "67d5ff4a-2b8e-433b-b43c-aad60d884087",
   "metadata": {
    "jupyter": {
     "source_hidden": true
    },
    "tags": []
   },
   "outputs": [],
   "source": [
    "def k0(df1, df2, df3):\n",
    "    return np.mean((df1.close-df1.kc_lower)/(df1.kc_upper-df1.kc_lower))\n",
    "def k1(df1, df2, df3):\n",
    "    return np.mean((df2.close-df2.kc_lower)/(df2.kc_upper-df2.kc_lower))\n",
    "def k2(df1, df2, df3):\n",
    "    return np.mean((df3.close-df3.kc_lower)/(df3.kc_upper-df3.kc_lower))\n",
    "def k3(df1, df2, df3):\n",
    "    df1 = df1.loc[df1.index[-1]-pd.Timedelta(hours=12):]\n",
    "    return np.mean((df1.close-df1.kc_lower)/(df1.kc_upper-df1.kc_lower))\n",
    "def k4(df1, df2, df3):\n",
    "    return df1.loc[df1.high<df1.kc_middle].shape[0]/df1.shape[0]\n",
    "def k5(df2, df1, df3):\n",
    "    return df1.loc[df1.high<df1.kc_middle].shape[0]/df1.shape[0]\n",
    "def k6(df3, df2, df1):\n",
    "    return df1.loc[df1.high<df1.kc_middle].shape[0]/df1.shape[0]\n",
    "    \n",
    "\n",
    "# def m0(df2, df1, df3):\n",
    "#     return df1.macd[-1]/df1.iloc[-1].close\n",
    "# def m1(df2, df1, df3):\n",
    "#     return (max(df1.macd)-min(df1.macd))/df1.iloc[-1].close\n",
    "# def m2(df1, df2, df3):\n",
    "#     return (max(df2.macd)-min(df2.macd))/df2.iloc[-1].close\n",
    "def m0(df2, df1, df3):\n",
    "    return min(df1.macd)/max(df1.macd)\n",
    "def m1(df2, df1, df3):\n",
    "    return min(df2.macd)/max(df2.macd)\n",
    "def m2(df1, df2, df3):\n",
    "    return min(df1.macd)/df1.iloc[-1].close\n",
    "\n",
    "# def p0(df3, df2, df1):\n",
    "#     return df3[df3.low<df3.kc_lower].shape[0]/df3.shape[0]\n",
    "# def p1(df3, df2, df1):\n",
    "#     return df3[df3.high>df3.kc_upper].shape[0]/df3.shape[0]\n",
    "def p0(df1, df2, df3):\n",
    "    return df3[(df3.high>df3.kc_upper) | (df3.low<df3.kc_lower)].shape[0]/df3.shape[0]\n",
    "def p1(df1, df3, df2):\n",
    "    return df3[(df3.high>df3.kc_upper) | (df3.low<df3.kc_lower)].shape[0]/df3.shape[0]\n",
    "def p2(df3, df2, df1):\n",
    "    return df3[(df3.high>df3.kc_upper) | (df3.low<df3.kc_lower)].shape[0]/df3.shape[0]\n",
    "\n",
    "def t0(df1, df2, df3):\n",
    "    return (df1.iloc[-1].kc_middle-df1.iloc[0].kc_middle)/df1.iloc[-1].close\n",
    "def t1(df1, df2, df3):\n",
    "    return (df2.iloc[-1].kc_middle-df2.iloc[0].kc_middle)/df2.iloc[-1].close\n",
    "def t2(df1, df2, df3):\n",
    "    return (df3.iloc[-1].kc_middle-df3.iloc[0].kc_middle)/df3.iloc[-1].close\n",
    "def t3(df1, df2, df3):\n",
    "    return (max(df2.kc_middle)-min(df2.kc_middle))/df2.iloc[0].close\n",
    "\n",
    "def v0(df1, df2, df3):\n",
    "    df_1 = df1.loc[df1.index[-1]-pd.Timedelta(minutes=5):]\n",
    "    df_2 = df1.loc[df1.index[-1]-pd.Timedelta(minutes=30):]\n",
    "    return sum(df_1.volume)/sum(df_2.volume)\n",
    "def v1(df1, df2, df3):\n",
    "    df_1 = df1.loc[df1.index[-1]-pd.Timedelta(minutes=30):]\n",
    "    df_2 = df1.loc[df1.index[-1]-pd.Timedelta(hours=4):]\n",
    "    return sum(df_1.volume)/sum(df_2.volume)\n",
    "def v2(df1, df2, df3):\n",
    "    df_1 = df1.loc[df1.index[-1]-pd.Timedelta(hours=4):]\n",
    "    df_2 = df1.loc[df1.index[-1]-pd.Timedelta(hours=12):]\n",
    "    return sum(df_1.volume)/sum(df_2.volume)\n",
    "def v3(df1, df2, df3):\n",
    "    df_1 = df1.loc[df1.index[-1]-pd.Timedelta(minutes=1):]\n",
    "    df_2 = df1.loc[df1.index[-1]-pd.Timedelta(minutes=5):]\n",
    "    return sum(df_1.volume)/sum(df_2.volume)\n",
    "def v4(df1, df2, df3):\n",
    "    return sum(df1.volume)/sum(df3.volume)"
   ]
  },
  {
   "cell_type": "code",
   "execution_count": 325,
   "id": "f685f34d-1095-4035-a0cf-533a83f7a048",
   "metadata": {},
   "outputs": [],
   "source": [
    "def v0(df1, df2, df3):\n",
    "    df_1 = df1.loc[df1.index[-1]-pd.Timedelta(hours=1):]\n",
    "    df_2 = df1.loc[df1.index[-1]-pd.Timedelta(hours=2):]\n",
    "    return sum(df_1.volume)/sum(df_2.volume)\n",
    "def v1(df1, df2, df3):\n",
    "    df_1 = df1.loc[df1.index[-1]-pd.Timedelta(hours=2):]\n",
    "    df_2 = df1.loc[df1.index[-1]-pd.Timedelta(hours=4):]\n",
    "    return sum(df_1.volume)/sum(df_2.volume)\n",
    "def v2(df1, df2, df3):\n",
    "    df_1 = df1.loc[df1.index[-1]-pd.Timedelta(hours=4):]\n",
    "    return sum(df_1.volume)/sum(df1.volume)\n",
    "def h0(df1, df2, df3):\n",
    "    df_1 = df1.loc[df1.index[-1]-pd.Timedelta(hours=1):]\n",
    "    df_2 = df1.loc[df1.index[-1]-pd.Timedelta(hours=2):]\n",
    "    return (np.mean(df_1.high-df_1.low)/np.mean(df_2.high-df_2.low))\n",
    "def h1(df1, df2, df3):\n",
    "    df_1 = df1.loc[df1.index[-1]-pd.Timedelta(hours=2):]\n",
    "    df_2 = df1.loc[df1.index[-1]-pd.Timedelta(hours=4):]\n",
    "    return np.mean(df_1.high-df_1.low)/np.mean(df_2.high-df_2.low)\n",
    "def h2(df1, df2, df3):\n",
    "    df_1 = df1.loc[df1.index[-1]-pd.Timedelta(minutes=10):]\n",
    "    df_2 = df1.loc[df1.index[-1]-pd.Timedelta(minutes=60):]\n",
    "    return np.mean(df_1.high-df_1.low)/np.mean(df_2.high-df_2.low)"
   ]
  },
  {
   "cell_type": "code",
   "execution_count": 326,
   "id": "b468eef8-7bc2-40b7-9160-1f8cd54ecf3c",
   "metadata": {},
   "outputs": [],
   "source": [
    "# funcs = [k0, k1, k2, k3, k4, k5, k6, m0, m1, m2, p0, p1, p2, t0, t1, t2, t3,\n",
    "#          v0, v1, v2, v3, v4]\n",
    "funcs = [h0, h1, h2, v0, v1, v2]"
   ]
  },
  {
   "cell_type": "code",
   "execution_count": 327,
   "id": "c14667d6-ffeb-424e-ab35-36be50a21bb7",
   "metadata": {},
   "outputs": [],
   "source": [
    "e = get_kc_events(df, events, stats, funcs)"
   ]
  },
  {
   "cell_type": "code",
   "execution_count": 328,
   "id": "2f9b2cde-75e6-42c7-8f63-45207c6d0f4f",
   "metadata": {},
   "outputs": [],
   "source": [
    "e[\"ret\"] = events.ret"
   ]
  },
  {
   "cell_type": "code",
   "execution_count": 329,
   "id": "7b126356-4b8b-4c15-af71-5ab02182803c",
   "metadata": {},
   "outputs": [
    {
     "name": "stdout",
     "output_type": "stream",
     "text": [
      "['h0', 'h1', 'h2', 'v0', 'v1', 'v2']\n"
     ]
    }
   ],
   "source": [
    "def m(s):\n",
    "    return np.mean(s)\n",
    "def s(s):\n",
    "    return np.std(s)\n",
    "print(stats)"
   ]
  },
  {
   "cell_type": "code",
   "execution_count": 330,
   "id": "7ca08917-983e-452f-a441-54e6db666730",
   "metadata": {},
   "outputs": [
    {
     "name": "stdout",
     "output_type": "stream",
     "text": [
      "0.5482, std: 0.1737\n",
      "0.5527, std: 0.1733\n"
     ]
    },
    {
     "data": {
      "image/png": "[encoded data removed]",
      "text/plain": [
       "<Figure size 864x216 with 1 Axes>"
      ]
     },
     "metadata": {
      "needs_background": "light"
     },
     "output_type": "display_data"
    }
   ],
   "source": [
    "x = e.v1\n",
    "y = e.reindex(x.index).ret\n",
    "fig, ax = plt.subplots(figsize=(12,3))\n",
    "bins = np.linspace(m(x)-2*s(x), m(x)+2*s(x), 30)\n",
    "ax.hist(x=x[y==1], bins=bins, color=\"green\", alpha=0.2)\n",
    "ax.hist(x=x[y==-1], bins=bins, color=\"red\", alpha=0.2);\n",
    "print(f\"{round(np.mean(x[y==1]), 4)}, std: {round(np.std(x[y==1]), 4)}\")\n",
    "print(f\"{round(np.mean(x[y==-1]), 4)}, std: {round(np.std(x[y==-1]), 4)}\")"
   ]
  },
  {
   "cell_type": "code",
   "execution_count": 331,
   "id": "b6f5e540-e589-4750-ae00-92ea53154047",
   "metadata": {},
   "outputs": [
    {
     "name": "stdout",
     "output_type": "stream",
     "text": [
      "mean:0.5504, std: 0.1693\n"
     ]
    }
   ],
   "source": [
    "print(f\"mean:{round(m(x), 4)}, std: {round(np.std(x), 4)}\")"
   ]
  },
  {
   "cell_type": "code",
   "execution_count": 332,
   "id": "0b0b042e-9466-4e2b-8224-a8464d0b0616",
   "metadata": {},
   "outputs": [],
   "source": [
    "i = -1"
   ]
  },
  {
   "cell_type": "code",
   "execution_count": 333,
   "id": "3e2ff0bb-e6c8-4189-9f3c-74f9280b0dc9",
   "metadata": {},
   "outputs": [
    {
     "data": {
      "image/png": "[encoded data removed]",
      "text/plain": [
       "<Figure size 864x216 with 1 Axes>"
      ]
     },
     "metadata": {
      "needs_background": "light"
     },
     "output_type": "display_data"
    }
   ],
   "source": [
    "i +=1\n",
    "base = e[ (e.index==e.index) \\\n",
    "         & (e.v2<m(e.v2)-0.5*s(e.v2)) \\\n",
    "#          & (e.h0>m(e.h0)) \\\n",
    "#          & (e.h2>m(e.h2)) \\\n",
    "#          & (e.v3<m(e.v3)) \\\n",
    "#         & ((e.t0<m(e.t0)+s(e.t0)) | (e.t0>m(e.t0)-s(e.t0))) \\\n",
    "#          & ((e.t1<m(e.t1)+s(e.t1)) | (e.t1>m(e.t1)-s(e.t1))) \\\n",
    "#          & ((e.t2<m(e.t2)+s(e.t2)) | (e.t2>m(e.t2)-s(e.t2))) \\\n",
    "#         & (e.p1>m(e.p1))\\\n",
    "#         & (e.k6>m(e.k6)+s(e.k6))\\\n",
    "#         & (e.k7>m(e.k7)+s(e.k7))\\\n",
    "        ]\n",
    "\n",
    "# base = e[ (e.index==e.index) \\\n",
    "#          & (e.p1>m(e.p1))\\\n",
    "#          & (e.v0<m(e.v0))\\\n",
    "# #         & (e.v1<m(e.v1)+s(e.v1)) & (e.v1>m(e.v1)-s(e.v1)) \\\n",
    "#         ]\n",
    "\n",
    "# x = base[stats[i]]\n",
    "x = base.v2\n",
    "\n",
    "y = base.ret\n",
    "fig, ax = plt.subplots(figsize=(12,3))\n",
    "\n",
    "bins = np.linspace(m(x)-2*s(x), m(x)+2*s(x), 30)\n",
    "ax.hist(x=x[y==1], bins=bins, color=\"green\", alpha=0.2)\n",
    "ax.hist(x=x[y==-1], bins=bins, color=\"red\", alpha=0.2);\n",
    "\n",
    "# ax.axhline(0, c=\"gray\", alpha=0.3)\n",
    "\n",
    "# ax.plot(average_line(x, y, 50))"
   ]
  },
  {
   "cell_type": "code",
   "execution_count": 334,
   "id": "95d37fb4-5c53-4af9-8eb7-dc09804e54c0",
   "metadata": {},
   "outputs": [
    {
     "name": "stdout",
     "output_type": "stream",
     "text": [
      "h0: mean:1.1865, std: 0.325\n"
     ]
    }
   ],
   "source": [
    "i = 0 if i>=len(stats) else i\n",
    "print(f\"{stats[i]}: mean:{round(m(e[stats[i]]), 4)}, std: {round(np.std(e[stats[i]]), 4)}\")"
   ]
  },
  {
   "cell_type": "code",
   "execution_count": 335,
   "id": "4df0ec58-421e-431a-bd5b-424b632300c1",
   "metadata": {},
   "outputs": [
    {
     "name": "stdout",
     "output_type": "stream",
     "text": [
      "13.78%, for 203 events, min: 125\n"
     ]
    }
   ],
   "source": [
    "print(f\"{round(np.mean(y)*100, 2)}%, for {len(y)} events, min: {int(np.ceil(len(df)/10000))}\")\n"
   ]
  },
  {
   "cell_type": "code",
   "execution_count": 336,
   "id": "d0da6efd-b686-4b36-8518-d958a0d9447c",
   "metadata": {},
   "outputs": [
    {
     "name": "stdout",
     "output_type": "stream",
     "text": [
      "57.32% winrate\n"
     ]
    }
   ],
   "source": [
    "print(f\"{round((sum(y[y>0])/(sum(abs(y))))*100, 2)}% winrate\")\n"
   ]
  },
  {
   "cell_type": "code",
   "execution_count": 239,
   "id": "948df599-1ae2-4da8-b7ed-6bfc81902614",
   "metadata": {},
   "outputs": [
    {
     "data": {
      "text/plain": [
       "<matplotlib.collections.PathCollection at 0x7f864058e190>"
      ]
     },
     "execution_count": 239,
     "metadata": {},
     "output_type": "execute_result"
    },
    {
     "data": {
      "image/png": "[encoded data removed]",
      "text/plain": [
       "<Figure size 864x144 with 1 Axes>"
      ]
     },
     "metadata": {
      "needs_background": "light"
     },
     "output_type": "display_data"
    }
   ],
   "source": [
    "fig, ax = plt.subplots(figsize=(12,2))\n",
    "y_ = events.reindex(x.index).ret\n",
    "x_ = x.index\n",
    "ax.scatter(x=x_, y=y_, alpha=0.2)"
   ]
  },
  {
   "cell_type": "code",
   "execution_count": 240,
   "id": "99d641a5-a2a0-4958-89b5-2b0b2ff66e68",
   "metadata": {},
   "outputs": [
    {
     "data": {
      "text/plain": [
       "timestamp\n",
       "2017-09-03 13:37:00    1.000000\n",
       "2017-09-05 00:17:00   -1.000000\n",
       "2017-09-09 17:33:00    0.254864\n",
       "2017-09-10 02:35:00   -1.000000\n",
       "2017-09-12 23:10:00    1.000000\n",
       "                         ...   \n",
       "2021-10-13 14:01:00    1.000000\n",
       "2021-10-22 14:00:00   -1.000000\n",
       "2021-10-23 05:05:00   -1.000000\n",
       "2021-11-06 07:27:00    1.000000\n",
       "2021-11-12 01:21:00    1.000000\n",
       "Name: ret, Length: 309, dtype: float64"
      ]
     },
     "execution_count": 240,
     "metadata": {},
     "output_type": "execute_result"
    }
   ],
   "source": [
    "y_"
   ]
  },
  {
   "cell_type": "markdown",
   "id": "aedfcf66-0faf-4f6b-bfc8-5dad11877cc1",
   "metadata": {},
   "source": [
    "## SAVED STRATS"
   ]
  },
  {
   "cell_type": "raw",
   "id": "82a1d56a-4c1a-455d-9141-528d3976fd24",
   "metadata": {},
   "source": [
    "base = e[ (e.index==e.index) \\\n",
    "         & (e.p1>m(e.p1))\\\n",
    "         & (e.v0<m(e.v0))\\\n",
    "#         & (e.v1<m(e.v1)+s(e.v1)) & (e.v1>m(e.v1)-s(e.v1)) \\\n",
    "        ]"
   ]
  },
  {
   "cell_type": "code",
   "execution_count": 1081,
   "id": "3f9013a7-112a-4d3d-b46f-ea7dc4cc98e5",
   "metadata": {},
   "outputs": [],
   "source": [
    "i=400"
   ]
  },
  {
   "cell_type": "code",
   "execution_count": 1082,
   "id": "48e17600-6bd3-4b16-bb96-5b7937207f0e",
   "metadata": {},
   "outputs": [
    {
     "ename": "IndexError",
     "evalue": "index 401 is out of bounds for axis 0 with size 85",
     "output_type": "error",
     "traceback": [
      "\u001b[0;31m---------------------------------------------------------------------------\u001b[0m",
      "\u001b[0;31mIndexError\u001b[0m                                Traceback (most recent call last)",
      "\u001b[0;32m/var/folders/4n/h7p57sb17sn7vtrtjz3m1xhr0000gn/T/ipykernel_1686/3706506597.py\u001b[0m in \u001b[0;36m<module>\u001b[0;34m\u001b[0m\n\u001b[1;32m      1\u001b[0m \u001b[0mi\u001b[0m\u001b[0;34m+=\u001b[0m\u001b[0;36m1\u001b[0m\u001b[0;34m\u001b[0m\u001b[0;34m\u001b[0m\u001b[0m\n\u001b[0;32m----> 2\u001b[0;31m \u001b[0mitem\u001b[0m \u001b[0;34m=\u001b[0m \u001b[0my_\u001b[0m\u001b[0;34m.\u001b[0m\u001b[0mindex\u001b[0m\u001b[0;34m[\u001b[0m\u001b[0mi\u001b[0m\u001b[0;34m]\u001b[0m\u001b[0;34m\u001b[0m\u001b[0;34m\u001b[0m\u001b[0m\n\u001b[0m\u001b[1;32m      3\u001b[0m \u001b[0mfig\u001b[0m\u001b[0;34m,\u001b[0m \u001b[0;34m[\u001b[0m\u001b[0max\u001b[0m\u001b[0;34m,\u001b[0m \u001b[0max1\u001b[0m\u001b[0;34m]\u001b[0m \u001b[0;34m=\u001b[0m \u001b[0mplt\u001b[0m\u001b[0;34m.\u001b[0m\u001b[0msubplots\u001b[0m\u001b[0;34m(\u001b[0m\u001b[0mfigsize\u001b[0m\u001b[0;34m=\u001b[0m\u001b[0;34m(\u001b[0m\u001b[0;36m12\u001b[0m\u001b[0;34m,\u001b[0m\u001b[0;36m4\u001b[0m\u001b[0;34m)\u001b[0m\u001b[0;34m,\u001b[0m \u001b[0mnrows\u001b[0m\u001b[0;34m=\u001b[0m\u001b[0;36m2\u001b[0m\u001b[0;34m)\u001b[0m\u001b[0;34m\u001b[0m\u001b[0;34m\u001b[0m\u001b[0m\n\u001b[1;32m      4\u001b[0m \u001b[0max\u001b[0m\u001b[0;34m.\u001b[0m\u001b[0mplot\u001b[0m\u001b[0;34m(\u001b[0m\u001b[0mdf\u001b[0m\u001b[0;34m.\u001b[0m\u001b[0mloc\u001b[0m\u001b[0;34m[\u001b[0m\u001b[0mitem\u001b[0m\u001b[0;34m-\u001b[0m\u001b[0mpd\u001b[0m\u001b[0;34m.\u001b[0m\u001b[0mTimedelta\u001b[0m\u001b[0;34m(\u001b[0m\u001b[0mhours\u001b[0m\u001b[0;34m=\u001b[0m\u001b[0;36m1\u001b[0m\u001b[0;34m)\u001b[0m\u001b[0;34m:\u001b[0m\u001b[0mitem\u001b[0m\u001b[0;34m+\u001b[0m\u001b[0mpd\u001b[0m\u001b[0;34m.\u001b[0m\u001b[0mTimedelta\u001b[0m\u001b[0;34m(\u001b[0m\u001b[0mhours\u001b[0m\u001b[0;34m=\u001b[0m\u001b[0;36m1\u001b[0m\u001b[0;34m)\u001b[0m\u001b[0;34m]\u001b[0m\u001b[0;34m.\u001b[0m\u001b[0mhigh\u001b[0m\u001b[0;34m,\u001b[0m \u001b[0mc\u001b[0m\u001b[0;34m=\u001b[0m\u001b[0;34m\"green\"\u001b[0m\u001b[0;34m,\u001b[0m \u001b[0malpha\u001b[0m\u001b[0;34m=\u001b[0m\u001b[0;36m0.1\u001b[0m\u001b[0;34m)\u001b[0m\u001b[0;34m\u001b[0m\u001b[0;34m\u001b[0m\u001b[0m\n\u001b[1;32m      5\u001b[0m \u001b[0max\u001b[0m\u001b[0;34m.\u001b[0m\u001b[0mplot\u001b[0m\u001b[0;34m(\u001b[0m\u001b[0mdf\u001b[0m\u001b[0;34m.\u001b[0m\u001b[0mloc\u001b[0m\u001b[0;34m[\u001b[0m\u001b[0mitem\u001b[0m\u001b[0;34m-\u001b[0m\u001b[0mpd\u001b[0m\u001b[0;34m.\u001b[0m\u001b[0mTimedelta\u001b[0m\u001b[0;34m(\u001b[0m\u001b[0mhours\u001b[0m\u001b[0;34m=\u001b[0m\u001b[0;36m1\u001b[0m\u001b[0;34m)\u001b[0m\u001b[0;34m:\u001b[0m\u001b[0mitem\u001b[0m\u001b[0;34m+\u001b[0m\u001b[0mpd\u001b[0m\u001b[0;34m.\u001b[0m\u001b[0mTimedelta\u001b[0m\u001b[0;34m(\u001b[0m\u001b[0mhours\u001b[0m\u001b[0;34m=\u001b[0m\u001b[0;36m1\u001b[0m\u001b[0;34m)\u001b[0m\u001b[0;34m]\u001b[0m\u001b[0;34m.\u001b[0m\u001b[0mclose\u001b[0m\u001b[0;34m,\u001b[0m \u001b[0mc\u001b[0m\u001b[0;34m=\u001b[0m\u001b[0;34m\"black\"\u001b[0m\u001b[0;34m,\u001b[0m \u001b[0malpha\u001b[0m\u001b[0;34m=\u001b[0m\u001b[0;36m0.3\u001b[0m\u001b[0;34m)\u001b[0m\u001b[0;34m\u001b[0m\u001b[0;34m\u001b[0m\u001b[0m\n",
      "\u001b[0;32m/Volumes/Storage/Programming/chart-visualizer/env/lib/python3.9/site-packages/pandas/core/indexes/extension.py\u001b[0m in \u001b[0;36m__getitem__\u001b[0;34m(self, key)\u001b[0m\n\u001b[1;32m    277\u001b[0m \u001b[0;34m\u001b[0m\u001b[0m\n\u001b[1;32m    278\u001b[0m     \u001b[0;32mdef\u001b[0m \u001b[0m__getitem__\u001b[0m\u001b[0;34m(\u001b[0m\u001b[0mself\u001b[0m\u001b[0;34m,\u001b[0m \u001b[0mkey\u001b[0m\u001b[0;34m)\u001b[0m\u001b[0;34m:\u001b[0m\u001b[0;34m\u001b[0m\u001b[0;34m\u001b[0m\u001b[0m\n\u001b[0;32m--> 279\u001b[0;31m         \u001b[0mresult\u001b[0m \u001b[0;34m=\u001b[0m \u001b[0mself\u001b[0m\u001b[0;34m.\u001b[0m\u001b[0m_data\u001b[0m\u001b[0;34m[\u001b[0m\u001b[0mkey\u001b[0m\u001b[0;34m]\u001b[0m\u001b[0;34m\u001b[0m\u001b[0;34m\u001b[0m\u001b[0m\n\u001b[0m\u001b[1;32m    280\u001b[0m         \u001b[0;32mif\u001b[0m \u001b[0misinstance\u001b[0m\u001b[0;34m(\u001b[0m\u001b[0mresult\u001b[0m\u001b[0;34m,\u001b[0m \u001b[0mtype\u001b[0m\u001b[0;34m(\u001b[0m\u001b[0mself\u001b[0m\u001b[0;34m.\u001b[0m\u001b[0m_data\u001b[0m\u001b[0;34m)\u001b[0m\u001b[0;34m)\u001b[0m\u001b[0;34m:\u001b[0m\u001b[0;34m\u001b[0m\u001b[0;34m\u001b[0m\u001b[0m\n\u001b[1;32m    281\u001b[0m             \u001b[0;32mif\u001b[0m \u001b[0mresult\u001b[0m\u001b[0;34m.\u001b[0m\u001b[0mndim\u001b[0m \u001b[0;34m==\u001b[0m \u001b[0;36m1\u001b[0m\u001b[0;34m:\u001b[0m\u001b[0;34m\u001b[0m\u001b[0;34m\u001b[0m\u001b[0m\n",
      "\u001b[0;32m/Volumes/Storage/Programming/chart-visualizer/env/lib/python3.9/site-packages/pandas/core/arrays/datetimelike.py\u001b[0m in \u001b[0;36m__getitem__\u001b[0;34m(self, key)\u001b[0m\n\u001b[1;32m    320\u001b[0m         \u001b[0monly\u001b[0m \u001b[0mhandle\u001b[0m \u001b[0mlist\u001b[0m\u001b[0;34m-\u001b[0m\u001b[0mlikes\u001b[0m\u001b[0;34m,\u001b[0m \u001b[0mslices\u001b[0m\u001b[0;34m,\u001b[0m \u001b[0;32mand\u001b[0m \u001b[0minteger\u001b[0m \u001b[0mscalars\u001b[0m\u001b[0;34m\u001b[0m\u001b[0;34m\u001b[0m\u001b[0m\n\u001b[1;32m    321\u001b[0m         \"\"\"\n\u001b[0;32m--> 322\u001b[0;31m         \u001b[0mresult\u001b[0m \u001b[0;34m=\u001b[0m \u001b[0msuper\u001b[0m\u001b[0;34m(\u001b[0m\u001b[0;34m)\u001b[0m\u001b[0;34m.\u001b[0m\u001b[0m__getitem__\u001b[0m\u001b[0;34m(\u001b[0m\u001b[0mkey\u001b[0m\u001b[0;34m)\u001b[0m\u001b[0;34m\u001b[0m\u001b[0;34m\u001b[0m\u001b[0m\n\u001b[0m\u001b[1;32m    323\u001b[0m         \u001b[0;32mif\u001b[0m \u001b[0mlib\u001b[0m\u001b[0;34m.\u001b[0m\u001b[0mis_scalar\u001b[0m\u001b[0;34m(\u001b[0m\u001b[0mresult\u001b[0m\u001b[0;34m)\u001b[0m\u001b[0;34m:\u001b[0m\u001b[0;34m\u001b[0m\u001b[0;34m\u001b[0m\u001b[0m\n\u001b[1;32m    324\u001b[0m             \u001b[0;32mreturn\u001b[0m \u001b[0mresult\u001b[0m\u001b[0;34m\u001b[0m\u001b[0;34m\u001b[0m\u001b[0m\n",
      "\u001b[0;32m/Volumes/Storage/Programming/chart-visualizer/env/lib/python3.9/site-packages/pandas/core/arrays/_mixins.py\u001b[0m in \u001b[0;36m__getitem__\u001b[0;34m(self, key)\u001b[0m\n\u001b[1;32m    192\u001b[0m         \u001b[0;32mif\u001b[0m \u001b[0mlib\u001b[0m\u001b[0;34m.\u001b[0m\u001b[0mis_integer\u001b[0m\u001b[0;34m(\u001b[0m\u001b[0mkey\u001b[0m\u001b[0;34m)\u001b[0m\u001b[0;34m:\u001b[0m\u001b[0;34m\u001b[0m\u001b[0;34m\u001b[0m\u001b[0m\n\u001b[1;32m    193\u001b[0m             \u001b[0;31m# fast-path\u001b[0m\u001b[0;34m\u001b[0m\u001b[0;34m\u001b[0m\u001b[0m\n\u001b[0;32m--> 194\u001b[0;31m             \u001b[0mresult\u001b[0m \u001b[0;34m=\u001b[0m \u001b[0mself\u001b[0m\u001b[0;34m.\u001b[0m\u001b[0m_ndarray\u001b[0m\u001b[0;34m[\u001b[0m\u001b[0mkey\u001b[0m\u001b[0;34m]\u001b[0m\u001b[0;34m\u001b[0m\u001b[0;34m\u001b[0m\u001b[0m\n\u001b[0m\u001b[1;32m    195\u001b[0m             \u001b[0;32mif\u001b[0m \u001b[0mself\u001b[0m\u001b[0;34m.\u001b[0m\u001b[0mndim\u001b[0m \u001b[0;34m==\u001b[0m \u001b[0;36m1\u001b[0m\u001b[0;34m:\u001b[0m\u001b[0;34m\u001b[0m\u001b[0;34m\u001b[0m\u001b[0m\n\u001b[1;32m    196\u001b[0m                 \u001b[0;32mreturn\u001b[0m \u001b[0mself\u001b[0m\u001b[0;34m.\u001b[0m\u001b[0m_box_func\u001b[0m\u001b[0;34m(\u001b[0m\u001b[0mresult\u001b[0m\u001b[0;34m)\u001b[0m\u001b[0;34m\u001b[0m\u001b[0;34m\u001b[0m\u001b[0m\n",
      "\u001b[0;31mIndexError\u001b[0m: index 401 is out of bounds for axis 0 with size 85"
     ]
    }
   ],
   "source": [
    "i+=1\n",
    "item = y_.index[i]\n",
    "fig, [ax, ax1] = plt.subplots(figsize=(12,4), nrows=2)\n",
    "ax.plot(df.loc[item-pd.Timedelta(hours=1):item+pd.Timedelta(hours=1)].high, c=\"green\", alpha=0.1)\n",
    "ax.plot(df.loc[item-pd.Timedelta(hours=1):item+pd.Timedelta(hours=1)].close, c=\"black\", alpha=0.3)\n",
    "ax.plot(df.loc[item-pd.Timedelta(hours=1):item+pd.Timedelta(hours=1)].low, c=\"red\", alpha=0.1)\n",
    "\n",
    "ax.plot(df.loc[item-pd.Timedelta(hours=1):item].kc_upper, c=\"black\", alpha=0.3)\n",
    "ax.plot(df.loc[item-pd.Timedelta(hours=1):item].kc_middle, c=\"black\", alpha=0.3)\n",
    "ax.plot(df.loc[item-pd.Timedelta(hours=1):item].kc_lower, c=\"black\", alpha=0.3)\n",
    "\n",
    "ax.plot(df.loc[item:events.loc[item].t1].close, c=\"orange\", alpha=1)\n",
    "\n",
    "ax.plot(df.loc[item-pd.Timedelta(hours=1):item+pd.Timedelta(hours=1)].low, c=\"red\", alpha=0.1)\n",
    "ax.axhline(df.loc[item].kc_lower, c=\"gray\", alpha=0.5, xmin=0.5)\n",
    "ax.axhline(df.loc[item].kc_middle, c=\"green\", alpha=0.5, xmin=0.5)\n",
    "ax.axhline(df.loc[item].kc_lower-(df.loc[item].kc_middle-df.loc[item].kc_lower), c=\"red\", alpha=0.5, xmin=0.5)\n",
    "\n",
    "# ax1 = ax.twinx()\n",
    "ax1.plot(df.loc[item-pd.Timedelta(hours=1):item+pd.Timedelta(hours=1)].macd, c=\"purple\", alpha=0.5)\n",
    "ax1.axhline(0, c=\"purple\", alpha=0.3)\n",
    "# ax.axhline(df.loc[item].close*events.loc[item].trgt+df.loc[item].close, c=\"green\", alpha=0.2)\n",
    "# ax.axhline(-df.loc[item].close*events.loc[item].trgt+df.loc[item].close, c=\"red\", alpha=0.2)\n"
   ]
  },
  {
   "cell_type": "markdown",
   "id": "09913d07-e849-4c59-8392-34be87801d21",
   "metadata": {},
   "source": [
    "## Research to see if macd should be done on minutely or hourly, seems like hourly"
   ]
  },
  {
   "cell_type": "code",
   "execution_count": 7,
   "id": "1b82f978-1f37-4eee-8ff5-1f998f157aea",
   "metadata": {},
   "outputs": [],
   "source": [
    "df[\"macd\"] = ta.macd(df.close, fast=3*60, slow=10*60, signal=16*60, result=\"hist\")\n",
    "dfh[\"macd\"] = ta.macd(dfh.close, result=\"hist\")"
   ]
  },
  {
   "cell_type": "code",
   "execution_count": 13,
   "id": "2dc0650e-66da-4e17-92f5-ef797f48567b",
   "metadata": {},
   "outputs": [
    {
     "data": {
      "text/plain": [
       "[<matplotlib.lines.Line2D at 0x7fc69fab5be0>]"
      ]
     },
     "execution_count": 13,
     "metadata": {},
     "output_type": "execute_result"
    },
    {
     "data": {
      "image/png": "[encoded data removed]",
      "text/plain": [
       "<Figure size 864x288 with 1 Axes>"
      ]
     },
     "metadata": {
      "needs_background": "light"
     },
     "output_type": "display_data"
    }
   ],
   "source": [
    "a = dfh.index[-1000]\n",
    "b = dfh.index[-900]\n",
    "fig, ax = plt.subplots(figsize=(12,4))\n",
    "ax.plot(df.loc[a:b].macd, c=\"green\", alpha=0.5)\n",
    "ax.plot(dfh.loc[a:b].macd, c=\"red\", alpha=0.3)"
   ]
  },
  {
   "cell_type": "code",
   "execution_count": 14,
   "id": "8c209f7b-329f-4282-b9fb-8018ab645284",
   "metadata": {},
   "outputs": [
    {
     "data": {
      "text/plain": [
       "open      44788.420000\n",
       "high      44845.000000\n",
       "low       44773.000000\n",
       "close     44783.180000\n",
       "volume       85.944880\n",
       "macd        162.685982\n",
       "Name: 2021-10-01 08:00:00, dtype: float64"
      ]
     },
     "execution_count": 14,
     "metadata": {},
     "output_type": "execute_result"
    }
   ],
   "source": [
    "df.loc[a]"
   ]
  },
  {
   "cell_type": "code",
   "execution_count": 15,
   "id": "adc52d2c-7853-4f73-80fc-e3d9bb820bcb",
   "metadata": {},
   "outputs": [
    {
     "data": {
      "text/plain": [
       "open      44788.420000\n",
       "high      44999.000000\n",
       "low       44700.000000\n",
       "close     44945.800000\n",
       "volume     2953.837140\n",
       "macd        442.023187\n",
       "Name: 2021-10-01 08:00:00, dtype: float64"
      ]
     },
     "execution_count": 15,
     "metadata": {},
     "output_type": "execute_result"
    }
   ],
   "source": [
    "dfh.loc[a]"
   ]
  },
  {
   "cell_type": "code",
   "execution_count": null,
   "id": "30f804b1-2cc3-42da-a2bc-8ec7f3a5f033",
   "metadata": {},
   "outputs": [],
   "source": [
    "e[ (e.k0==e.k0) \\\n",
    "        & (e.p2>m(e.p2))\n",
    "#         & (e.p1>m(e.p1))\n",
    "#         & (e.p0>m(e.p0))\n",
    "#         & (e.k6>m(e.k6)+s(e.k6))\\\n",
    "#         & (e.k7>m(e.k7)+s(e.k7))\\\n",
    "        ]"
   ]
  },
  {
   "cell_type": "code",
   "execution_count": null,
   "id": "4266e404-cddd-4374-81c0-6bbfe6e3e1bc",
   "metadata": {},
   "outputs": [],
   "source": [
    "[ (e.index==e.index) \\\n",
    "        & (e.p2>m(e.p2)) \\\n",
    "        & (e.k3<m(e.k3)) \\\n",
    "#          & (e.k3>m(e.k3)-s(e.k3))\n",
    "#         & (e.m0>m(e.m0))\n",
    "#         & (e.k6>m(e.k6)+s(e.k6))\\\n",
    "#         & (e.k7>m(e.k7)+s(e.k7))\\\n",
    "        ]"
   ]
  },
  {
   "cell_type": "code",
   "execution_count": null,
   "id": "aff22b0c-1a34-4723-be92-da218430e360",
   "metadata": {},
   "outputs": [],
   "source": [
    "e[ (e.index==e.index) \\\n",
    "        & (e.p2>0.5*m(e.p2)) \\\n",
    "        & (e.k3<m(e.k3)) \\\n",
    "#          & (e.k3>m(e.k3)-s(e.k3))\n",
    "#         & (e.m0>m(e.m0))\n",
    "#         & (e.k6>m(e.k6)+s(e.k6))\\\n",
    "#         & (e.k7>m(e.k7)+s(e.k7))\\\n",
    "        ]"
   ]
  },
  {
   "cell_type": "code",
   "execution_count": null,
   "id": "65cb3ab1-3a92-4e79-a2fe-c08d379e3972",
   "metadata": {},
   "outputs": [],
   "source": [
    "e[ (e.index==e.index) \\\n",
    "        & ((e.m2<m(e.m2)-s(e.m2)) \\\n",
    "        | (e.m1<m(e.m1)-s(e.m1))) \\\n",
    "        & (e.t1>m(e.t1)-s(e.t1)) \\\n",
    "#         & (e.m0>m(e.m0))\n",
    "#         & (e.k6>m(e.k6)+s(e.k6))\\\n",
    "#         & (e.k7>m(e.k7)+s(e.k7))\\\n",
    "        ]"
   ]
  },
  {
   "cell_type": "code",
   "execution_count": null,
   "id": "07fe0052-a105-48e9-aa3d-b0af80fafa7a",
   "metadata": {},
   "outputs": [],
   "source": [
    "e[ (e.index==e.index) & ((e.t0<m(e.t0)+s(e.t0)) | (e.t0>m(e.t0)-s(e.t0))) & ((e.t1<m(e.t1)+s(e.t1)) | (e.t1>m(e.t1)-s(e.t1))) & (e.p1>m(e.p1))]\n"
   ]
  }
 ],
 "metadata": {
  "kernelspec": {
   "display_name": "Python 3 (ipykernel)",
   "language": "python",
   "name": "python3"
  },
  "language_info": {
   "codemirror_mode": {
    "name": "ipython",
    "version": 3
   },
   "file_extension": ".py",
   "mimetype": "text/x-python",
   "name": "python",
   "nbconvert_exporter": "python",
   "pygments_lexer": "ipython3",
   "version": "3.9.7"
  }
 },
 "nbformat": 4,
 "nbformat_minor": 5
}

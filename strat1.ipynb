{
 "cells": [
  {
   "cell_type": "markdown",
   "id": "3095f243-e11e-40a7-b5a0-ffe31d7197d0",
   "metadata": {},
   "source": [
    "# Strat1\n",
    "1. If average z-score is high compared to BTC\n",
    "2. If currently in an uptrend (macro)\n",
    "3. Is on uptrend (daily)\n",
    "4. Current uptrend average volume is less than previous uptrend\n",
    "5. Buy on get_daily_vol's downtick"
   ]
  },
  {
   "cell_type": "code",
   "execution_count": 1,
   "id": "11f1fa95-7bef-42dc-b952-148df158dc25",
   "metadata": {},
   "outputs": [],
   "source": [
    "from binance.client import Client\n",
    "from downloader import Downloader\n",
    "import matplotlib.pyplot as plt\n",
    "dl = Downloader()\n",
    "import pandas as pd\n",
    "import time\n",
    "from datetime import datetime\n",
    "import numpy as np\n",
    "import statsmodels.formula.api as sm\n",
    "import math\n",
    "import metalabeller as ml"
   ]
  },
  {
   "cell_type": "code",
   "execution_count": 83,
   "id": "85665a25-8350-4879-aeb5-0e5a7c7aca37",
   "metadata": {},
   "outputs": [],
   "source": [
    "df = dl.get_working_data(\"ATOMUSDT\")\n",
    "dfbtc = dl.get_working_data(\"BTCUSDT\")"
   ]
  },
  {
   "cell_type": "code",
   "execution_count": 76,
   "id": "108ee86a-a4ac-4a1d-a092-f57b32a30187",
   "metadata": {},
   "outputs": [],
   "source": [
    "def trends(df):\n",
    "    ind = df.open.diff()\n",
    "    ind.loc[ind>0] = 1\n",
    "    ind.loc[ind<=0] = -1\n",
    "    ind.iloc[0]=-1\n",
    "    return ind"
   ]
  },
  {
   "cell_type": "code",
   "execution_count": 77,
   "id": "e6ea2009-da4f-4c6c-8ca6-59a9bfe976c5",
   "metadata": {},
   "outputs": [],
   "source": [
    "df1 = df.resample('18H').agg({'open': 'first', \n",
    "                        'high': 'max', \n",
    "                        'low': 'min', \n",
    "                        'close': 'last',\n",
    "                        'volume':'sum'})\n",
    "df2 = df.resample('4H').agg({'open': 'first', \n",
    "                        'high': 'max', \n",
    "                        'low': 'min', \n",
    "                        'close': 'last',\n",
    "                        'volume':'sum'})"
   ]
  },
  {
   "cell_type": "code",
   "execution_count": 128,
   "id": "b9570f19-210e-4933-9fe3-54f8f413316a",
   "metadata": {},
   "outputs": [],
   "source": [
    "df1[\"trend\"] = trends(df1)\n",
    "df2[\"trend\"] = trends(df2)"
   ]
  },
  {
   "cell_type": "code",
   "execution_count": 151,
   "id": "073d3c3a-a1ae-4b6b-993c-8910c833792c",
   "metadata": {},
   "outputs": [],
   "source": [
    "df1_ = df1.index.searchsorted(t_events)-1\n",
    "li = l.index\n",
    "df2_ = df2.index.searchsorted(t_events)-1\n",
    "si = s.index\n",
    "side = []\n",
    "for i in range(len(t_events)):\n",
    "    if df1.loc[li[df1_[i]]].trend == 1:\n",
    "        if (df2.loc[si[df2_[i]]].trend == -1): \n",
    "            if (df1.loc[li[df1_[i]]].volume < df1.loc[li[df1_[i]-1]].volume):\n",
    "                side.append(1)\n",
    "            else: side.append(0)\n",
    "        else: side.append(0)\n",
    "#     elif l[dfl_[i]] == -1:\n",
    "#         if s[dfs_[i]] == 1: side.append(-1)\n",
    "#         else: side.append(0)\n",
    "    else: side.append(0)\n",
    "side = pd.Series(side, index=t_events)"
   ]
  },
  {
   "cell_type": "code",
   "execution_count": 6,
   "id": "944703ea-2d29-4a87-99b0-271512593164",
   "metadata": {},
   "outputs": [
    {
     "data": {
      "text/plain": [
       "timestamp\n",
       "2019-04-29 00:00:00      NaN\n",
       "2019-04-29 18:00:00   -0.938\n",
       "2019-04-30 12:00:00    0.062\n",
       "2019-05-01 06:00:00    0.297\n",
       "2019-05-02 00:00:00    0.215\n",
       "                       ...  \n",
       "2021-10-16 12:00:00    1.190\n",
       "2021-10-17 06:00:00   -0.750\n",
       "2021-10-18 00:00:00   -1.110\n",
       "2021-10-18 18:00:00   -1.000\n",
       "2021-10-19 12:00:00    2.530\n",
       "Freq: 18H, Name: open, Length: 1207, dtype: float64"
      ]
     },
     "execution_count": 6,
     "metadata": {},
     "output_type": "execute_result"
    }
   ],
   "source": [
    "df.open.diff()"
   ]
  },
  {
   "cell_type": "code",
   "execution_count": 8,
   "id": "bced0ff1-e315-473b-8f50-569fa2161ce8",
   "metadata": {},
   "outputs": [
    {
     "name": "stdout",
     "output_type": "stream",
     "text": [
      "nan\n",
      "-0.9379999999999997\n",
      "0.06199999999999983\n",
      "0.29700000000000015\n",
      "0.21499999999999986\n"
     ]
    }
   ],
   "source": [
    "for i in df.open.diff()[:5]:\n",
    "    print(i)"
   ]
  },
  {
   "cell_type": "markdown",
   "id": "c0f323d1-f2c3-4a21-bc28-63842ab885bb",
   "metadata": {},
   "source": [
    "## Template"
   ]
  },
  {
   "cell_type": "code",
   "execution_count": null,
   "id": "2a33c35d-d631-4fb6-8c8c-a180cf986cc4",
   "metadata": {},
   "outputs": [],
   "source": [
    "df = df.resample('1H').agg({'open': 'first', \n",
    "                        'high': 'max', \n",
    "                        'low': 'min', \n",
    "                        'close': 'last',\n",
    "                        'volume':'sum'})"
   ]
  },
  {
   "cell_type": "code",
   "execution_count": 31,
   "id": "af8473b5-90bf-4cd8-b537-11f79fe967ae",
   "metadata": {},
   "outputs": [
    {
     "name": "stdout",
     "output_type": "stream",
     "text": [
      "verify that get_vertical_barrier works as expected, use above code\n",
      "remove above remove duplicates code with BTC data and see if it works\n"
     ]
    }
   ],
   "source": [
    "vol = ml.get_daily_vol(df.open)\n",
    "t_events = ml.get_t_events(df.open, vol, 0.02)\n",
    "t1 = ml.get_vertical_barrier(df.open, t_events, 2)"
   ]
  },
  {
   "cell_type": "code",
   "execution_count": null,
   "id": "3ee066c7-02ff-4368-9285-9080ecebab83",
   "metadata": {
    "tags": []
   },
   "outputs": [],
   "source": [
    "side = pd.Series(np.random.randint(-1, 2, len(t_events)), index=t_events)"
   ]
  },
  {
   "cell_type": "code",
   "execution_count": 154,
   "id": "36dc1e35-02aa-4ffd-8be5-f1a2073b08fd",
   "metadata": {
    "tags": []
   },
   "outputs": [],
   "source": [
    "ptsl = [1,1]\n",
    "min_ret = 0.00\n",
    "    \n",
    "events = ml.get_events(df.open,t_events,ptsl,vol,min_ret,1,t1=t1,side=side)\n",
    "labels = ml.get_bins(events, df.open, t1)"
   ]
  },
  {
   "cell_type": "code",
   "execution_count": 155,
   "id": "aca372ea-c0ff-4140-a65d-fa0356eaf041",
   "metadata": {},
   "outputs": [
    {
     "data": {
      "image/png": "[encoded data removed]",
      "text/plain": [
       "<Figure size 432x288 with 1 Axes>"
      ]
     },
     "metadata": {
      "needs_background": "light"
     },
     "output_type": "display_data"
    }
   ],
   "source": [
    "labels = labels[labels.ret != 0]\n",
    "fig, ax = plt.subplots()\n",
    "ax.set_title('profitability distribution')\n",
    "ax.hist(labels.ret)\n",
    "plt.show()"
   ]
  },
  {
   "cell_type": "code",
   "execution_count": 82,
   "id": "b2c37392-4eea-4f71-bad2-fb7cd92ac375",
   "metadata": {},
   "outputs": [
    {
     "data": {
      "text/plain": [
       "0.0034406470942478827"
      ]
     },
     "execution_count": 82,
     "metadata": {},
     "output_type": "execute_result"
    }
   ],
   "source": [
    "labels.ret.mean()"
   ]
  },
  {
   "cell_type": "code",
   "execution_count": null,
   "id": "4669a227-4e82-44e8-9ed3-a83654a8bd43",
   "metadata": {},
   "outputs": [],
   "source": [
    "new = pd.to_numeric(events.t1-events.index)/86400000000000\n",
    "new.hist()"
   ]
  }
 ],
 "metadata": {
  "kernelspec": {
   "display_name": "Python 3 (ipykernel)",
   "language": "python",
   "name": "python3"
  },
  "language_info": {
   "codemirror_mode": {
    "name": "ipython",
    "version": 3
   },
   "file_extension": ".py",
   "mimetype": "text/x-python",
   "name": "python",
   "nbconvert_exporter": "python",
   "pygments_lexer": "ipython3",
   "version": "3.9.7"
  }
 },
 "nbformat": 4,
 "nbformat_minor": 5
}
